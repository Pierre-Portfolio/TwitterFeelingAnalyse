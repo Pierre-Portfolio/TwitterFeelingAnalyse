{
 "cells": [
  {
   "cell_type": "markdown",
   "id": "3fde019e",
   "metadata": {},
   "source": [
    "# NLP"
   ]
  },
  {
   "cell_type": "code",
   "execution_count": 13,
   "id": "ad338ac5",
   "metadata": {},
   "outputs": [],
   "source": [
    "import os\n",
    "from nltk.tag import UnigramTagger\n",
    "from nltk.corpus import treebank\n",
    "from nltk.tokenize import word_tokenize\n",
    "from nltk.corpus import sentiwordnet as swn\n",
    "import pandas as pd"
   ]
  },
  {
   "cell_type": "code",
   "execution_count": 8,
   "id": "6a26d262",
   "metadata": {},
   "outputs": [],
   "source": [
    "train_sents = treebank.tagged_sents()[:3000]\n",
    "tagger = UnigramTagger(train_sents)"
   ]
  },
  {
   "cell_type": "code",
   "execution_count": 10,
   "id": "25ed89b3",
   "metadata": {},
   "outputs": [],
   "source": [
    "path_neg=r'D:\\OneDrive - De Vinci\\ESILV\\A5\\Machine_learning_NLP\\wp2\\txt_sentoken\\neg'\n",
    "path_pos=r'D:\\OneDrive - De Vinci\\ESILV\\A5\\Machine_learning_NLP\\wp2\\txt_sentoken\\pos'\n",
    "\n",
    "path=r'twitter_data_161122.csv'\n",
    "\n",
    "pos_reviews =os.listdir(path_pos)\n",
    "neg_reviews =os.listdir(path_neg)"
   ]
  },
  {
   "cell_type": "code",
   "execution_count": 21,
   "id": "81ffc3df",
   "metadata": {},
   "outputs": [
    {
     "data": {
      "text/html": [
       "<div>\n",
       "<style scoped>\n",
       "    .dataframe tbody tr th:only-of-type {\n",
       "        vertical-align: middle;\n",
       "    }\n",
       "\n",
       "    .dataframe tbody tr th {\n",
       "        vertical-align: top;\n",
       "    }\n",
       "\n",
       "    .dataframe thead th {\n",
       "        text-align: right;\n",
       "    }\n",
       "</style>\n",
       "<table border=\"1\" class=\"dataframe\">\n",
       "  <thead>\n",
       "    <tr style=\"text-align: right;\">\n",
       "      <th></th>\n",
       "      <th>Datetime</th>\n",
       "      <th>Tweet Id</th>\n",
       "      <th>Text</th>\n",
       "      <th>Username</th>\n",
       "    </tr>\n",
       "  </thead>\n",
       "  <tbody>\n",
       "    <tr>\n",
       "      <th>0</th>\n",
       "      <td>2022-11-16 23:59:43+00:00</td>\n",
       "      <td>1593031089961869315</td>\n",
       "      <td>@Guy_Smiley_73 @houndfucker @Indiekindoflife @...</td>\n",
       "      <td>julinnette1</td>\n",
       "    </tr>\n",
       "    <tr>\n",
       "      <th>1</th>\n",
       "      <td>2022-11-16 23:59:33+00:00</td>\n",
       "      <td>1593031045934301185</td>\n",
       "      <td>GL:Well, don’t commit suicide.「自殺しないことです」(S1E1)</td>\n",
       "      <td>Sherlock_meigen</td>\n",
       "    </tr>\n",
       "    <tr>\n",
       "      <th>2</th>\n",
       "      <td>2022-11-16 23:59:20+00:00</td>\n",
       "      <td>1593030994600538112</td>\n",
       "      <td>@RealGomezMedia @iblockliberals @WickedR3coil ...</td>\n",
       "      <td>SIRLIGHTANGEL</td>\n",
       "    </tr>\n",
       "    <tr>\n",
       "      <th>3</th>\n",
       "      <td>2022-11-16 23:59:06+00:00</td>\n",
       "      <td>1593030935087575041</td>\n",
       "      <td>@Brjl_ おはよ！</td>\n",
       "      <td>Suicide429</td>\n",
       "    </tr>\n",
       "    <tr>\n",
       "      <th>4</th>\n",
       "      <td>2022-11-16 23:59:04+00:00</td>\n",
       "      <td>1593030924585021440</td>\n",
       "      <td>whilst i do not encourage misogyny: misandry k...</td>\n",
       "      <td>darthpilled</td>\n",
       "    </tr>\n",
       "  </tbody>\n",
       "</table>\n",
       "</div>"
      ],
      "text/plain": [
       "                    Datetime             Tweet Id  \\\n",
       "0  2022-11-16 23:59:43+00:00  1593031089961869315   \n",
       "1  2022-11-16 23:59:33+00:00  1593031045934301185   \n",
       "2  2022-11-16 23:59:20+00:00  1593030994600538112   \n",
       "3  2022-11-16 23:59:06+00:00  1593030935087575041   \n",
       "4  2022-11-16 23:59:04+00:00  1593030924585021440   \n",
       "\n",
       "                                                Text         Username  \n",
       "0  @Guy_Smiley_73 @houndfucker @Indiekindoflife @...      julinnette1  \n",
       "1    GL:Well, don’t commit suicide.「自殺しないことです」(S1E1)  Sherlock_meigen  \n",
       "2  @RealGomezMedia @iblockliberals @WickedR3coil ...    SIRLIGHTANGEL  \n",
       "3                                        @Brjl_ おはよ！       Suicide429  \n",
       "4  whilst i do not encourage misogyny: misandry k...      darthpilled  "
      ]
     },
     "execution_count": 21,
     "metadata": {},
     "output_type": "execute_result"
    }
   ],
   "source": [
    "df = pd.read_csv(path,sep=',',encoding='utf-8')\n",
    "df.head()"
   ]
  },
  {
   "cell_type": "code",
   "execution_count": 22,
   "id": "6d7c262f",
   "metadata": {},
   "outputs": [
    {
     "name": "stdout",
     "output_type": "stream",
     "text": [
      "@Guy_Smiley_73 @houndfucker @Indiekindoflife @AlessandraVaron But they do! They’re the reason that the suicide rate in the lgbt community is higher and that’s just a fact\n"
     ]
    }
   ],
   "source": [
    "test=df.loc[0]['Text']\n",
    "print(test)"
   ]
  },
  {
   "cell_type": "code",
   "execution_count": 56,
   "id": "d9928ff2",
   "metadata": {},
   "outputs": [],
   "source": [
    "def Predire(text):\n",
    "    '''\n",
    "    if type=='adverbe':\n",
    "        Ltag=['RB','RBR','RBS','RBW']\n",
    "        senti='r'\n",
    "    elif type=='verbe':\n",
    "        Ltag=['VB','VBD','VBG','VBN','VBP','VBZ']\n",
    "        senti='v'\n",
    "    '''\n",
    "\n",
    "\n",
    "    texte=word_tokenize(text)\n",
    "    L=set()\n",
    "    tag=tagger.tag(texte)\n",
    "\n",
    "    for t in tag:\n",
    "        L.add(t[0])\n",
    "        #print(t[0])\n",
    "\n",
    "    pos_score=0\n",
    "    neg_score=0\n",
    "\n",
    "    for adv in L:\n",
    "        adv_senti = list(swn.senti_synsets(adv))\n",
    "        if len(adv_senti)!=0:\n",
    "            #print(adv_senti[0])\n",
    "            pos_score+=adv_senti[0].pos_score()\n",
    "            neg_score+=adv_senti[0].neg_score()\n",
    "\n",
    "\n",
    "    res=''\n",
    "    if pos_score > neg_score:\n",
    "        res='pos'\n",
    "    elif pos_score < neg_score:\n",
    "        res='neg'\n",
    "\n",
    "    return res,pos_score,neg_score"
   ]
  },
  {
   "cell_type": "code",
   "execution_count": 31,
   "id": "debccbee",
   "metadata": {},
   "outputs": [
    {
     "data": {
      "text/plain": [
       "('pos', 1.375, 0.25)"
      ]
     },
     "execution_count": 31,
     "metadata": {},
     "output_type": "execute_result"
    }
   ],
   "source": [
    "Predire(test,'adverbe')"
   ]
  },
  {
   "cell_type": "code",
   "execution_count": 58,
   "id": "7cb5d34a",
   "metadata": {},
   "outputs": [
    {
     "name": "stdout",
     "output_type": "stream",
     "text": [
      "--------------\n",
      "@Guy_Smiley_73 @houndfucker @Indiekindoflife @AlessandraVaron But they do! They’re the reason that the suicide rate in the lgbt community is higher and that’s just a fact\n",
      "('pos', 1.375, 0.25)\n",
      "--------------\n",
      "--------------\n",
      "GL:Well, don’t commit suicide.「自殺しないことです」(S1E1)\n",
      "('pos', 0.125, 0.0)\n",
      "--------------\n",
      "--------------\n",
      "@RealGomezMedia @iblockliberals @WickedR3coil @PoliticalyAwake That's assuming they don't commit suicide before catching up to you.\n",
      "('neg', 0.0, 0.375)\n",
      "--------------\n",
      "--------------\n",
      "@Brjl_ おはよ！\n",
      "('', 0, 0)\n",
      "--------------\n",
      "--------------\n",
      "whilst i do not encourage misogyny: misandry kills, you may see this truth reflected on the likeliness of male suicide. i can truly empathise with transgender individuals (of any gender) because they know exactly what's up. don't forget check up on a friend this month.\n",
      "('pos', 2.875, 1.0)\n",
      "--------------\n",
      "--------------\n",
      "This is watching people commit suicide.\n",
      "👿👿👿👿👿👿👿👿👿 https://t.co/P1mrr7dNSi\n",
      "('pos', 0.25, 0.125)\n",
      "--------------\n",
      "--------------\n",
      "@_0knj3 おはよ！\n",
      "('', 0, 0)\n",
      "--------------\n",
      "--------------\n",
      "@DatCatDer @xrpeelz Somebody drop into this guy’s Reddit DMs and send him over to talk to us. Reddit will just push him to suicide\n",
      "('pos', 0.875, 0.75)\n",
      "--------------\n",
      "--------------\n",
      "This therapist is terrible. “Could this be about your mother’s suicide?” NO BITCH! It’s the one I just damn witnessed!\n",
      "\n",
      "#SmileMovie https://t.co/38lrk7wePk\n",
      "('neg', 1.0, 1.875)\n",
      "--------------\n",
      "--------------\n",
      "@rjm0_ おはよ！\n",
      "('', 0, 0)\n",
      "--------------\n"
     ]
    }
   ],
   "source": [
    "for i in range(10):\n",
    "    print('--------------')\n",
    "    print(df.loc[i]['Text'])\n",
    "    print(Predire(df.loc[i]['Text']))\n",
    "    print('--------------')"
   ]
  },
  {
   "cell_type": "code",
   "execution_count": 59,
   "id": "da794d7d",
   "metadata": {},
   "outputs": [
    {
     "name": "stdout",
     "output_type": "stream",
     "text": [
      "total=  18992\n",
      "7117 6991 4884\n"
     ]
    }
   ],
   "source": [
    "pos=0\n",
    "neg=0\n",
    "neutre=0\n",
    "for index,row in df.iterrows():\n",
    "    if Predire(row['Text'])[0] == 'pos':\n",
    "        pos+=1\n",
    "    elif Predire(row['Text'])[0] == 'neg':\n",
    "        neg+=1\n",
    "    else:\n",
    "        neutre+=1\n",
    "\n",
    "print('total= ', len(df))\n",
    "print(pos,neg,neutre)"
   ]
  }
 ],
 "metadata": {
  "kernelspec": {
   "display_name": "Python 3 (ipykernel)",
   "language": "python",
   "name": "python3"
  },
  "language_info": {
   "codemirror_mode": {
    "name": "ipython",
    "version": 3
   },
   "file_extension": ".py",
   "mimetype": "text/x-python",
   "name": "python",
   "nbconvert_exporter": "python",
   "pygments_lexer": "ipython3",
   "version": "3.9.13"
  }
 },
 "nbformat": 4,
 "nbformat_minor": 5
}
