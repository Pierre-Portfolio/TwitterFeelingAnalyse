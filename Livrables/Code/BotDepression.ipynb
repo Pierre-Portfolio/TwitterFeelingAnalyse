{
 "cells": [
  {
   "cell_type": "code",
   "execution_count": 77,
   "id": "55e470dc",
   "metadata": {},
   "outputs": [
    {
     "name": "stdout",
     "output_type": "stream",
     "text": [
      "Requirement already satisfied: tweepy in c:\\users\\petil\\anaconda3\\lib\\site-packages (4.12.1)\n",
      "Requirement already satisfied: requests<3,>=2.27.0 in c:\\users\\petil\\anaconda3\\lib\\site-packages (from tweepy) (2.28.1)\n",
      "Requirement already satisfied: oauthlib<4,>=3.2.0 in c:\\users\\petil\\appdata\\roaming\\python\\python39\\site-packages (from tweepy) (3.2.2)\n",
      "Requirement already satisfied: requests-oauthlib<2,>=1.2.0 in c:\\users\\petil\\appdata\\roaming\\python\\python39\\site-packages (from tweepy) (1.3.1)\n",
      "Requirement already satisfied: urllib3<1.27,>=1.21.1 in c:\\users\\petil\\appdata\\roaming\\python\\python39\\site-packages (from requests<3,>=2.27.0->tweepy) (1.26.12)\n",
      "Requirement already satisfied: idna<4,>=2.5 in c:\\users\\petil\\appdata\\roaming\\python\\python39\\site-packages (from requests<3,>=2.27.0->tweepy) (2.10)\n",
      "Requirement already satisfied: charset-normalizer<3,>=2 in c:\\users\\petil\\appdata\\roaming\\python\\python39\\site-packages (from requests<3,>=2.27.0->tweepy) (2.1.1)\n",
      "Requirement already satisfied: certifi>=2017.4.17 in c:\\users\\petil\\appdata\\roaming\\python\\python39\\site-packages (from requests<3,>=2.27.0->tweepy) (2022.9.24)\n"
     ]
    }
   ],
   "source": [
    "!pip install tweepy"
   ]
  },
  {
   "cell_type": "code",
   "execution_count": 84,
   "id": "5233674a",
   "metadata": {},
   "outputs": [],
   "source": [
    "import tweepy\n",
    "\n",
    "info_app_id= \"26586732\"\n",
    "\n",
    "info_api_key = \"lzlTvsF1LaNsoeX6SeAz5QTrK\"\n",
    "info_api_key_secret = \"lzlTvsF1LaNsoeX6SeAz5QTrK\"\n",
    "info_bearer_token = \"AAAAAAAAAAAAAAAAAAAAAGyulQEAAAAAT7oM8WIpo%2BCnYEBBJjYHqgNxzFo%3D7e8c5FDx0wRToSIies2N5CxTPq5JHpQuMSSVxG5RHEe3lAdJrS\"\n",
    "\n",
    "info_client_id = \"VzlNTVNlYmw4b21ORUtKdlJiYkc6MTpjaQ\"\n",
    "info_client_secret = \"z39qRyvbdPzHGBJRle6gv1l7noR-EP23T0Z0kknzXgsZzFxOmS\"\n",
    "\n",
    "info_acces_token = \"1574148627672571904-6iAkOPZoOfEJ7jShjTE5VqIKHDLmC5\"\n",
    "info_acces_token_secret = \"Vd74wqvtrbdHHmf4oe9TayrqgbUv9Pd5b9lorVbBoqps3\"\n",
    "\n",
    "info_callback_uri = \"https://twitter.com/home?state=btfupV5bMWb6qvhsy9l8NOroeY7Wqj&code=MnprRmppQ0RfYnRoMWZLU0xFWmpNdHdsTEFJOEVEanUxREdTMG9iVUc5elA1OjE2NzQ2MDgyNjQyODA6MToxOmFjOjE\"\n",
    "info_callback_uri = \"https://twitter.com/\"\n",
    "info_website_url = \"https://twitter.com/\"\n",
    "\n",
    "info_scope = [\"tweet.read\",\"tweet.write\",\"users.read\"]"
   ]
  },
  {
   "cell_type": "code",
   "execution_count": null,
   "id": "5b12e535",
   "metadata": {},
   "outputs": [],
   "source": []
  },
  {
   "cell_type": "code",
   "execution_count": 85,
   "id": "98c16d78",
   "metadata": {},
   "outputs": [],
   "source": [
    "oauth2_user_handler = tweepy.OAuth2UserHandler(\n",
    "    client_id= info_client_id,\n",
    "    redirect_uri= info_callback_uri,\n",
    "    scope= info_scope,\n",
    "    \n",
    "    # Client Secret is only necessary if using a confidential client\n",
    "    client_secret= info_client_secret\n",
    ")"
   ]
  },
  {
   "cell_type": "code",
   "execution_count": 86,
   "id": "ebb39948",
   "metadata": {},
   "outputs": [
    {
     "name": "stdout",
     "output_type": "stream",
     "text": [
      "https://twitter.com/i/oauth2/authorize?response_type=code&client_id=VzlNTVNlYmw4b21ORUtKdlJiYkc6MTpjaQ&redirect_uri=https%3A%2F%2Ftwitter.com%2F&scope=tweet.read+tweet.write+users.read&state=MAe6AnlM3DuQSljkWYTsz7yRACgftj&code_challenge=O2C5C_Af-nText5bVbe_y_znC0ovVI6ZojfsarmlptQ&code_challenge_method=S256\n"
     ]
    }
   ],
   "source": [
    "print(oauth2_user_handler.get_authorization_url())\n",
    "save_url = oauth2_user_handler.get_authorization_url()"
   ]
  },
  {
   "cell_type": "code",
   "execution_count": 87,
   "id": "3d7e20ad",
   "metadata": {},
   "outputs": [
    {
     "ename": "MismatchingStateError",
     "evalue": "(mismatching_state) CSRF Warning! State not equal in request and response.",
     "output_type": "error",
     "traceback": [
      "\u001b[1;31m---------------------------------------------------------------------------\u001b[0m",
      "\u001b[1;31mMismatchingStateError\u001b[0m                     Traceback (most recent call last)",
      "\u001b[1;32m~\\AppData\\Local\\Temp\\ipykernel_16360\\3847566663.py\u001b[0m in \u001b[0;36m<module>\u001b[1;34m\u001b[0m\n\u001b[0;32m      1\u001b[0m \u001b[0mfinal_url\u001b[0m \u001b[1;33m=\u001b[0m \u001b[1;34m\"https://twitter.com/home?state=MAe6AnlM3DuQSljkWYTsz7yRACgftj&code=eDFORVV2QWF5VVQ1V3hCbEJTbk9ScnVpUnJ4dTB0ak1teWw1Z01KMGQtMURaOjE2NzQ2NTU0MjI5ODA6MToxOmFjOjE\"\u001b[0m\u001b[1;33m\u001b[0m\u001b[1;33m\u001b[0m\u001b[0m\n\u001b[1;32m----> 2\u001b[1;33m \u001b[0maccess_token\u001b[0m \u001b[1;33m=\u001b[0m \u001b[0moauth2_user_handler\u001b[0m\u001b[1;33m.\u001b[0m\u001b[0mfetch_token\u001b[0m\u001b[1;33m(\u001b[0m\u001b[0mfinal_url\u001b[0m\u001b[1;33m)\u001b[0m\u001b[1;33m\u001b[0m\u001b[1;33m\u001b[0m\u001b[0m\n\u001b[0m",
      "\u001b[1;32m~\\anaconda3\\lib\\site-packages\\tweepy\\auth.py\u001b[0m in \u001b[0;36mfetch_token\u001b[1;34m(self, authorization_response)\u001b[0m\n\u001b[0;32m    215\u001b[0m         \u001b[0mauthorization\u001b[0m \u001b[0mresponse\u001b[0m \u001b[0mURL\u001b[0m\u001b[1;33m\u001b[0m\u001b[1;33m\u001b[0m\u001b[0m\n\u001b[0;32m    216\u001b[0m         \"\"\"\n\u001b[1;32m--> 217\u001b[1;33m         return super().fetch_token(\n\u001b[0m\u001b[0;32m    218\u001b[0m             \u001b[1;34m\"https://api.twitter.com/2/oauth2/token\"\u001b[0m\u001b[1;33m,\u001b[0m\u001b[1;33m\u001b[0m\u001b[1;33m\u001b[0m\u001b[0m\n\u001b[0;32m    219\u001b[0m             \u001b[0mauthorization_response\u001b[0m\u001b[1;33m=\u001b[0m\u001b[0mauthorization_response\u001b[0m\u001b[1;33m,\u001b[0m\u001b[1;33m\u001b[0m\u001b[1;33m\u001b[0m\u001b[0m\n",
      "\u001b[1;32m~\\AppData\\Roaming\\Python\\Python39\\site-packages\\requests_oauthlib\\oauth2_session.py\u001b[0m in \u001b[0;36mfetch_token\u001b[1;34m(self, token_url, code, authorization_response, body, auth, username, password, method, force_querystring, timeout, headers, verify, proxies, include_client_id, client_secret, cert, **kwargs)\u001b[0m\n\u001b[0;32m    242\u001b[0m \u001b[1;33m\u001b[0m\u001b[0m\n\u001b[0;32m    243\u001b[0m         \u001b[1;32mif\u001b[0m \u001b[1;32mnot\u001b[0m \u001b[0mcode\u001b[0m \u001b[1;32mand\u001b[0m \u001b[0mauthorization_response\u001b[0m\u001b[1;33m:\u001b[0m\u001b[1;33m\u001b[0m\u001b[1;33m\u001b[0m\u001b[0m\n\u001b[1;32m--> 244\u001b[1;33m             self._client.parse_request_uri_response(\n\u001b[0m\u001b[0;32m    245\u001b[0m                 \u001b[0mauthorization_response\u001b[0m\u001b[1;33m,\u001b[0m \u001b[0mstate\u001b[0m\u001b[1;33m=\u001b[0m\u001b[0mself\u001b[0m\u001b[1;33m.\u001b[0m\u001b[0m_state\u001b[0m\u001b[1;33m\u001b[0m\u001b[1;33m\u001b[0m\u001b[0m\n\u001b[0;32m    246\u001b[0m             )\n",
      "\u001b[1;32m~\\AppData\\Roaming\\Python\\Python39\\site-packages\\oauthlib\\oauth2\\rfc6749\\clients\\web_application.py\u001b[0m in \u001b[0;36mparse_request_uri_response\u001b[1;34m(self, uri, state)\u001b[0m\n\u001b[0;32m    218\u001b[0m             \u001b[0moauthlib\u001b[0m\u001b[1;33m.\u001b[0m\u001b[0moauth2\u001b[0m\u001b[1;33m.\u001b[0m\u001b[0mrfc6749\u001b[0m\u001b[1;33m.\u001b[0m\u001b[0merrors\u001b[0m\u001b[1;33m.\u001b[0m\u001b[0mMismatchingStateError\u001b[0m\u001b[1;33m\u001b[0m\u001b[1;33m\u001b[0m\u001b[0m\n\u001b[0;32m    219\u001b[0m         \"\"\"\n\u001b[1;32m--> 220\u001b[1;33m         \u001b[0mresponse\u001b[0m \u001b[1;33m=\u001b[0m \u001b[0mparse_authorization_code_response\u001b[0m\u001b[1;33m(\u001b[0m\u001b[0muri\u001b[0m\u001b[1;33m,\u001b[0m \u001b[0mstate\u001b[0m\u001b[1;33m=\u001b[0m\u001b[0mstate\u001b[0m\u001b[1;33m)\u001b[0m\u001b[1;33m\u001b[0m\u001b[1;33m\u001b[0m\u001b[0m\n\u001b[0m\u001b[0;32m    221\u001b[0m         \u001b[0mself\u001b[0m\u001b[1;33m.\u001b[0m\u001b[0mpopulate_code_attributes\u001b[0m\u001b[1;33m(\u001b[0m\u001b[0mresponse\u001b[0m\u001b[1;33m)\u001b[0m\u001b[1;33m\u001b[0m\u001b[1;33m\u001b[0m\u001b[0m\n\u001b[0;32m    222\u001b[0m         \u001b[1;32mreturn\u001b[0m \u001b[0mresponse\u001b[0m\u001b[1;33m\u001b[0m\u001b[1;33m\u001b[0m\u001b[0m\n",
      "\u001b[1;32m~\\AppData\\Roaming\\Python\\Python39\\site-packages\\oauthlib\\oauth2\\rfc6749\\parameters.py\u001b[0m in \u001b[0;36mparse_authorization_code_response\u001b[1;34m(uri, state)\u001b[0m\n\u001b[0;32m    276\u001b[0m \u001b[1;33m\u001b[0m\u001b[0m\n\u001b[0;32m    277\u001b[0m     \u001b[1;32mif\u001b[0m \u001b[0mstate\u001b[0m \u001b[1;32mand\u001b[0m \u001b[0mparams\u001b[0m\u001b[1;33m.\u001b[0m\u001b[0mget\u001b[0m\u001b[1;33m(\u001b[0m\u001b[1;34m'state'\u001b[0m\u001b[1;33m,\u001b[0m \u001b[1;32mNone\u001b[0m\u001b[1;33m)\u001b[0m \u001b[1;33m!=\u001b[0m \u001b[0mstate\u001b[0m\u001b[1;33m:\u001b[0m\u001b[1;33m\u001b[0m\u001b[1;33m\u001b[0m\u001b[0m\n\u001b[1;32m--> 278\u001b[1;33m         \u001b[1;32mraise\u001b[0m \u001b[0mMismatchingStateError\u001b[0m\u001b[1;33m(\u001b[0m\u001b[1;33m)\u001b[0m\u001b[1;33m\u001b[0m\u001b[1;33m\u001b[0m\u001b[0m\n\u001b[0m\u001b[0;32m    279\u001b[0m \u001b[1;33m\u001b[0m\u001b[0m\n\u001b[0;32m    280\u001b[0m     \u001b[1;32mif\u001b[0m \u001b[1;34m'error'\u001b[0m \u001b[1;32min\u001b[0m \u001b[0mparams\u001b[0m\u001b[1;33m:\u001b[0m\u001b[1;33m\u001b[0m\u001b[1;33m\u001b[0m\u001b[0m\n",
      "\u001b[1;31mMismatchingStateError\u001b[0m: (mismatching_state) CSRF Warning! State not equal in request and response."
     ]
    }
   ],
   "source": [
    "final_url = \"https://twitter.com/home?state=MAe6AnlM3DuQSljkWYTsz7yRACgftj&code=eDFORVV2QWF5VVQ1V3hCbEJTbk9ScnVpUnJ4dTB0ak1teWw1Z01KMGQtMURaOjE2NzQ2NTU0MjI5ODA6MToxOmFjOjE\"\n",
    "access_token = oauth2_user_handler.fetch_token(final_url)"
   ]
  },
  {
   "cell_type": "code",
   "execution_count": 76,
   "id": "4eeb52e2",
   "metadata": {},
   "outputs": [
    {
     "ename": "NameError",
     "evalue": "name 'access_token' is not defined",
     "output_type": "error",
     "traceback": [
      "\u001b[1;31m---------------------------------------------------------------------------\u001b[0m",
      "\u001b[1;31mNameError\u001b[0m                                 Traceback (most recent call last)",
      "\u001b[1;32m~\\AppData\\Local\\Temp\\ipykernel_16360\\835790603.py\u001b[0m in \u001b[0;36m<module>\u001b[1;34m\u001b[0m\n\u001b[1;32m----> 1\u001b[1;33m \u001b[0mclient\u001b[0m \u001b[1;33m=\u001b[0m \u001b[0mtweepy\u001b[0m\u001b[1;33m.\u001b[0m\u001b[0mClient\u001b[0m\u001b[1;33m(\u001b[0m\u001b[0maccess_token\u001b[0m\u001b[1;33m)\u001b[0m\u001b[1;33m\u001b[0m\u001b[1;33m\u001b[0m\u001b[0m\n\u001b[0m",
      "\u001b[1;31mNameError\u001b[0m: name 'access_token' is not defined"
     ]
    }
   ],
   "source": [
    "client = tweepy.Client(access_token)"
   ]
  },
  {
   "cell_type": "code",
   "execution_count": null,
   "id": "a67d0cf8",
   "metadata": {},
   "outputs": [],
   "source": []
  },
  {
   "cell_type": "code",
   "execution_count": null,
   "id": "0bf5b909",
   "metadata": {},
   "outputs": [],
   "source": []
  },
  {
   "cell_type": "code",
   "execution_count": 81,
   "id": "ef7be337",
   "metadata": {},
   "outputs": [
    {
     "name": "stdout",
     "output_type": "stream",
     "text": [
      "RT @SabrinaOuRien: Houria Bouteldja «Les blancs se sont suicidés et ils veulent qu’on se suicide avec eux »\n",
      "\n",
      "#BeaufsEtBarbares https://t.co…\n",
      "#adrienytb qui sous-entend qu’il n’y avait peut-être pas de harcèlement envers Maeva. Alors que dans ces autres discours c’est le harcèlement général qui a mené à son suicide et non pas son comportement à lui 🧐 https://t.co/MzA2ImpsZP\n",
      "RT @Bell_Cause: #SaviezVous que @parlonssuicide offre un espace sûr où les personnes peuvent parler du suicide en tout temps, et propose de…\n",
      "RT @F_Desouche: Houria Bouteldja : « On tient à notre identité (...) Les blancs se sont suicidés et ils veulent qu’on se suicide avec eux »…\n",
      "RT @DamienRieu: Houria Bouteldja «Les blancs se sont suicidés et ils veulent qu’on se suicide avec eux » \n",
      "https://t.co/mIYEWapCWP\n",
      "RT @ennaejikasim: au bord du suicide 😍👍👍😘😘\n",
      "@MechanteDroite @__sarite Disons que c'est géré par la police même s'ils mandatent les pompes funèbres. On avait eu un suicide dans un appart y a pas longtemps et on avait rien payé à ma connaissance\n",
      "RT @CarmantLionel: Aujourd’hui, c’est la journée @Bell_Cause qui rappelle l’importance de parler de santé mentale. N’hésitez jamais à aller…\n",
      "Si on me dit un jour « ne faites pas plus bête que vous n’êtes » je simule un suicide et j’pars refaire ma vie au Tibet https://t.co/H63htYW3Ji\n",
      "RT @DamienRieu: Houria Bouteldja «Les blancs se sont suicidés et ils veulent qu’on se suicide avec eux » \n",
      "https://t.co/mIYEWapCWP\n",
      "RT @SebCTbien: Dur de garder pour soi les 4 tentatives de suicide de sa mère depuis septembre : 3 comas pour prise de médicaments, des scar…\n",
      "RT @CarmantLionel: Aujourd’hui, c’est la journée @Bell_Cause qui rappelle l’importance de parler de santé mentale. N’hésitez jamais à aller…\n",
      "SUICIDE BLONDE https://t.co/5MhhnEa5Kw\n",
      "@Raphael_Carlier Suicide saison est leur meilleur morceau je pense mais ça reste du métal de fillette à côté de TO THE HELLFIRE - LORNA SHORE\n",
      "RT @DamienRieu: Houria Bouteldja «Les blancs se sont suicidés et ils veulent qu’on se suicide avec eux » \n",
      "https://t.co/mIYEWapCWP\n",
      "@SabrinaOuRien 13.2 millions 89... mouhahahahahha 😁 😉 🤪 le suicide n'est pas pr tt le monde\n",
      "RT @CarmantLionel: Aujourd’hui, c’est la journée @Bell_Cause qui rappelle l’importance de parler de santé mentale. N’hésitez jamais à aller…\n",
      "RT @DumortierEmily: Le vrai \"suicide Français \" c'est  de voter pour un de ces guignols !!!! https://t.co/uiK63ZfRFH\n",
      "RT @TeamEricZemmour: Houria Bouteldja : « On tient à notre identité (...) Les blancs se sont suicidés et ils veulent qu’on se suicide avec…\n",
      "RT @DamienRieu: Houria Bouteldja «Les blancs se sont suicidés et ils veulent qu’on se suicide avec eux » \n",
      "https://t.co/mIYEWapCWP\n",
      "c genre ce que je veux fr je me suicide mtn dcp ouuuu https://t.co/EThLKtImX7\n",
      "En rappelant que le suicide n’est pas une option. \n",
      "1 800 APPELLE.\n",
      "( Derek Aucoin )      🙏🫶\n",
      "RT @F_Desouche: Houria Bouteldja : « On tient à notre identité (...) Les blancs se sont suicidés et ils veulent qu’on se suicide avec eux »…\n",
      "RT @F_Desouche: Houria Bouteldja : « On tient à notre identité (...) Les blancs se sont suicidés et ils veulent qu’on se suicide avec eux »…\n",
      "RT @F_Desouche: Houria Bouteldja : « On tient à notre identité (...) Les blancs se sont suicidés et ils veulent qu’on se suicide avec eux »…\n",
      "RT @Ahchhhhh: @F_Desouche La première fois que je suis en parti d’accord avec Bouteldja car elle n’a malheureusement pas tort sur le suicid…\n",
      "@gatewaypundit Suicide?  Sure\n",
      "RT @ennaejikasim: au bord du suicide 😍👍👍😘😘\n",
      "RT @F_Desouche: Houria Bouteldja : « On tient à notre identité (...) Les blancs se sont suicidés et ils veulent qu’on se suicide avec eux »…\n",
      "RT @misstinguette99: @BFMLyon @BFMTV Repose en paix, un homme se suicide pour la liberté\n",
      "RT @F_Desouche: Houria Bouteldja : « On tient à notre identité (...) Les blancs se sont suicidés et ils veulent qu’on se suicide avec eux »…\n",
      "RT @TeamEricZemmour: Houria Bouteldja : « On tient à notre identité (...) Les blancs se sont suicidés et ils veulent qu’on se suicide avec…\n",
      "🔴C’est qui l’hypocrite? Qui sait qui bosse pour un parti qui vote le droit au suicide plutôt qu’aider ceux qui sont dans la détresse? Le suicide assisté n’est pas une aide c’est un homicide déguisé. https://t.co/GjM3uwugFQ https://t.co/glBUGPHRxu\n",
      "RT @DumortierEmily: Le vrai \"suicide Français \" c'est  de voter pour un de ces guignols !!!! https://t.co/uiK63ZfRFH\n",
      "L'ivrogne François, tranquilou, 15 jours après le suicide de Lucas, un enfant de 13 ans.\n",
      "\n",
      "Confirmation que les religions sont toujours bien des saloperies. https://t.co/BToRG1Ldzk\n",
      "RT @JosselinGuyodo: Le @3114_appel participera à la Journée Nationale de Prévention du Suicide en Occitanie a l’occasion de 2 événements or…\n",
      "RT @F_Desouche: Houria Bouteldja : « On tient à notre identité (...) Les blancs se sont suicidés et ils veulent qu’on se suicide avec eux »…\n",
      "RT @F_Desouche: Houria Bouteldja : « On tient à notre identité (...) Les blancs se sont suicidés et ils veulent qu’on se suicide avec eux »…\n",
      "RT @DamienRieu: Houria Bouteldja «Les blancs se sont suicidés et ils veulent qu’on se suicide avec eux » \n",
      "https://t.co/mIYEWapCWP\n",
      "Cette jeune femme victime d'un viol impuni par la \"justice\" va avoir recours au suicide assisté 😢...\n",
      "Les victimes en sont réduites à se suicider 1 par 1 par désespoir grâce a l'indifférence générale triomphante ! Moi aussi ma vie est totalement détruite, je ne gagnerai pas ..😑 https://t.co/oA84Jy80zr\n",
      "RT @DumortierEmily: Le vrai \"suicide Français \" c'est  de voter pour un de ces guignols !!!! https://t.co/uiK63ZfRFH\n",
      "RT @Bell_Cause: #SaviezVous que @parlonssuicide offre un espace sûr où les personnes peuvent parler du suicide en tout temps, et propose de…\n",
      "RT @F_Desouche: Houria Bouteldja : « On tient à notre identité (...) Les blancs se sont suicidés et ils veulent qu’on se suicide avec eux »…\n",
      "RT @F_Desouche: Houria Bouteldja : « On tient à notre identité (...) Les blancs se sont suicidés et ils veulent qu’on se suicide avec eux »…\n",
      "RT @AkimWb_: J'ai pas d'avis sur la polémique. \n",
      "Y'a des gens qui soufflent quand un train est à l'arrêt a cause d'un suicide alors pour un…\n",
      "RT @F_Desouche: Houria Bouteldja : « On tient à notre identité (...) Les blancs se sont suicidés et ils veulent qu’on se suicide avec eux »…\n",
      "Suicide d’un manipulateur radio devant l’hôpital d’Arras  https://t.co/UMqO5b0mUu\n",
      "@chachou_saphyr Rui en 4 c'est pas ouf, c'est même plutôt du suicide\n",
      "RT @MaryMbois: « Extrait \"Faut pas rêver\" du 15.04.1994.\n",
      "\n",
      " \"Chaque fois qu’on accepte la compétition, on accepte de mépriser quelqu’un, de…\n",
      "@MarieCanL @DrlaskarLaskar @arnoklarsfeld La on ne parle plus d'envahir des pays mais de les rayer de la carte. \n",
      "Poutine pourrait éventuellement utiliser l'arme nucléaire (et est-ce que ses proches le laisserait faire) si il se sentait complètement acculé.\n",
      "Du suicide, ils savent bien que la réponse serait immédiate.\n",
      "RT @milkvst4rz: si on vous vole votre sac le voleur y gagne quoi?? perso mn tabac, des dechets, ma ventoline et mon papier avc le numero pr…\n",
      "RT @Bell_Cause: #SaviezVous que @parlonssuicide offre un espace sûr où les personnes peuvent parler du suicide en tout temps, et propose de…\n",
      "RT @Rglandouillet: Notre happiness manager est en dépression car il a raté sa tentative de suicide ☹️envoyons lui de la force la team !\n",
      "Et…\n",
      "RT @DamienRieu: Houria Bouteldja «Les blancs se sont suicidés et ils veulent qu’on se suicide avec eux » \n",
      "https://t.co/mIYEWapCWP\n",
      "@itamiit Mais Kurt s'est suicidé et sa femme était pas avec lui à se moment\n",
      "RT @F_Desouche: Houria Bouteldja : « On tient à notre identité (...) Les blancs se sont suicidés et ils veulent qu’on se suicide avec eux »…\n",
      "RT @F_Desouche: Houria Bouteldja : « On tient à notre identité (...) Les blancs se sont suicidés et ils veulent qu’on se suicide avec eux »…\n",
      "RT @TeamEricZemmour: Houria Bouteldja : « On tient à notre identité (...) Les blancs se sont suicidés et ils veulent qu’on se suicide avec…\n",
      "Le suicide https://t.co/K0PlZ3o42N\n",
      "RT @F_Desouche: Houria Bouteldja : « On tient à notre identité (...) Les blancs se sont suicidés et ils veulent qu’on se suicide avec eux »…\n",
      "RT @DamienRieu: Houria Bouteldja «Les blancs se sont suicidés et ils veulent qu’on se suicide avec eux » \n",
      "https://t.co/mIYEWapCWP\n",
      "RT @F_Desouche: Houria Bouteldja : « On tient à notre identité (...) Les blancs se sont suicidés et ils veulent qu’on se suicide avec eux »…\n",
      "Je comprends toujours pas comment on peut trouver que les années de fac c’est les meilleures alors que c’est une source de stress et d’envie de suicide constante…\n",
      "RT @F_Desouche: Houria Bouteldja : « On tient à notre identité (...) Les blancs se sont suicidés et ils veulent qu’on se suicide avec eux »…\n",
      "RT @Revizorsb: Virginia Woolf est née le 25 janvier 1882 à Londres. En 1941, à l'âge de 59 ans, elle se suicide par noyade dans l'Ouse dans…\n",
      "@biochoclem @GeWoessner Les abeilles doivent avoir un problème psy pour disparaître ainsi sans raison, un suicide collectif va sans doute nous expliquer le lobby et ses relais de presse !\n",
      "J'ai pas d'avis sur la polémique. \n",
      "Y'a des gens qui soufflent quand un train est à l'arrêt a cause d'un suicide alors pour un chat...\n",
      "RT @RAJABENSAOUD: La justice GB vient de reconnaitre la responsabilité des réseaux sociaux dans le suicide d’une jeune anglaise: Les algo d…\n",
      "RT @F_Desouche: Houria Bouteldja : « On tient à notre identité (...) Les blancs se sont suicidés et ils veulent qu’on se suicide avec eux »…\n",
      "RT @Gaulois_00: \"Epstein a été assassiné\"\n",
      "\n",
      "#Maxwell ne croit pas à son suicide dans une cellule hyper sécurisée\n",
      "\n",
      "«Je crois qu'il a été assa…\n",
      "La justice GB vient de reconnaitre la responsabilité des réseaux sociaux dans le suicide d’une jeune anglaise: Les algo de ces réseaux \"ont gavé la jeune fille de contenus sur le suicide qui l’ont enfermée dans une bulle mortifère».Le juge ne peut pas être plus clair. https://t.co/wb70HCNHhD\n",
      "RT @yetiblog: 4/4 S'ils veulent éviter une défaite humiliante, déjà quasiment consacrée, les bras cassés de l'OTAN n'ont plus guère qu'un A…\n",
      "RT @F_Desouche: Houria Bouteldja : « On tient à notre identité (...) Les blancs se sont suicidés et ils veulent qu’on se suicide avec eux »…\n",
      "RT @DamienRieu: Houria Bouteldja «Les blancs se sont suicidés et ils veulent qu’on se suicide avec eux » \n",
      "https://t.co/mIYEWapCWP\n",
      "RT @F_Desouche: Houria Bouteldja : « On tient à notre identité (...) Les blancs se sont suicidés et ils veulent qu’on se suicide avec eux »…\n",
      "Oui... bien sûr... Kurt Cobain s'est \"\"\"suicidé\"\"\"... bien sûr...\n",
      "@gatewaypundit Commits suicide✖\n",
      "\n",
      " homicide✅\n",
      "RT @F_Desouche: Houria Bouteldja : « On tient à notre identité (...) Les blancs se sont suicidés et ils veulent qu’on se suicide avec eux »…\n",
      "RT @LierdeXavier: Toutes les initiatives visant à empêcher le suicide que constituerait le déclenchement d'une 3e guerre mondiale sur le so…\n",
      "RT @jeunesadmd: 🩺💬 #FindeVie : le comité «éthique et cancer» a rendu un avis où il ne s’oppose pas au suicide assisté. #SoinsPalliatifs #Pr…\n",
      "@TodiboSzN__ @FabriceHawkins J’vous le souhaite prenez le. Par contre OM - Nice le 5 jvais au Vel, si on perd et que Moffi marque j’me suicide\n",
      "RT @F_Desouche: Houria Bouteldja : « On tient à notre identité (...) Les blancs se sont suicidés et ils veulent qu’on se suicide avec eux »…\n",
      "RT @CarmantLionel: Aujourd’hui, c’est la journée @Bell_Cause qui rappelle l’importance de parler de santé mentale. N’hésitez jamais à aller…\n",
      "@sylvita30 \" Les blancs se sont suicidé...\" Elle n'a pas tort on se laisse déposséder de tout ce qui constitue notre civilisation occidentale.\n",
      "@jay_noiron @DamienRieu Ça n'a rien a voir avec un suicide de civilisation, non mais y a que les religieux pour dire des inepties pareil \n",
      "\n",
      "Garde ta religion personne t'oblige à la lâcher\n",
      "|#Podcast| Venez écouter le Dr. @EdouardLeaune du @ChVinatier  dans la mini-série \"Suicide &amp; Deuil après suicide\" du podcast de la mort. https://t.co/G8ozR32Akk\n",
      "@3114_appel https://t.co/cEOkThlhnP\n",
      "RT @ritornarelnd: oui et après on fini avec un parent maltraitant, un parent qui va peut être tuer son enfant, voire même mourir d’un suici…\n",
      "RT @F_Desouche: Houria Bouteldja : « On tient à notre identité (...) Les blancs se sont suicidés et ils veulent qu’on se suicide avec eux »…\n",
      "#BellCause Nous soulignons les efforts et l'engagement de toutes les personnes qui œuvrent dans le domaine de la santé mentale. Votre travail est important. Merci de prendre soin de nous tous. Pour trouver une ressource d'aide dans votre région : https://t.co/1T5DMWUaPb\n",
      "RT @DamienRieu: Houria Bouteldja «Les blancs se sont suicidés et ils veulent qu’on se suicide avec eux » \n",
      "https://t.co/mIYEWapCWP\n",
      "RT @F_Desouche: Houria Bouteldja : « On tient à notre identité (...) Les blancs se sont suicidés et ils veulent qu’on se suicide avec eux »…\n",
      "RT @Moustap305: Celui qui a une mission de suicide il doit me l'a confier , j'en ai mare de rester dans un monde qui n'a plus de sens pour…\n",
      "Celui qui a une mission de suicide il doit me l'a confier , j'en ai mare de rester dans un monde qui n'a plus de sens pour moi\n",
      "RT @Bell_Cause: #SaviezVous que @parlonssuicide offre un espace sûr où les personnes peuvent parler du suicide en tout temps, et propose de…\n",
      "C'est l'année de la jeunesse...Et morts par pendaison, morts par suicide... N'est-ce pas l'année sacrificielle de la jeunesse en Côte d'Ivoire ?\n",
      "RT @DamienRieu: Houria Bouteldja «Les blancs se sont suicidés et ils veulent qu’on se suicide avec eux » \n",
      "https://t.co/mIYEWapCWP\n",
      "RT @Bell_Cause: #SaviezVous que @parlonssuicide offre un espace sûr où les personnes peuvent parler du suicide en tout temps, et propose de…\n",
      "Lucas, 13 ans, s'est suicidé : sa famille dénonce un harcèlement scolaire en lien avec son homosexualité Lucas, un adolescent de 13 ans résidant à Golbey dans les Vosges, s'est suicidé D'après sa famille, il était harcelé par des élèves de son collège a cause de son homosexualité https://t.co/Hi4JEVR3JE\n",
      "Aujourd’hui, c’est la journée @Bell_Cause qui rappelle l’importance de parler de santé mentale. N’hésitez jamais à aller chercher de l’aide ☎️ Appelez ! \n",
      "811-Info Social \n",
      "1-866-APPELLE\n",
      "#535353 (par texto)\n",
      "https://t.co/MPL0FBRy7J (pour clavarder)\n",
      "#polqc #santémentale #CAQ https://t.co/8ChMbrDHDK\n"
     ]
    }
   ],
   "source": [
    "client = tweepy.Client(bearer_token=info_bearer_token)\n",
    "\n",
    "# Create a tweet query\n",
    "# https://github.com/twitterdev/getting-started-with-the-twitter-api-v2-for-academic-research/blob/main/modules/5-how-to-write-search-queries.md\n",
    "query = 'suicide lang:fr'\n",
    "tweets = client.search_recent_tweets(query, max_results=100)\n",
    "for tweet in tweets.data:\n",
    "    print(tweet.text)\n",
    "    if len(tweet.context_annotations) > 0:\n",
    "        print(tweet.context_annotations)"
   ]
  },
  {
   "cell_type": "code",
   "execution_count": 82,
   "id": "4bb30a24",
   "metadata": {},
   "outputs": [
    {
     "data": {
      "text/plain": [
       "Response(data=<User id=1574148627672571904 name=Pierre Elipse username=PierreElipse>, includes={}, errors=[], meta={})"
      ]
     },
     "execution_count": 82,
     "metadata": {},
     "output_type": "execute_result"
    }
   ],
   "source": [
    "screen_name = \"PierreElipse\"\n",
    "twitterid = client.get_user(username=screen_name)\n",
    "twitterid"
   ]
  },
  {
   "cell_type": "code",
   "execution_count": 83,
   "id": "c4aaba6c",
   "metadata": {},
   "outputs": [
    {
     "name": "stdout",
     "output_type": "stream",
     "text": [
      "Salut les amies, me voici sur twitter !\n"
     ]
    }
   ],
   "source": [
    "tweets = client.get_users_tweets(\"1574148627672571904\")\n",
    "for tweet in tweets.data:\n",
    "    print(tweet.text)\n",
    "    if len(tweet.context_annotations) > 0:\n",
    "        print(tweet.context_annotations)"
   ]
  },
  {
   "cell_type": "code",
   "execution_count": null,
   "id": "20b0243b",
   "metadata": {},
   "outputs": [],
   "source": []
  },
  {
   "cell_type": "code",
   "execution_count": null,
   "id": "1adeeaa2",
   "metadata": {},
   "outputs": [],
   "source": [
    "#Création de tweet\n",
    "client.create_tweet()"
   ]
  }
 ],
 "metadata": {
  "kernelspec": {
   "display_name": "Python 3 (ipykernel)",
   "language": "python",
   "name": "python3"
  },
  "language_info": {
   "codemirror_mode": {
    "name": "ipython",
    "version": 3
   },
   "file_extension": ".py",
   "mimetype": "text/x-python",
   "name": "python",
   "nbconvert_exporter": "python",
   "pygments_lexer": "ipython3",
   "version": "3.9.13"
  }
 },
 "nbformat": 4,
 "nbformat_minor": 5
}
