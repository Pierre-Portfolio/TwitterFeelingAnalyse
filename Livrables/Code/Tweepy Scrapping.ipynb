{
 "cells": [
  {
   "cell_type": "code",
   "execution_count": 2,
   "id": "09bffe28",
   "metadata": {},
   "outputs": [],
   "source": [
    "#!pip install tweepy\n",
    "import pandas as pd\n",
    "import tweepy"
   ]
  },
  {
   "cell_type": "markdown",
   "id": "1736fa2c",
   "metadata": {},
   "source": [
    "# Scraping"
   ]
  },
  {
   "cell_type": "code",
   "execution_count": 1,
   "id": "c1cf0142",
   "metadata": {},
   "outputs": [],
   "source": [
    "info_api_key = \"fSFhW6NJHivhKs88VLtlKQ5t6\"\n",
    "info_api_key_secret = \"X7mVc0epNqxlCdRpa4pP2ymRdpbZwnrEr1edW8SG7JhwMgtEnA\"\n",
    "info_bearer_token = \"AAAAAAAAAAAAAAAAAAAAAGyulQEAAAAAg7rYt7A8KD2yYFu0datNWtadXOU%3Dou4oAmL2wFiZxrckLd5OCHioEDDRJw4ZEDp7AuuJx7WHIENpGq\"\n",
    "\n",
    "info_client_id = \"VzlNTVNlYmw4b21ORUtKdlJiYkc6MTpjaQ\"\n",
    "info_client_secret = \"RhKKHZ0bHeq1QqqNsO3Kzw2_dlo0J1strmd9C0n1bziPwn9PiS\"\n",
    "\n",
    "info_acces_token = \"1574148627672571904-bIjrsPyaC3zLKaYuF9t7rh4PGkPtwT\"\n",
    "info_acces_token_secret = \"jknxWvirBnliMgzINTmmOvGZftZnoShpJe4x1seNBdfth\"\n",
    "\n",
    "info_callback_uri = \"https://wibbo.org\"\n",
    "info_website_url = \"https://wibbo.org\""
   ]
  },
  {
   "cell_type": "code",
   "execution_count": 319,
   "id": "b79ada12",
   "metadata": {},
   "outputs": [],
   "source": [
    "def Recuperation_tweets(L_mots,nb):\n",
    "    client = tweepy.Client(bearer_token=info_bearer_token)\n",
    "\n",
    "    query = ''\n",
    "    for m in L_mots:\n",
    "        query += m + ' OR '\n",
    "    query=query[:-3]\n",
    "    query+='lang=en'\n",
    "    \n",
    "\n",
    "    #tweets = client.search_recent_tweets(query,max_results=nb,tweet_fields=['context_annotations', 'created_at'], \n",
    "                                         #expansions=['author_id'])\n",
    "    tweets = tweepy.Paginator(client.search_recent_tweets, query=query,\n",
    "                              tweet_fields=['context_annotations', 'created_at'], expansions=['author_id'],\n",
    "                              max_results=100).flatten(limit=nb)\n",
    "    L_tweets=[]\n",
    "    for tweet in tweets:\n",
    "        #if len(tweet.context_annotations) > 0: #s'il y a un domaine et l'entité\n",
    "        L_tweets.append([tweet.data['id'], tweet.data['text'], tweet.data['author_id'], tweet.data['created_at']])\n",
    "    \n",
    "    return L_tweets\n"
   ]
  },
  {
   "cell_type": "code",
   "execution_count": 322,
   "id": "da4818cc",
   "metadata": {},
   "outputs": [],
   "source": [
    "L=Recuperation_tweets([\"suicide\",\"suicidal\",\"I want to die\",\"help\",\"kill myself\",],10000)\n",
    "df=pd.DataFrame(L,columns=['id','text','auteur','date'])\n"
   ]
  },
  {
   "cell_type": "code",
   "execution_count": 327,
   "id": "58b93204",
   "metadata": {},
   "outputs": [],
   "source": [
    "#df.to_csv('Tweepy_Suicide_Tweets.csv',sep=';')\n",
    "#df.to_csv(r'C:\\Users\\owen9\\OneDrive\\Documents\\GitHub\\TwitterFeelingAnalyse\\Dataset\\Tweepy_Suicide_Tweets.csv',sep=';',index=False)\n"
   ]
  },
  {
   "cell_type": "markdown",
   "id": "6b76a866",
   "metadata": {},
   "source": [
    "# Analyse Users"
   ]
  },
  {
   "cell_type": "markdown",
   "id": "65d8799c",
   "metadata": {},
   "source": [
    "## Histrorique des tweets des personnes à risques"
   ]
  },
  {
   "cell_type": "code",
   "execution_count": 3,
   "id": "b0adfc7c",
   "metadata": {},
   "outputs": [
    {
     "data": {
      "text/html": [
       "<div>\n",
       "<style scoped>\n",
       "    .dataframe tbody tr th:only-of-type {\n",
       "        vertical-align: middle;\n",
       "    }\n",
       "\n",
       "    .dataframe tbody tr th {\n",
       "        vertical-align: top;\n",
       "    }\n",
       "\n",
       "    .dataframe thead th {\n",
       "        text-align: right;\n",
       "    }\n",
       "</style>\n",
       "<table border=\"1\" class=\"dataframe\">\n",
       "  <thead>\n",
       "    <tr style=\"text-align: right;\">\n",
       "      <th></th>\n",
       "      <th>id</th>\n",
       "      <th>text</th>\n",
       "      <th>auteur</th>\n",
       "      <th>date</th>\n",
       "      <th>keyword_label</th>\n",
       "      <th>valder_label</th>\n",
       "      <th>textbloc_polarity_label</th>\n",
       "      <th>textbloc_subjectivity_label</th>\n",
       "      <th>happy_transformer_label</th>\n",
       "      <th>bert_label</th>\n",
       "      <th>suicidal_bert_label</th>\n",
       "      <th>polarity_modele</th>\n",
       "      <th>modele_groupement_score</th>\n",
       "      <th>groupement_all_modele_par_3</th>\n",
       "    </tr>\n",
       "  </thead>\n",
       "  <tbody>\n",
       "    <tr>\n",
       "      <th>0</th>\n",
       "      <td>1618391698639556610</td>\n",
       "      <td>https   t co VgRPNEqwaN</td>\n",
       "      <td>813273195851681792</td>\n",
       "      <td>2023-01-25T23:33:43.000Z</td>\n",
       "      <td>1</td>\n",
       "      <td>0</td>\n",
       "      <td>0.000000</td>\n",
       "      <td>0.000000</td>\n",
       "      <td>1</td>\n",
       "      <td>0</td>\n",
       "      <td>0</td>\n",
       "      <td>1</td>\n",
       "      <td>2</td>\n",
       "      <td>0</td>\n",
       "    </tr>\n",
       "    <tr>\n",
       "      <th>1</th>\n",
       "      <td>1618391687990247424</td>\n",
       "      <td>RT  I was today years old when I found out  Ro...</td>\n",
       "      <td>808471634768265216</td>\n",
       "      <td>2023-01-25T23:33:41.000Z</td>\n",
       "      <td>0</td>\n",
       "      <td>1</td>\n",
       "      <td>0.050000</td>\n",
       "      <td>0.100000</td>\n",
       "      <td>1</td>\n",
       "      <td>1</td>\n",
       "      <td>0</td>\n",
       "      <td>1</td>\n",
       "      <td>3</td>\n",
       "      <td>1</td>\n",
       "    </tr>\n",
       "    <tr>\n",
       "      <th>2</th>\n",
       "      <td>1618391665726877697</td>\n",
       "      <td>RT  Another day  another domestic abuser in Am...</td>\n",
       "      <td>105294403</td>\n",
       "      <td>2023-01-25T23:33:36.000Z</td>\n",
       "      <td>1</td>\n",
       "      <td>1</td>\n",
       "      <td>0.216667</td>\n",
       "      <td>0.466667</td>\n",
       "      <td>1</td>\n",
       "      <td>0</td>\n",
       "      <td>0</td>\n",
       "      <td>1</td>\n",
       "      <td>3</td>\n",
       "      <td>1</td>\n",
       "    </tr>\n",
       "    <tr>\n",
       "      <th>3</th>\n",
       "      <td>1618391659888377856</td>\n",
       "      <td>RT  NO SHE DIDNT BUT WAITING ROOM TAKEN OFF SP...</td>\n",
       "      <td>1332277646764482560</td>\n",
       "      <td>2023-01-25T23:33:34.000Z</td>\n",
       "      <td>1</td>\n",
       "      <td>1</td>\n",
       "      <td>0.416667</td>\n",
       "      <td>0.583333</td>\n",
       "      <td>1</td>\n",
       "      <td>1</td>\n",
       "      <td>0</td>\n",
       "      <td>1</td>\n",
       "      <td>4</td>\n",
       "      <td>1</td>\n",
       "    </tr>\n",
       "    <tr>\n",
       "      <th>4</th>\n",
       "      <td>1618391653571784704</td>\n",
       "      <td>Your effectively can t take away the right of ...</td>\n",
       "      <td>29817415</td>\n",
       "      <td>2023-01-25T23:33:33.000Z</td>\n",
       "      <td>0</td>\n",
       "      <td>1</td>\n",
       "      <td>0.442857</td>\n",
       "      <td>0.667857</td>\n",
       "      <td>1</td>\n",
       "      <td>1</td>\n",
       "      <td>0</td>\n",
       "      <td>1</td>\n",
       "      <td>3</td>\n",
       "      <td>1</td>\n",
       "    </tr>\n",
       "  </tbody>\n",
       "</table>\n",
       "</div>"
      ],
      "text/plain": [
       "                    id                                               text  \\\n",
       "0  1618391698639556610                            https   t co VgRPNEqwaN   \n",
       "1  1618391687990247424  RT  I was today years old when I found out  Ro...   \n",
       "2  1618391665726877697  RT  Another day  another domestic abuser in Am...   \n",
       "3  1618391659888377856  RT  NO SHE DIDNT BUT WAITING ROOM TAKEN OFF SP...   \n",
       "4  1618391653571784704  Your effectively can t take away the right of ...   \n",
       "\n",
       "                auteur                      date  keyword_label  valder_label  \\\n",
       "0   813273195851681792  2023-01-25T23:33:43.000Z              1             0   \n",
       "1   808471634768265216  2023-01-25T23:33:41.000Z              0             1   \n",
       "2            105294403  2023-01-25T23:33:36.000Z              1             1   \n",
       "3  1332277646764482560  2023-01-25T23:33:34.000Z              1             1   \n",
       "4             29817415  2023-01-25T23:33:33.000Z              0             1   \n",
       "\n",
       "   textbloc_polarity_label  textbloc_subjectivity_label  \\\n",
       "0                 0.000000                     0.000000   \n",
       "1                 0.050000                     0.100000   \n",
       "2                 0.216667                     0.466667   \n",
       "3                 0.416667                     0.583333   \n",
       "4                 0.442857                     0.667857   \n",
       "\n",
       "   happy_transformer_label  bert_label  suicidal_bert_label  polarity_modele  \\\n",
       "0                        1           0                    0                1   \n",
       "1                        1           1                    0                1   \n",
       "2                        1           0                    0                1   \n",
       "3                        1           1                    0                1   \n",
       "4                        1           1                    0                1   \n",
       "\n",
       "   modele_groupement_score  groupement_all_modele_par_3  \n",
       "0                        2                            0  \n",
       "1                        3                            1  \n",
       "2                        3                            1  \n",
       "3                        4                            1  \n",
       "4                        3                            1  "
      ]
     },
     "execution_count": 3,
     "metadata": {},
     "output_type": "execute_result"
    }
   ],
   "source": [
    "df_init=pd.read_csv(r'C:\\Users\\owen9\\OneDrive\\Documents\\GitHub\\TwitterFeelingAnalyse\\Dataset\\Tweepy_Suicide_Tweets_Final.csv',sep=';')\n",
    "df=df_init.copy()\n",
    "df.head()"
   ]
  },
  {
   "cell_type": "code",
   "execution_count": 26,
   "id": "ce4348c5",
   "metadata": {},
   "outputs": [
    {
     "name": "stdout",
     "output_type": "stream",
     "text": [
      "7110\n",
      "[808471634768265216, 1555056913272176641, 701824658610454530, 1606765758851186691, 821369421360791556, 1247896418871738372, 1303349962856595461, 1066571247473983494, 1380877363530104840, 1607932020910325769]\n"
     ]
    }
   ],
   "source": [
    "L_personnes_a_risques=df[df['groupement_all_modele_par_3']==1]['auteur'].to_list()\n",
    "L_personnes_a_risques=list(set(L_personnes_a_risques))#garder les valeurs uniques\n",
    "print(len(L_personnes_a_risques))\n",
    "print(L_personnes_a_risques[:10])"
   ]
  },
  {
   "cell_type": "code",
   "execution_count": 56,
   "id": "354dfed2",
   "metadata": {},
   "outputs": [],
   "source": [
    "def Recuperation_tweets_personnes(L_personnes,nb_tweets):\n",
    "    client = tweepy.Client(bearer_token=info_bearer_token)\n",
    "\n",
    "    L_tweets=[]\n",
    "    for p_id in L_personnes:\n",
    "        tweets = tweepy.Paginator(client.get_users_tweets,id=p_id,tweet_fields=['context_annotations', 'created_at'],\n",
    "                                  expansions=['author_id'],max_results=100).flatten(limit=nb_tweets)\n",
    "        \n",
    "        #return tweets\n",
    "        \n",
    "        if tweets != None:\n",
    "            for tweet in tweets:\n",
    "            #if len(tweet.context_annotations) > 0: #s'il y a un domaine et l'entité\n",
    "                L_tweets.append([tweet.data['id'], tweet.data['text'], tweet.data['author_id'], tweet.data['created_at']])\n",
    "    \n",
    "    return L_tweets"
   ]
  },
  {
   "cell_type": "code",
   "execution_count": 196,
   "id": "8adb1ca5",
   "metadata": {},
   "outputs": [
    {
     "data": {
      "text/plain": [
       "[['1618443251454992384',\n",
       "  'I’m mad I didn’t get to save that video 😒',\n",
       "  '808471634768265216',\n",
       "  '2023-01-26T02:58:35.000Z'],\n",
       " ['1618391987073449984',\n",
       "  'RT @SunitaInsan1982: #MSGBhandara \\n•Millions of people reached Sirsa Darbar,Haryana.\\n•Many people gave up drugs,get method of meditation by…',\n",
       "  '1555056913272176641',\n",
       "  '2023-01-25T23:34:52.000Z'],\n",
       " ['1618591787580522496',\n",
       "  '@hamadux01 Ah',\n",
       "  '701824658610454530',\n",
       "  '2023-01-26T12:48:48.000Z'],\n",
       " ['1618410217934565377',\n",
       "  '@DavidBlue https://t.co/bjjTnysfun',\n",
       "  '1606765758851186691',\n",
       "  '2023-01-26T00:47:19.000Z'],\n",
       " ['1618502564231925760',\n",
       "  \"RT @revolutionvote: The left ruins things... They are like oh, you're ok with drag queens? Well fuck it, we'll get them to wave their wangs…\",\n",
       "  '821369421360791556',\n",
       "  '2023-01-26T06:54:16.000Z']]"
      ]
     },
     "execution_count": 196,
     "metadata": {},
     "output_type": "execute_result"
    }
   ],
   "source": [
    "L=Recuperation_tweets_personnes(L_personnes_a_risques[:5],1)\n",
    "L"
   ]
  },
  {
   "cell_type": "code",
   "execution_count": 180,
   "id": "ac4c9561",
   "metadata": {},
   "outputs": [
    {
     "data": {
      "text/plain": [
       "7110"
      ]
     },
     "execution_count": 180,
     "metadata": {},
     "output_type": "execute_result"
    }
   ],
   "source": [
    "len(L_personnes_a_risques)"
   ]
  },
  {
   "cell_type": "markdown",
   "id": "e55b0584",
   "metadata": {},
   "source": [
    "## Infos des profils"
   ]
  },
  {
   "cell_type": "code",
   "execution_count": 201,
   "id": "4a17c477",
   "metadata": {},
   "outputs": [],
   "source": [
    "def Infos_profils(L_users_id):\n",
    "    client = tweepy.Client(bearer_token=info_bearer_token)\n",
    "    L_tot=[]\n",
    "    for i in range(0,len(L_users_id),100):\n",
    "        a=i\n",
    "        b=a+100\n",
    "\n",
    "        users=client.get_users(ids=L_users_id[a:b], user_fields= ['created_at','description','id','location', \n",
    "                                                                    'name','protected','public_metrics','username',\n",
    "                                                                         'verified','verified_type'])\n",
    "        L_tot.append(users)\n",
    "                \n",
    "    L_info_users=[]\n",
    "    for users in L_tot:\n",
    "        for user in users.data:\n",
    "            L_info_users.append([user['id'],user['name'],user['username'],user['created_at'],user['location'],\n",
    "                                 user['public_metrics']['followers_count'],user['public_metrics']['following_count'],\n",
    "                                 user['public_metrics']['tweet_count'],user['public_metrics']['listed_count'],\n",
    "                                 user['protected'],user['verified'],user['verified_type'],user['description']])\n",
    "\n",
    "            \n",
    "    df_users=pd.DataFrame(L_info_users,columns=['id','name','username','created_at','location','followers_count',\n",
    "                                                'following_count','tweet_count','listed_count','protected','verified',\n",
    "                                                'verified_type','description'])\n",
    "    \n",
    "    return df_users\n",
    "    "
   ]
  },
  {
   "cell_type": "code",
   "execution_count": 203,
   "id": "815fb836",
   "metadata": {},
   "outputs": [
    {
     "data": {
      "text/html": [
       "<div>\n",
       "<style scoped>\n",
       "    .dataframe tbody tr th:only-of-type {\n",
       "        vertical-align: middle;\n",
       "    }\n",
       "\n",
       "    .dataframe tbody tr th {\n",
       "        vertical-align: top;\n",
       "    }\n",
       "\n",
       "    .dataframe thead th {\n",
       "        text-align: right;\n",
       "    }\n",
       "</style>\n",
       "<table border=\"1\" class=\"dataframe\">\n",
       "  <thead>\n",
       "    <tr style=\"text-align: right;\">\n",
       "      <th></th>\n",
       "      <th>id</th>\n",
       "      <th>name</th>\n",
       "      <th>username</th>\n",
       "      <th>created_at</th>\n",
       "      <th>location</th>\n",
       "      <th>followers_count</th>\n",
       "      <th>following_count</th>\n",
       "      <th>tweet_count</th>\n",
       "      <th>listed_count</th>\n",
       "      <th>protected</th>\n",
       "      <th>verified</th>\n",
       "      <th>verified_type</th>\n",
       "      <th>description</th>\n",
       "    </tr>\n",
       "  </thead>\n",
       "  <tbody>\n",
       "    <tr>\n",
       "      <th>0</th>\n",
       "      <td>808471634768265216</td>\n",
       "      <td>𝓡𝓮𝓮𝓶𝓪💕</td>\n",
       "      <td>_ThugAngel25</td>\n",
       "      <td>2016-12-13 00:40:33+00:00</td>\n",
       "      <td>989</td>\n",
       "      <td>2970</td>\n",
       "      <td>2566</td>\n",
       "      <td>38702</td>\n",
       "      <td>2</td>\n",
       "      <td>False</td>\n",
       "      <td>False</td>\n",
       "      <td>none</td>\n",
       "      <td>Like the night. without the dark, we'd never s...</td>\n",
       "    </tr>\n",
       "    <tr>\n",
       "      <th>1</th>\n",
       "      <td>1555056913272176641</td>\n",
       "      <td>Sushila Beniwal</td>\n",
       "      <td>SushilaBeniwal3</td>\n",
       "      <td>2022-08-04 05:04:19+00:00</td>\n",
       "      <td>None</td>\n",
       "      <td>26</td>\n",
       "      <td>26</td>\n",
       "      <td>7313</td>\n",
       "      <td>0</td>\n",
       "      <td>False</td>\n",
       "      <td>False</td>\n",
       "      <td>none</td>\n",
       "      <td></td>\n",
       "    </tr>\n",
       "    <tr>\n",
       "      <th>2</th>\n",
       "      <td>701824658610454530</td>\n",
       "      <td>Ramadan ‎ރ</td>\n",
       "      <td>shawarma_djej</td>\n",
       "      <td>2016-02-22 17:43:32+00:00</td>\n",
       "      <td>🇫🇷</td>\n",
       "      <td>259</td>\n",
       "      <td>717</td>\n",
       "      <td>7697</td>\n",
       "      <td>13</td>\n",
       "      <td>False</td>\n",
       "      <td>False</td>\n",
       "      <td>none</td>\n",
       "      <td>🇱🇧🇲🇦🇨🇮</td>\n",
       "    </tr>\n",
       "    <tr>\n",
       "      <th>3</th>\n",
       "      <td>1606765758851186691</td>\n",
       "      <td>Steve Long</td>\n",
       "      <td>hobbyanimations</td>\n",
       "      <td>2022-12-24 21:36:46+00:00</td>\n",
       "      <td>None</td>\n",
       "      <td>2170</td>\n",
       "      <td>52</td>\n",
       "      <td>89</td>\n",
       "      <td>0</td>\n",
       "      <td>False</td>\n",
       "      <td>False</td>\n",
       "      <td>none</td>\n",
       "      <td>Disabled Veteran who as a hobby makes  Films a...</td>\n",
       "    </tr>\n",
       "    <tr>\n",
       "      <th>4</th>\n",
       "      <td>821369421360791556</td>\n",
       "      <td>Right of Revolution</td>\n",
       "      <td>revolutionvote</td>\n",
       "      <td>2017-01-17 14:51:45+00:00</td>\n",
       "      <td>None</td>\n",
       "      <td>1849</td>\n",
       "      <td>1769</td>\n",
       "      <td>81473</td>\n",
       "      <td>7</td>\n",
       "      <td>False</td>\n",
       "      <td>False</td>\n",
       "      <td>none</td>\n",
       "      <td>I identify as an empire builder. My preferred ...</td>\n",
       "    </tr>\n",
       "    <tr>\n",
       "      <th>5</th>\n",
       "      <td>1247896418871738372</td>\n",
       "      <td>Teg ! ／(≧ x ≦)＼SSD 📌</td>\n",
       "      <td>USHANKAIVAN</td>\n",
       "      <td>2020-04-08 14:38:24+00:00</td>\n",
       "      <td>They/them - wasian - 15</td>\n",
       "      <td>615</td>\n",
       "      <td>903</td>\n",
       "      <td>26047</td>\n",
       "      <td>10</td>\n",
       "      <td>False</td>\n",
       "      <td>False</td>\n",
       "      <td>none</td>\n",
       "      <td>subscribe and like this vid to see me cry abt ...</td>\n",
       "    </tr>\n",
       "    <tr>\n",
       "      <th>6</th>\n",
       "      <td>1303349962856595461</td>\n",
       "      <td>IndyWales-Anti Westminster 🇪🇺🏴󠁧󠁢󠁷󠁬󠁳󠁿🇺🇦</td>\n",
       "      <td>TLlanelli</td>\n",
       "      <td>2020-09-08 15:10:33+00:00</td>\n",
       "      <td>Wales</td>\n",
       "      <td>2726</td>\n",
       "      <td>5002</td>\n",
       "      <td>163727</td>\n",
       "      <td>20</td>\n",
       "      <td>False</td>\n",
       "      <td>False</td>\n",
       "      <td>none</td>\n",
       "      <td>Your ID: #Welsh #English #Scottish or British ...</td>\n",
       "    </tr>\n",
       "    <tr>\n",
       "      <th>7</th>\n",
       "      <td>1066571247473983494</td>\n",
       "      <td>Jess ⚢ ☭ ⛓</td>\n",
       "      <td>dykemelodrama</td>\n",
       "      <td>2018-11-25 05:56:16+00:00</td>\n",
       "      <td>San Francisco, CA</td>\n",
       "      <td>385</td>\n",
       "      <td>324</td>\n",
       "      <td>37412</td>\n",
       "      <td>2</td>\n",
       "      <td>False</td>\n",
       "      <td>False</td>\n",
       "      <td>none</td>\n",
       "      <td>Jess, 29 🔞🏳️‍🌈🏳️‍⚧️⛓ ☭🏴 Disco loving Dyke, wan...</td>\n",
       "    </tr>\n",
       "    <tr>\n",
       "      <th>8</th>\n",
       "      <td>1380877363530104840</td>\n",
       "      <td>Labii𓂀</td>\n",
       "      <td>Lab1_S</td>\n",
       "      <td>2021-04-10 13:36:51+00:00</td>\n",
       "      <td>Vranjevc</td>\n",
       "      <td>436</td>\n",
       "      <td>366</td>\n",
       "      <td>29638</td>\n",
       "      <td>2</td>\n",
       "      <td>False</td>\n",
       "      <td>False</td>\n",
       "      <td>none</td>\n",
       "      <td>i retweet weird shit and shitpost</td>\n",
       "    </tr>\n",
       "    <tr>\n",
       "      <th>9</th>\n",
       "      <td>1607932020910325769</td>\n",
       "      <td>Jeff Cox</td>\n",
       "      <td>TaterHater16</td>\n",
       "      <td>2022-12-28 02:51:39+00:00</td>\n",
       "      <td>Ripley, TN</td>\n",
       "      <td>63</td>\n",
       "      <td>85</td>\n",
       "      <td>1629</td>\n",
       "      <td>0</td>\n",
       "      <td>False</td>\n",
       "      <td>False</td>\n",
       "      <td>none</td>\n",
       "      <td>Happily Married to Neda Cox, Father to the gre...</td>\n",
       "    </tr>\n",
       "  </tbody>\n",
       "</table>\n",
       "</div>"
      ],
      "text/plain": [
       "                    id                                    name  \\\n",
       "0   808471634768265216                                  𝓡𝓮𝓮𝓶𝓪💕   \n",
       "1  1555056913272176641                         Sushila Beniwal   \n",
       "2   701824658610454530                              Ramadan ‎ރ   \n",
       "3  1606765758851186691                              Steve Long   \n",
       "4   821369421360791556                     Right of Revolution   \n",
       "5  1247896418871738372                    Teg ! ／(≧ x ≦)＼SSD 📌   \n",
       "6  1303349962856595461  IndyWales-Anti Westminster 🇪🇺🏴󠁧󠁢󠁷󠁬󠁳󠁿🇺🇦   \n",
       "7  1066571247473983494                              Jess ⚢ ☭ ⛓   \n",
       "8  1380877363530104840                                  Labii𓂀   \n",
       "9  1607932020910325769                                Jeff Cox   \n",
       "\n",
       "          username                created_at                  location  \\\n",
       "0     _ThugAngel25 2016-12-13 00:40:33+00:00                       989   \n",
       "1  SushilaBeniwal3 2022-08-04 05:04:19+00:00                      None   \n",
       "2    shawarma_djej 2016-02-22 17:43:32+00:00                        🇫🇷   \n",
       "3  hobbyanimations 2022-12-24 21:36:46+00:00                      None   \n",
       "4   revolutionvote 2017-01-17 14:51:45+00:00                      None   \n",
       "5      USHANKAIVAN 2020-04-08 14:38:24+00:00  They/them - wasian - 15    \n",
       "6        TLlanelli 2020-09-08 15:10:33+00:00                     Wales   \n",
       "7    dykemelodrama 2018-11-25 05:56:16+00:00         San Francisco, CA   \n",
       "8           Lab1_S 2021-04-10 13:36:51+00:00                  Vranjevc   \n",
       "9     TaterHater16 2022-12-28 02:51:39+00:00                Ripley, TN   \n",
       "\n",
       "   followers_count  following_count  tweet_count  listed_count  protected  \\\n",
       "0             2970             2566        38702             2      False   \n",
       "1               26               26         7313             0      False   \n",
       "2              259              717         7697            13      False   \n",
       "3             2170               52           89             0      False   \n",
       "4             1849             1769        81473             7      False   \n",
       "5              615              903        26047            10      False   \n",
       "6             2726             5002       163727            20      False   \n",
       "7              385              324        37412             2      False   \n",
       "8              436              366        29638             2      False   \n",
       "9               63               85         1629             0      False   \n",
       "\n",
       "   verified verified_type                                        description  \n",
       "0     False          none  Like the night. without the dark, we'd never s...  \n",
       "1     False          none                                                     \n",
       "2     False          none                                             🇱🇧🇲🇦🇨🇮  \n",
       "3     False          none  Disabled Veteran who as a hobby makes  Films a...  \n",
       "4     False          none  I identify as an empire builder. My preferred ...  \n",
       "5     False          none  subscribe and like this vid to see me cry abt ...  \n",
       "6     False          none  Your ID: #Welsh #English #Scottish or British ...  \n",
       "7     False          none  Jess, 29 🔞🏳️‍🌈🏳️‍⚧️⛓ ☭🏴 Disco loving Dyke, wan...  \n",
       "8     False          none                  i retweet weird shit and shitpost  \n",
       "9     False          none  Happily Married to Neda Cox, Father to the gre...  "
      ]
     },
     "execution_count": 203,
     "metadata": {},
     "output_type": "execute_result"
    }
   ],
   "source": [
    "df_users=Infos_profils(L_personnes_a_risques)\n",
    "df_users.head(10)"
   ]
  },
  {
   "cell_type": "code",
   "execution_count": 204,
   "id": "3a2f4d66",
   "metadata": {},
   "outputs": [],
   "source": [
    "df_users.to_csv(r'C:\\Users\\owen9\\OneDrive\\Documents\\GitHub\\TwitterFeelingAnalyse\\Dataset\\Infos_users.csv',sep=';',index=False)\n",
    "                "
   ]
  },
  {
   "cell_type": "markdown",
   "id": "bd6d1fae",
   "metadata": {},
   "source": [
    "# Envoyer message"
   ]
  },
  {
   "cell_type": "code",
   "execution_count": null,
   "id": "ce7763c6",
   "metadata": {},
   "outputs": [],
   "source": [
    "client = tweepy.Client(bearer_token=info_bearer_token)"
   ]
  },
  {
   "cell_type": "code",
   "execution_count": 16,
   "id": "1ba54b23",
   "metadata": {},
   "outputs": [
    {
     "data": {
      "text/plain": [
       "3080430177"
      ]
     },
     "execution_count": 16,
     "metadata": {},
     "output_type": "execute_result"
    }
   ],
   "source": [
    "screen_name = \"axelg99\"\n",
    "twitterid = client.get_user(username=screen_name)\n",
    "twitterid.data.id"
   ]
  },
  {
   "cell_type": "code",
   "execution_count": 20,
   "id": "469eb9b9",
   "metadata": {},
   "outputs": [],
   "source": [
    "message=\"Si tu as des pensées suicidaires, s'il te plaît contacte immédiatement SOS Amitié pour obtenir de l'aide. Les horaires sont disponibles 24h/24 et 7j/7. Pour plus d'informations, compose le numéro 09 72 39 40 50. Tu n'es pas seul, nous sommes là pour t'aider.\"\n"
   ]
  },
  {
   "cell_type": "code",
   "execution_count": 21,
   "id": "7628094a",
   "metadata": {},
   "outputs": [
    {
     "data": {
      "text/plain": [
       "DirectMessage(_api=<tweepy.api.API object at 0x00000273EDBDC280>, _json={'type': 'message_create', 'id': '1618756037703499780', 'created_timestamp': '1674776489078', 'message_create': {'target': {'recipient_id': '3080430177'}, 'sender_id': '1574148627672571904', 'message_data': {'text': \"Si tu as des pensées suicidaires, s'il te plaît contacte immédiatement SOS Amitié pour obtenir de l'aide. Les horaires sont disponibles 24h/24 et 7j/7. Pour plus d'informations, compose le numéro 09 72 39 40 50. Tu n'es pas seul, nous sommes là pour t'aider.\", 'entities': {'hashtags': [], 'symbols': [], 'user_mentions': [], 'urls': []}}}}, type='message_create', id='1618756037703499780', created_timestamp='1674776489078', message_create={'target': {'recipient_id': '3080430177'}, 'sender_id': '1574148627672571904', 'message_data': {'text': \"Si tu as des pensées suicidaires, s'il te plaît contacte immédiatement SOS Amitié pour obtenir de l'aide. Les horaires sont disponibles 24h/24 et 7j/7. Pour plus d'informations, compose le numéro 09 72 39 40 50. Tu n'es pas seul, nous sommes là pour t'aider.\", 'entities': {'hashtags': [], 'symbols': [], 'user_mentions': [], 'urls': []}}})"
      ]
     },
     "execution_count": 21,
     "metadata": {},
     "output_type": "execute_result"
    }
   ],
   "source": [
    "api.send_direct_message(twitterid.data.id, message)"
   ]
  },
  {
   "cell_type": "markdown",
   "id": "e4445a43",
   "metadata": {},
   "source": [
    "# Tests"
   ]
  },
  {
   "cell_type": "code",
   "execution_count": 16,
   "id": "f819ad8d",
   "metadata": {},
   "outputs": [
    {
     "data": {
      "text/plain": [
       "<tweepy.api.API at 0x202d5dc5220>"
      ]
     },
     "execution_count": 16,
     "metadata": {},
     "output_type": "execute_result"
    }
   ],
   "source": [
    "auth = tweepy.OAuth2BearerHandler(info_bearer_token)\n",
    "api = tweepy.API(auth)\n",
    "api"
   ]
  },
  {
   "cell_type": "code",
   "execution_count": 90,
   "id": "9d466747",
   "metadata": {},
   "outputs": [
    {
     "data": {
      "text/plain": [
       "<tweepy.api.API at 0x202d60413a0>"
      ]
     },
     "execution_count": 90,
     "metadata": {},
     "output_type": "execute_result"
    }
   ],
   "source": [
    "auth = tweepy.OAuth2AppHandler(info_api_key, info_api_key_secret)\n",
    "api = tweepy.API(auth)\n",
    "api"
   ]
  },
  {
   "cell_type": "code",
   "execution_count": 89,
   "id": "b11a7db8",
   "metadata": {},
   "outputs": [
    {
     "ename": "TypeError",
     "evalue": "__init__() takes 1 positional argument but 5 were given",
     "output_type": "error",
     "traceback": [
      "\u001b[1;31m---------------------------------------------------------------------------\u001b[0m",
      "\u001b[1;31mTypeError\u001b[0m                                 Traceback (most recent call last)",
      "\u001b[1;32m~\\AppData\\Local\\Temp\\ipykernel_25412\\2404087013.py\u001b[0m in \u001b[0;36m<module>\u001b[1;34m\u001b[0m\n\u001b[1;32m----> 1\u001b[1;33m \u001b[0mauth\u001b[0m \u001b[1;33m=\u001b[0m \u001b[0mtweepy\u001b[0m\u001b[1;33m.\u001b[0m\u001b[0mOAuth2UserHandler\u001b[0m\u001b[1;33m(\u001b[0m\u001b[0minfo_api_key\u001b[0m\u001b[1;33m,\u001b[0m \u001b[0minfo_api_key_secret\u001b[0m\u001b[1;33m,\u001b[0m \u001b[0minfo_acces_token\u001b[0m\u001b[1;33m,\u001b[0m \u001b[0minfo_acces_token_secret\u001b[0m\u001b[1;33m)\u001b[0m\u001b[1;33m\u001b[0m\u001b[1;33m\u001b[0m\u001b[0m\n\u001b[0m\u001b[0;32m      2\u001b[0m \u001b[0mapi\u001b[0m \u001b[1;33m=\u001b[0m \u001b[0mtweepy\u001b[0m\u001b[1;33m.\u001b[0m\u001b[0mAPI\u001b[0m\u001b[1;33m(\u001b[0m\u001b[0mauth\u001b[0m\u001b[1;33m)\u001b[0m\u001b[1;33m\u001b[0m\u001b[1;33m\u001b[0m\u001b[0m\n\u001b[0;32m      3\u001b[0m \u001b[0mapi\u001b[0m\u001b[1;33m\u001b[0m\u001b[1;33m\u001b[0m\u001b[0m\n",
      "\u001b[1;31mTypeError\u001b[0m: __init__() takes 1 positional argument but 5 were given"
     ]
    }
   ],
   "source": [
    "auth = tweepy.OAuth2UserHandler(info_api_key, info_api_key_secret, info_acces_token, info_acces_token_secret)\n",
    "api = tweepy.API(auth)\n",
    "api"
   ]
  },
  {
   "cell_type": "code",
   "execution_count": 91,
   "id": "46acf62b",
   "metadata": {},
   "outputs": [
    {
     "data": {
      "text/plain": [
       "<tweepy.client.Client at 0x202d60383a0>"
      ]
     },
     "execution_count": 91,
     "metadata": {},
     "output_type": "execute_result"
    }
   ],
   "source": [
    "client = tweepy.Client(info_bearer_token)\n",
    "client"
   ]
  },
  {
   "cell_type": "code",
   "execution_count": 66,
   "id": "63651376",
   "metadata": {},
   "outputs": [
    {
     "ename": "TypeError",
     "evalue": "Consumer key must be string or bytes, not NoneType",
     "output_type": "error",
     "traceback": [
      "\u001b[1;31m---------------------------------------------------------------------------\u001b[0m",
      "\u001b[1;31mTypeError\u001b[0m                                 Traceback (most recent call last)",
      "\u001b[1;32m~\\AppData\\Local\\Temp\\ipykernel_25412\\3273643456.py\u001b[0m in \u001b[0;36m<module>\u001b[1;34m\u001b[0m\n\u001b[1;32m----> 1\u001b[1;33m \u001b[0mclient\u001b[0m\u001b[1;33m.\u001b[0m\u001b[0mcreate_tweet\u001b[0m\u001b[1;33m(\u001b[0m\u001b[0min_reply_to_tweet_id\u001b[0m\u001b[1;33m=\u001b[0m\u001b[0mtwitterid\u001b[0m\u001b[1;33m[\u001b[0m\u001b[1;36m0\u001b[0m\u001b[1;33m]\u001b[0m\u001b[1;33m.\u001b[0m\u001b[0mid\u001b[0m\u001b[1;33m,\u001b[0m \u001b[0mtext\u001b[0m\u001b[1;33m=\u001b[0m\u001b[1;34m'test'\u001b[0m\u001b[1;33m)\u001b[0m\u001b[1;33m\u001b[0m\u001b[1;33m\u001b[0m\u001b[0m\n\u001b[0m",
      "\u001b[1;32mD:\\Logiciels\\anaconda3\\lib\\site-packages\\tweepy\\client.py\u001b[0m in \u001b[0;36mcreate_tweet\u001b[1;34m(self, direct_message_deep_link, for_super_followers_only, place_id, media_ids, media_tagged_user_ids, poll_duration_minutes, poll_options, quote_tweet_id, exclude_reply_user_ids, in_reply_to_tweet_id, reply_settings, text, user_auth)\u001b[0m\n\u001b[0;32m    833\u001b[0m             \u001b[0mjson\u001b[0m\u001b[1;33m[\u001b[0m\u001b[1;34m\"text\"\u001b[0m\u001b[1;33m]\u001b[0m \u001b[1;33m=\u001b[0m \u001b[0mtext\u001b[0m\u001b[1;33m\u001b[0m\u001b[1;33m\u001b[0m\u001b[0m\n\u001b[0;32m    834\u001b[0m \u001b[1;33m\u001b[0m\u001b[0m\n\u001b[1;32m--> 835\u001b[1;33m         return self._make_request(\n\u001b[0m\u001b[0;32m    836\u001b[0m             \u001b[1;34m\"POST\"\u001b[0m\u001b[1;33m,\u001b[0m \u001b[1;34mf\"/2/tweets\"\u001b[0m\u001b[1;33m,\u001b[0m \u001b[0mjson\u001b[0m\u001b[1;33m=\u001b[0m\u001b[0mjson\u001b[0m\u001b[1;33m,\u001b[0m \u001b[0muser_auth\u001b[0m\u001b[1;33m=\u001b[0m\u001b[0muser_auth\u001b[0m\u001b[1;33m\u001b[0m\u001b[1;33m\u001b[0m\u001b[0m\n\u001b[0;32m    837\u001b[0m         )\n",
      "\u001b[1;32mD:\\Logiciels\\anaconda3\\lib\\site-packages\\tweepy\\client.py\u001b[0m in \u001b[0;36m_make_request\u001b[1;34m(self, method, route, params, endpoint_parameters, json, data_type, user_auth)\u001b[0m\n\u001b[0;32m    127\u001b[0m         \u001b[0mrequest_params\u001b[0m \u001b[1;33m=\u001b[0m \u001b[0mself\u001b[0m\u001b[1;33m.\u001b[0m\u001b[0m_process_params\u001b[0m\u001b[1;33m(\u001b[0m\u001b[0mparams\u001b[0m\u001b[1;33m,\u001b[0m \u001b[0mendpoint_parameters\u001b[0m\u001b[1;33m)\u001b[0m\u001b[1;33m\u001b[0m\u001b[1;33m\u001b[0m\u001b[0m\n\u001b[0;32m    128\u001b[0m \u001b[1;33m\u001b[0m\u001b[0m\n\u001b[1;32m--> 129\u001b[1;33m         response = self.request(method, route, params=request_params,\n\u001b[0m\u001b[0;32m    130\u001b[0m                                 json=json, user_auth=user_auth)\n\u001b[0;32m    131\u001b[0m \u001b[1;33m\u001b[0m\u001b[0m\n",
      "\u001b[1;32mD:\\Logiciels\\anaconda3\\lib\\site-packages\\tweepy\\client.py\u001b[0m in \u001b[0;36mrequest\u001b[1;34m(self, method, route, params, json, user_auth)\u001b[0m\n\u001b[0;32m     67\u001b[0m         \u001b[0mauth\u001b[0m \u001b[1;33m=\u001b[0m \u001b[1;32mNone\u001b[0m\u001b[1;33m\u001b[0m\u001b[1;33m\u001b[0m\u001b[0m\n\u001b[0;32m     68\u001b[0m         \u001b[1;32mif\u001b[0m \u001b[0muser_auth\u001b[0m\u001b[1;33m:\u001b[0m\u001b[1;33m\u001b[0m\u001b[1;33m\u001b[0m\u001b[0m\n\u001b[1;32m---> 69\u001b[1;33m             auth = OAuth1UserHandler(\n\u001b[0m\u001b[0;32m     70\u001b[0m                 \u001b[0mself\u001b[0m\u001b[1;33m.\u001b[0m\u001b[0mconsumer_key\u001b[0m\u001b[1;33m,\u001b[0m \u001b[0mself\u001b[0m\u001b[1;33m.\u001b[0m\u001b[0mconsumer_secret\u001b[0m\u001b[1;33m,\u001b[0m\u001b[1;33m\u001b[0m\u001b[1;33m\u001b[0m\u001b[0m\n\u001b[0;32m     71\u001b[0m                 \u001b[0mself\u001b[0m\u001b[1;33m.\u001b[0m\u001b[0maccess_token\u001b[0m\u001b[1;33m,\u001b[0m \u001b[0mself\u001b[0m\u001b[1;33m.\u001b[0m\u001b[0maccess_token_secret\u001b[0m\u001b[1;33m\u001b[0m\u001b[1;33m\u001b[0m\u001b[0m\n",
      "\u001b[1;32mD:\\Logiciels\\anaconda3\\lib\\site-packages\\tweepy\\auth.py\u001b[0m in \u001b[0;36m__init__\u001b[1;34m(self, consumer_key, consumer_secret, access_token, access_token_secret, callback)\u001b[0m\n\u001b[0;32m     29\u001b[0m                  access_token_secret=None, callback=None):\n\u001b[0;32m     30\u001b[0m         \u001b[1;32mif\u001b[0m \u001b[1;32mnot\u001b[0m \u001b[0misinstance\u001b[0m\u001b[1;33m(\u001b[0m\u001b[0mconsumer_key\u001b[0m\u001b[1;33m,\u001b[0m \u001b[1;33m(\u001b[0m\u001b[0mstr\u001b[0m\u001b[1;33m,\u001b[0m \u001b[0mbytes\u001b[0m\u001b[1;33m)\u001b[0m\u001b[1;33m)\u001b[0m\u001b[1;33m:\u001b[0m\u001b[1;33m\u001b[0m\u001b[1;33m\u001b[0m\u001b[0m\n\u001b[1;32m---> 31\u001b[1;33m             raise TypeError(\"Consumer key must be string or bytes, not \"\n\u001b[0m\u001b[0;32m     32\u001b[0m                             + type(consumer_key).__name__)\n\u001b[0;32m     33\u001b[0m         \u001b[1;32mif\u001b[0m \u001b[1;32mnot\u001b[0m \u001b[0misinstance\u001b[0m\u001b[1;33m(\u001b[0m\u001b[0mconsumer_secret\u001b[0m\u001b[1;33m,\u001b[0m \u001b[1;33m(\u001b[0m\u001b[0mstr\u001b[0m\u001b[1;33m,\u001b[0m \u001b[0mbytes\u001b[0m\u001b[1;33m)\u001b[0m\u001b[1;33m)\u001b[0m\u001b[1;33m:\u001b[0m\u001b[1;33m\u001b[0m\u001b[1;33m\u001b[0m\u001b[0m\n",
      "\u001b[1;31mTypeError\u001b[0m: Consumer key must be string or bytes, not NoneType"
     ]
    }
   ],
   "source": [
    "client.create_tweet(in_reply_to_tweet_id=twitterid[0].id, text='test')"
   ]
  },
  {
   "cell_type": "code",
   "execution_count": 22,
   "id": "0e42a976",
   "metadata": {},
   "outputs": [
    {
     "data": {
      "text/plain": [
       "<tweepy.client.Client at 0x202d5dadf40>"
      ]
     },
     "execution_count": 22,
     "metadata": {},
     "output_type": "execute_result"
    }
   ],
   "source": [
    "client = tweepy.Client(info_api_key,info_api_key_secret,info_acces_token,info_acces_token_secret)\n",
    "client"
   ]
  },
  {
   "cell_type": "code",
   "execution_count": 93,
   "id": "99aa4b8a",
   "metadata": {},
   "outputs": [
    {
     "name": "stdout",
     "output_type": "stream",
     "text": [
      "https://twitter.com/i/oauth2/authorize?response_type=code&client_id=VzlNTVNlYmw4b21ORUtKdlJiYkc6MTpjaQ&redirect_uri=https%3A%2F%2Ftwitter.com%2F&scope=tweet.read+tweet.write+users.read&state=fE1kMMnR54NV0jZGMNveddWqQvVXzc&code_challenge=3wWCN2wK6T9iFvK4NqWauFq76aG4NJoqqmvJDi8zjjA&code_challenge_method=S256\n"
     ]
    }
   ],
   "source": [
    "oauth2_user_handler = tweepy.OAuth2UserHandler(\n",
    "    client_id=info_client_id,\n",
    "    redirect_uri=info_callback_uri,\n",
    "    scope=info_scope,\n",
    "    # Client Secret is only necessary if using a confidential client\n",
    "    client_secret=info_client_secret\n",
    ")\n",
    "\n",
    "print(oauth2_user_handler.get_authorization_url())"
   ]
  },
  {
   "cell_type": "code",
   "execution_count": 62,
   "id": "6dc2abb9",
   "metadata": {},
   "outputs": [],
   "source": [
    "auth_url='https://twitter.com/home?state=lJ59K5uCQminldrbNR5OX7QmePFTya&code=czRUZEIyeWV4Q2FKR2ZKemdqa1lxei1SdEpLSV8zUmxGTWU1ZkgyaG1iU24tOjE2NzQ2NjM3Nzc1MDA6MToxOmFjOjE'\n",
    "access_token = oauth2_user_handler.fetch_token(auth_url)"
   ]
  },
  {
   "cell_type": "code",
   "execution_count": 63,
   "id": "1de40643",
   "metadata": {},
   "outputs": [
    {
     "data": {
      "text/plain": [
       "<tweepy.api.API at 0x202d5ee7520>"
      ]
     },
     "execution_count": 63,
     "metadata": {},
     "output_type": "execute_result"
    }
   ],
   "source": [
    "api = tweepy.API(auth)\n",
    "api"
   ]
  },
  {
   "cell_type": "code",
   "execution_count": null,
   "id": "48b413aa",
   "metadata": {},
   "outputs": [],
   "source": [
    "client = tweepy.Client(bearer_token=info_bearer_token)\n",
    "\n",
    "# Create a tweet query\n",
    "# https://github.com/twitterdev/getting-started-with-the-twitter-api-v2-for-academic-research/blob/main/modules/5-how-to-write-search-queries.md\n",
    "query = 'suicide lang:en'\n",
    "tweets = client.search_recent_tweets(query, max_results=100)\n",
    "for tweet in tweets.data:\n",
    "    print(tweet.text)\n",
    "    if len(tweet.context_annotations) > 0:\n",
    "        print(tweet.context_annotations)"
   ]
  },
  {
   "cell_type": "code",
   "execution_count": 41,
   "id": "7d126004",
   "metadata": {},
   "outputs": [
    {
     "data": {
      "text/plain": [
       "<tweepy.client.Client at 0x202d5dc5070>"
      ]
     },
     "execution_count": 41,
     "metadata": {},
     "output_type": "execute_result"
    }
   ],
   "source": [
    "client = tweepy.Client(access_token)\n",
    "client"
   ]
  },
  {
   "cell_type": "code",
   "execution_count": 7,
   "id": "2aa121bc",
   "metadata": {},
   "outputs": [],
   "source": [
    "# Authenticate access\n",
    "auth = tweepy.OAuthHandler(info_api_key, info_api_key_secret)\n",
    "auth.set_access_token(info_acces_token, info_acces_token_secret)\n",
    "# Create API handler\n",
    "api = tweepy.API(auth)\n",
    "\n",
    "api\n",
    "client = tweepy.Client(bearer_token=info_bearer_token)"
   ]
  },
  {
   "cell_type": "code",
   "execution_count": 70,
   "id": "2e1b3264",
   "metadata": {},
   "outputs": [
    {
     "ename": "AttributeError",
     "evalue": "'API' object has no attribute 'search'",
     "output_type": "error",
     "traceback": [
      "\u001b[1;31m---------------------------------------------------------------------------\u001b[0m",
      "\u001b[1;31mAttributeError\u001b[0m                            Traceback (most recent call last)",
      "\u001b[1;32m~\\AppData\\Local\\Temp\\ipykernel_25412\\3819055345.py\u001b[0m in \u001b[0;36m<module>\u001b[1;34m\u001b[0m\n\u001b[1;32m----> 1\u001b[1;33m \u001b[0mtwts\u001b[0m \u001b[1;33m=\u001b[0m \u001b[0mapi\u001b[0m\u001b[1;33m.\u001b[0m\u001b[0msearch\u001b[0m\u001b[1;33m(\u001b[0m\u001b[0mq\u001b[0m\u001b[1;33m=\u001b[0m\u001b[1;34m\"Hello World!\"\u001b[0m\u001b[1;33m)\u001b[0m\u001b[1;33m\u001b[0m\u001b[1;33m\u001b[0m\u001b[0m\n\u001b[0m\u001b[0;32m      2\u001b[0m \u001b[1;33m\u001b[0m\u001b[0m\n\u001b[0;32m      3\u001b[0m \u001b[1;31m#list of specific strings we want to check for in Tweets\u001b[0m\u001b[1;33m\u001b[0m\u001b[1;33m\u001b[0m\u001b[0m\n\u001b[0;32m      4\u001b[0m t = ['Hello world!',\n\u001b[0;32m      5\u001b[0m     \u001b[1;34m'Hello World!'\u001b[0m\u001b[1;33m,\u001b[0m\u001b[1;33m\u001b[0m\u001b[1;33m\u001b[0m\u001b[0m\n",
      "\u001b[1;31mAttributeError\u001b[0m: 'API' object has no attribute 'search'"
     ]
    }
   ],
   "source": [
    "twts = api.search(q=\"Hello World!\")\n",
    "\n",
    "#list of specific strings we want to check for in Tweets\n",
    "t = ['Hello world!',\n",
    "    'Hello World!',\n",
    "    'Hello World!!!',\n",
    "    'Hello world!!!',\n",
    "    'Hello, world!',\n",
    "    'Hello, World!']\n",
    "\n",
    "for s in twt:\n",
    "    for i in t:\n",
    "        if i == s.text:\n",
    "            sn = s.user.screen_name\n",
    "            m = \"@%s Hello!\" % (sn)\n",
    "            s = api.update_status(m, s.id)"
   ]
  },
  {
   "cell_type": "code",
   "execution_count": 72,
   "id": "2964602d",
   "metadata": {},
   "outputs": [
    {
     "ename": "Forbidden",
     "evalue": "403 Forbidden\n453 - You currently have Essential access which includes access to Twitter API v2 endpoints only. If you need access to this endpoint, you’ll need to apply for Elevated access via the Developer Portal. You can learn more here: https://developer.twitter.com/en/docs/twitter-api/getting-started/about-twitter-api#v2-access-leve",
     "output_type": "error",
     "traceback": [
      "\u001b[1;31m---------------------------------------------------------------------------\u001b[0m",
      "\u001b[1;31mForbidden\u001b[0m                                 Traceback (most recent call last)",
      "\u001b[1;32m~\\AppData\\Local\\Temp\\ipykernel_25412\\2332477596.py\u001b[0m in \u001b[0;36m<module>\u001b[1;34m\u001b[0m\n\u001b[0;32m      1\u001b[0m \u001b[0mrecipient_id\u001b[0m \u001b[1;33m=\u001b[0m \u001b[1;34m\"1618042845625212928\"\u001b[0m  \u001b[1;31m# ID of the user\u001b[0m\u001b[1;33m\u001b[0m\u001b[1;33m\u001b[0m\u001b[0m\n\u001b[1;32m----> 2\u001b[1;33m \u001b[0mapi\u001b[0m\u001b[1;33m.\u001b[0m\u001b[0msend_direct_message\u001b[0m\u001b[1;33m(\u001b[0m\u001b[0mrecipient_id\u001b[0m\u001b[1;33m,\u001b[0m \u001b[1;34m\"Hoi hoi\"\u001b[0m\u001b[1;33m)\u001b[0m\u001b[1;33m\u001b[0m\u001b[1;33m\u001b[0m\u001b[0m\n\u001b[0m",
      "\u001b[1;32mD:\\Logiciels\\anaconda3\\lib\\site-packages\\tweepy\\api.py\u001b[0m in \u001b[0;36mwrapper\u001b[1;34m(*args, **kwargs)\u001b[0m\n\u001b[0;32m     44\u001b[0m             \u001b[0mkwargs\u001b[0m\u001b[1;33m[\u001b[0m\u001b[1;34m'payload_list'\u001b[0m\u001b[1;33m]\u001b[0m \u001b[1;33m=\u001b[0m \u001b[0mpayload_list\u001b[0m\u001b[1;33m\u001b[0m\u001b[1;33m\u001b[0m\u001b[0m\n\u001b[0;32m     45\u001b[0m             \u001b[0mkwargs\u001b[0m\u001b[1;33m[\u001b[0m\u001b[1;34m'payload_type'\u001b[0m\u001b[1;33m]\u001b[0m \u001b[1;33m=\u001b[0m \u001b[0mpayload_type\u001b[0m\u001b[1;33m\u001b[0m\u001b[1;33m\u001b[0m\u001b[0m\n\u001b[1;32m---> 46\u001b[1;33m             \u001b[1;32mreturn\u001b[0m \u001b[0mmethod\u001b[0m\u001b[1;33m(\u001b[0m\u001b[1;33m*\u001b[0m\u001b[0margs\u001b[0m\u001b[1;33m,\u001b[0m \u001b[1;33m**\u001b[0m\u001b[0mkwargs\u001b[0m\u001b[1;33m)\u001b[0m\u001b[1;33m\u001b[0m\u001b[1;33m\u001b[0m\u001b[0m\n\u001b[0m\u001b[0;32m     47\u001b[0m         \u001b[0mwrapper\u001b[0m\u001b[1;33m.\u001b[0m\u001b[0mpayload_list\u001b[0m \u001b[1;33m=\u001b[0m \u001b[0mpayload_list\u001b[0m\u001b[1;33m\u001b[0m\u001b[1;33m\u001b[0m\u001b[0m\n\u001b[0;32m     48\u001b[0m         \u001b[0mwrapper\u001b[0m\u001b[1;33m.\u001b[0m\u001b[0mpayload_type\u001b[0m \u001b[1;33m=\u001b[0m \u001b[0mpayload_type\u001b[0m\u001b[1;33m\u001b[0m\u001b[1;33m\u001b[0m\u001b[0m\n",
      "\u001b[1;32mD:\\Logiciels\\anaconda3\\lib\\site-packages\\tweepy\\api.py\u001b[0m in \u001b[0;36msend_direct_message\u001b[1;34m(self, recipient_id, text, quick_reply_options, attachment_type, attachment_media_id, ctas, **kwargs)\u001b[0m\n\u001b[0;32m   3397\u001b[0m         \u001b[1;32mif\u001b[0m \u001b[0mctas\u001b[0m \u001b[1;32mis\u001b[0m \u001b[1;32mnot\u001b[0m \u001b[1;32mNone\u001b[0m\u001b[1;33m:\u001b[0m\u001b[1;33m\u001b[0m\u001b[1;33m\u001b[0m\u001b[0m\n\u001b[0;32m   3398\u001b[0m             \u001b[0mmessage_data\u001b[0m\u001b[1;33m[\u001b[0m\u001b[1;34m'ctas'\u001b[0m\u001b[1;33m]\u001b[0m \u001b[1;33m=\u001b[0m \u001b[0mctas\u001b[0m\u001b[1;33m\u001b[0m\u001b[1;33m\u001b[0m\u001b[0m\n\u001b[1;32m-> 3399\u001b[1;33m         return self.request(\n\u001b[0m\u001b[0;32m   3400\u001b[0m             \u001b[1;34m'POST'\u001b[0m\u001b[1;33m,\u001b[0m \u001b[1;34m'direct_messages/events/new'\u001b[0m\u001b[1;33m,\u001b[0m\u001b[1;33m\u001b[0m\u001b[1;33m\u001b[0m\u001b[0m\n\u001b[0;32m   3401\u001b[0m             \u001b[0mjson_payload\u001b[0m\u001b[1;33m=\u001b[0m\u001b[0mjson_payload\u001b[0m\u001b[1;33m,\u001b[0m \u001b[1;33m**\u001b[0m\u001b[0mkwargs\u001b[0m\u001b[1;33m\u001b[0m\u001b[1;33m\u001b[0m\u001b[0m\n",
      "\u001b[1;32mD:\\Logiciels\\anaconda3\\lib\\site-packages\\tweepy\\api.py\u001b[0m in \u001b[0;36mrequest\u001b[1;34m(self, method, endpoint, endpoint_parameters, params, headers, json_payload, parser, payload_list, payload_type, post_data, files, require_auth, return_cursors, upload_api, use_cache, **kwargs)\u001b[0m\n\u001b[0;32m    263\u001b[0m                 \u001b[1;32mraise\u001b[0m \u001b[0mUnauthorized\u001b[0m\u001b[1;33m(\u001b[0m\u001b[0mresp\u001b[0m\u001b[1;33m)\u001b[0m\u001b[1;33m\u001b[0m\u001b[1;33m\u001b[0m\u001b[0m\n\u001b[0;32m    264\u001b[0m             \u001b[1;32mif\u001b[0m \u001b[0mresp\u001b[0m\u001b[1;33m.\u001b[0m\u001b[0mstatus_code\u001b[0m \u001b[1;33m==\u001b[0m \u001b[1;36m403\u001b[0m\u001b[1;33m:\u001b[0m\u001b[1;33m\u001b[0m\u001b[1;33m\u001b[0m\u001b[0m\n\u001b[1;32m--> 265\u001b[1;33m                 \u001b[1;32mraise\u001b[0m \u001b[0mForbidden\u001b[0m\u001b[1;33m(\u001b[0m\u001b[0mresp\u001b[0m\u001b[1;33m)\u001b[0m\u001b[1;33m\u001b[0m\u001b[1;33m\u001b[0m\u001b[0m\n\u001b[0m\u001b[0;32m    266\u001b[0m             \u001b[1;32mif\u001b[0m \u001b[0mresp\u001b[0m\u001b[1;33m.\u001b[0m\u001b[0mstatus_code\u001b[0m \u001b[1;33m==\u001b[0m \u001b[1;36m404\u001b[0m\u001b[1;33m:\u001b[0m\u001b[1;33m\u001b[0m\u001b[1;33m\u001b[0m\u001b[0m\n\u001b[0;32m    267\u001b[0m                 \u001b[1;32mraise\u001b[0m \u001b[0mNotFound\u001b[0m\u001b[1;33m(\u001b[0m\u001b[0mresp\u001b[0m\u001b[1;33m)\u001b[0m\u001b[1;33m\u001b[0m\u001b[1;33m\u001b[0m\u001b[0m\n",
      "\u001b[1;31mForbidden\u001b[0m: 403 Forbidden\n453 - You currently have Essential access which includes access to Twitter API v2 endpoints only. If you need access to this endpoint, you’ll need to apply for Elevated access via the Developer Portal. You can learn more here: https://developer.twitter.com/en/docs/twitter-api/getting-started/about-twitter-api#v2-access-leve"
     ]
    }
   ],
   "source": [
    "recipient_id = \"1618042845625212928\"  # ID of the user\n",
    "api.send_direct_message(recipient_id, \"Hoi hoi\")"
   ]
  },
  {
   "cell_type": "code",
   "execution_count": 96,
   "id": "561b7c56",
   "metadata": {},
   "outputs": [
    {
     "name": "stdout",
     "output_type": "stream",
     "text": [
      "https://twitter.com/i/oauth2/authorize?response_type=code&client_id=VzlNTVNlYmw4b21ORUtKdlJiYkc6MTpjaQ&redirect_uri=https%3A%2F%2Fwibbo.org&scope=tweet.read+tweet.write+users.read&state=fuBMvSWW9qU5lHQTfKPYu4lqTCbxtF&code_challenge=g3gO5zyVAzigXWtRjQ4_z2C_I8IPaNbCW2ZoUsD2xzI&code_challenge_method=S256\n",
      "Tapez l'url : https://wibbo.org/?state=fuBMvSWW9qU5lHQTfKPYu4lqTCbxtF&code=WDJwNDVNZjBxSTRsSXlGSjZIU2U1MXVHQmZtV3lOVmw0Q2NiM25panMxLW1UOjE2NzQ2ODM5MTUwNTg6MToxOmFjOjE\n"
     ]
    }
   ],
   "source": [
    "info_api_key = \"fSFhW6NJHivhKs88VLtlKQ5t6\"\n",
    "info_api_key_secret = \"X7mVc0epNqxlCdRpa4pP2ymRdpbZwnrEr1edW8SG7JhwMgtEnA\"\n",
    "info_bearer_token = \"AAAAAAAAAAAAAAAAAAAAAGyulQEAAAAAg7rYt7A8KD2yYFu0datNWtadXOU%3Dou4oAmL2wFiZxrckLd5OCHioEDDRJw4ZEDp7AuuJx7WHIENpGq\"\n",
    "\n",
    "info_client_id = \"VzlNTVNlYmw4b21ORUtKdlJiYkc6MTpjaQ\"\n",
    "info_client_secret = \"RhKKHZ0bHeq1QqqNsO3Kzw2_dlo0J1strmd9C0n1bziPwn9PiS\"\n",
    "\n",
    "info_acces_token = \"1574148627672571904-bIjrsPyaC3zLKaYuF9t7rh4PGkPtwT\"\n",
    "info_acces_token_secret = \"jknxWvirBnliMgzINTmmOvGZftZnoShpJe4x1seNBdfth\"\n",
    "\n",
    "info_callback_uri = \"https://wibbo.org\"\n",
    "info_website_url = \"https://wibbo.org\"\n",
    "\n",
    "info_scope = [\"tweet.read\",\"tweet.write\",\"users.read\"]\n",
    "\n",
    "oauth2_user_handler = tweepy.OAuth2UserHandler(\n",
    "    client_id= info_client_id,\n",
    "    redirect_uri= info_callback_uri,\n",
    "    scope= info_scope,\n",
    "    \n",
    "    # Client Secret is only necessary if using a confidential client\n",
    "    client_secret= info_client_secret\n",
    ")\n",
    "\n",
    "print(oauth2_user_handler.get_authorization_url())\n",
    "state = input(\"Tapez l'url : \")\n",
    "access_token = oauth2_user_handler.fetch_token(state)\n",
    "client = tweepy.Client(access_token)"
   ]
  },
  {
   "cell_type": "markdown",
   "id": "ce0a4719",
   "metadata": {},
   "source": [
    "# Tweets d'un user"
   ]
  },
  {
   "cell_type": "code",
   "execution_count": 111,
   "id": "de8de51a",
   "metadata": {},
   "outputs": [
    {
     "name": "stdout",
     "output_type": "stream",
     "text": [
      "RT @PornoxDia: Chanel Preston #StarCards💫\n",
      "👉https://t.co/1Q7PU9bzsS https://t.co/fcwr0i5KID\n",
      "RT @PornoxDia: Dillion Harper #StarCards💫\n",
      "👉https://t.co/qtC3zBLYZA https://t.co/5XWNuM9N5F\n",
      "RT @PornoxDia: Shawna Lenee #StarCards💫\n",
      "👉https://t.co/ErKRPCtI53 https://t.co/xEBEzk3TcD\n",
      "RT @PornoxDia: Julie Cash #StarCards💫\n",
      "👉https://t.co/tZo7FphUm2 https://t.co/oa7eYE1Vdd\n",
      "RT @PornoxDia: Ryan Conner #StarCards💫\n",
      "👉https://t.co/VSI1k7C69C https://t.co/unJXYBuMKP\n",
      "RT @TeamDanaRico: Soy muy versátil, me gusta bromear, coquetear y especialmente ser travieso y juguetón en mis shows, así que asegúrese de…\n",
      "RT @TeamDanaRico: ES HORA DE MOSTRAR MI MEJOR PARTE encontraras una chica lista para explorar y fantasear contigo https://t.co/hPzZbuJdh6 h…\n",
      "RT @TeamDanaRico: El hidrogeno más el oxígeno producen agua, tu y yo producimos placer. https://t.co/eoLTYCv1FZ https://t.co/ZR97vXe6Jx\n",
      "RT @TeamDanaRico: Ven y disfruta conmigo de interesantes aventuras que te harán perder la cabeza. https://t.co/NdI1zOt9hU https://t.co/sLmm…\n",
      "RT @TeamDanaRico: NO SOY TU MEDIA NARANJA, PERO QUE BUENAS EXPRIMIDAS NOS DAMOS...  https://t.co/zzte41Qry6 https://t.co/jbzTrbfifY\n"
     ]
    }
   ],
   "source": [
    "tweets = client.get_users_tweets(\"1059331200261767168\")\n",
    "for tweet in tweets.data:\n",
    "    print(tweet.text)\n",
    "    if len(tweet.context_annotations) > 0:\n",
    "        print(tweet.context_annotations)"
   ]
  }
 ],
 "metadata": {
  "kernelspec": {
   "display_name": "Python 3 (ipykernel)",
   "language": "python",
   "name": "python3"
  },
  "language_info": {
   "codemirror_mode": {
    "name": "ipython",
    "version": 3
   },
   "file_extension": ".py",
   "mimetype": "text/x-python",
   "name": "python",
   "nbconvert_exporter": "python",
   "pygments_lexer": "ipython3",
   "version": "3.9.13"
  }
 },
 "nbformat": 4,
 "nbformat_minor": 5
}
