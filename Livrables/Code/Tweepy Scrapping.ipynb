{
 "cells": [
  {
   "cell_type": "code",
   "execution_count": null,
   "id": "09bffe28",
   "metadata": {},
   "outputs": [],
   "source": [
    "#!pip install tweepy\n",
    "import pandas as pd\n",
    "import tweepy"
   ]
  },
  {
   "cell_type": "markdown",
   "id": "1736fa2c",
   "metadata": {},
   "source": [
    "# Scraping"
   ]
  },
  {
   "cell_type": "code",
   "execution_count": null,
   "id": "c1cf0142",
   "metadata": {},
   "outputs": [],
   "source": [
    "info_api_key = \"fSFhW6NJHivhKs88VLtlKQ5t6\"\n",
    "info_api_key_secret = \"X7mVc0epNqxlCdRpa4pP2ymRdpbZwnrEr1edW8SG7JhwMgtEnA\"\n",
    "info_bearer_token = \"AAAAAAAAAAAAAAAAAAAAAGyulQEAAAAAg7rYt7A8KD2yYFu0datNWtadXOU%3Dou4oAmL2wFiZxrckLd5OCHioEDDRJw4ZEDp7AuuJx7WHIENpGq\"\n",
    "\n",
    "info_client_id = \"VzlNTVNlYmw4b21ORUtKdlJiYkc6MTpjaQ\"\n",
    "info_client_secret = \"RhKKHZ0bHeq1QqqNsO3Kzw2_dlo0J1strmd9C0n1bziPwn9PiS\"\n",
    "\n",
    "info_acces_token = \"1574148627672571904-tcZR37raV54blRyw5Zx0AK99isuFIb\"\n",
    "info_acces_token_secret = \"JNyNF4wsrgOuhZ1EDaTXvOJcmZo3GJnXnKRX9K3fPxVcf\"\n",
    "\n",
    "info_callback_uri = \"https://wibbo.org\"\n",
    "info_website_url = \"https://wibbo.org\"\n",
    "\n",
    "\n",
    "info_scope = [\"tweet.read\",\"tweet.write\",\"users.read\"]\n"
   ]
  },
  {
   "cell_type": "code",
   "execution_count": null,
   "id": "b79ada12",
   "metadata": {},
   "outputs": [],
   "source": [
    "def Recuperation_tweets(L_mots,nb):\n",
    "    client = tweepy.Client(bearer_token=info_bearer_token)\n",
    "\n",
    "    query = ''\n",
    "    for m in L_mots:\n",
    "        query += m + ' OR '\n",
    "    query=query[:-3]\n",
    "    query+='lang=en'\n",
    "    \n",
    "\n",
    "    #tweets = client.search_recent_tweets(query,max_results=nb,tweet_fields=['context_annotations', 'created_at'], \n",
    "                                         #expansions=['author_id'])\n",
    "    tweets = tweepy.Paginator(client.search_recent_tweets, query=query,\n",
    "                              tweet_fields=['context_annotations', 'created_at'], expansions=['author_id'],\n",
    "                              max_results=100).flatten(limit=nb)\n",
    "    L_tweets=[]\n",
    "    for tweet in tweets:\n",
    "        #if len(tweet.context_annotations) > 0: #s'il y a un domaine et l'entité\n",
    "        L_tweets.append([tweet.data['id'], tweet.data['text'], tweet.data['author_id'], tweet.data['created_at']])\n",
    "    \n",
    "    return L_tweets\n"
   ]
  },
  {
   "cell_type": "code",
   "execution_count": null,
   "id": "da4818cc",
   "metadata": {},
   "outputs": [],
   "source": [
    "L=Recuperation_tweets([\"suicide\",\"suicidal\",\"I want to die\",\"help\",\"kill myself\",],10000)\n",
    "df=pd.DataFrame(L,columns=['id','text','auteur','date'])\n"
   ]
  },
  {
   "cell_type": "code",
   "execution_count": null,
   "id": "58b93204",
   "metadata": {},
   "outputs": [],
   "source": [
    "#df.to_csv('Tweepy_Suicide_Tweets.csv',sep=';')\n",
    "#df.to_csv(r'C:\\Users\\owen9\\OneDrive\\Documents\\GitHub\\TwitterFeelingAnalyse\\Dataset\\Tweepy_Suicide_Tweets.csv',sep=';',index=False)\n"
   ]
  },
  {
   "cell_type": "markdown",
   "id": "6b76a866",
   "metadata": {},
   "source": [
    "# Analyse Users"
   ]
  },
  {
   "cell_type": "markdown",
   "id": "65d8799c",
   "metadata": {},
   "source": [
    "## Histrorique des tweets des personnes à risques"
   ]
  },
  {
   "cell_type": "code",
   "execution_count": null,
   "id": "b0adfc7c",
   "metadata": {},
   "outputs": [],
   "source": [
    "df_init=pd.read_csv(r'C:\\Users\\owen9\\OneDrive\\Documents\\GitHub\\TwitterFeelingAnalyse\\Dataset\\Tweepy_Suicide_Tweets_Final.csv',sep=';')\n",
    "df=df_init.copy()\n",
    "df.head()"
   ]
  },
  {
   "cell_type": "code",
   "execution_count": null,
   "id": "ce4348c5",
   "metadata": {},
   "outputs": [],
   "source": [
    "L_personnes_a_risques=df[df['groupement_all_modele_par_3']==1]['auteur'].to_list()\n",
    "L_personnes_a_risques=list(set(L_personnes_a_risques))#garder les valeurs uniques\n",
    "print(len(L_personnes_a_risques))\n",
    "print(L_personnes_a_risques[:10])"
   ]
  },
  {
   "cell_type": "code",
   "execution_count": null,
   "id": "354dfed2",
   "metadata": {},
   "outputs": [],
   "source": [
    "def Recuperation_tweets_personnes(L_personnes,nb_tweets):\n",
    "    client = tweepy.Client(bearer_token=info_bearer_token)\n",
    "\n",
    "    L_tweets=[]\n",
    "    for p_id in L_personnes:\n",
    "        tweets = tweepy.Paginator(client.get_users_tweets,id=p_id,tweet_fields=['context_annotations', 'created_at'],\n",
    "                                  expansions=['author_id'],max_results=100).flatten(limit=nb_tweets)\n",
    "        \n",
    "        #return tweets\n",
    "        \n",
    "        if tweets != None:\n",
    "            for tweet in tweets:\n",
    "            #if len(tweet.context_annotations) > 0: #s'il y a un domaine et l'entité\n",
    "                L_tweets.append([tweet.data['id'], tweet.data['text'], tweet.data['author_id'], tweet.data['created_at']])\n",
    "    \n",
    "    return L_tweets"
   ]
  },
  {
   "cell_type": "code",
   "execution_count": null,
   "id": "8adb1ca5",
   "metadata": {},
   "outputs": [],
   "source": [
    "L=Recuperation_tweets_personnes(L_personnes_a_risques[:5],1)\n",
    "L"
   ]
  },
  {
   "cell_type": "code",
   "execution_count": null,
   "id": "ac4c9561",
   "metadata": {},
   "outputs": [],
   "source": [
    "len(L_personnes_a_risques)"
   ]
  },
  {
   "cell_type": "markdown",
   "id": "e55b0584",
   "metadata": {},
   "source": [
    "## Infos des profils"
   ]
  },
  {
   "cell_type": "code",
   "execution_count": null,
   "id": "4a17c477",
   "metadata": {},
   "outputs": [],
   "source": [
    "def Infos_profils(L_users_id):\n",
    "    client = tweepy.Client(bearer_token=info_bearer_token)\n",
    "    L_tot=[]\n",
    "    for i in range(0,len(L_users_id),100):\n",
    "        a=i\n",
    "        b=a+100\n",
    "\n",
    "        users=client.get_users(ids=L_users_id[a:b], user_fields= ['created_at','description','id','location', \n",
    "                                                                    'name','protected','public_metrics','username',\n",
    "                                                                         'verified','verified_type'])\n",
    "        L_tot.append(users)\n",
    "                \n",
    "    L_info_users=[]\n",
    "    for users in L_tot:\n",
    "        for user in users.data:\n",
    "            L_info_users.append([user['id'],user['name'],user['username'],user['created_at'],user['location'],\n",
    "                                 user['public_metrics']['followers_count'],user['public_metrics']['following_count'],\n",
    "                                 user['public_metrics']['tweet_count'],user['public_metrics']['listed_count'],\n",
    "                                 user['protected'],user['verified'],user['verified_type'],user['description']])\n",
    "\n",
    "            \n",
    "    df_users=pd.DataFrame(L_info_users,columns=['id','name','username','created_at','location','followers_count',\n",
    "                                                'following_count','tweet_count','listed_count','protected','verified',\n",
    "                                                'verified_type','description'])\n",
    "    \n",
    "    return df_users\n",
    "    "
   ]
  },
  {
   "cell_type": "code",
   "execution_count": null,
   "id": "815fb836",
   "metadata": {},
   "outputs": [],
   "source": [
    "df_users=Infos_profils(L_personnes_a_risques)\n",
    "df_users.head(10)"
   ]
  },
  {
   "cell_type": "code",
   "execution_count": null,
   "id": "3a2f4d66",
   "metadata": {},
   "outputs": [],
   "source": [
    "df_users.to_csv(r'C:\\Users\\owen9\\OneDrive\\Documents\\GitHub\\TwitterFeelingAnalyse\\Dataset\\Infos_users.csv',sep=';',index=False)\n",
    "                "
   ]
  },
  {
   "cell_type": "code",
   "execution_count": null,
   "id": "c1dd11f1",
   "metadata": {},
   "outputs": [],
   "source": [
    "df_users=pd.read_csv(r'C:\\Users\\owen9\\OneDrive\\Documents\\GitHub\\TwitterFeelingAnalyse\\Dataset\\Infos_users.csv',sep=';')\n",
    "df_users.head(10)              "
   ]
  },
  {
   "cell_type": "markdown",
   "id": "bd6d1fae",
   "metadata": {},
   "source": [
    "# Envoyer message"
   ]
  },
  {
   "cell_type": "code",
   "execution_count": 54,
   "id": "2aa121bc",
   "metadata": {},
   "outputs": [],
   "source": [
    "# Authenticate access\n",
    "auth = tweepy.OAuthHandler(info_api_key, info_api_key_secret)\n",
    "auth.set_access_token(info_acces_token, info_acces_token_secret)\n",
    "# Create API handler\n",
    "api = tweepy.API(auth)\n",
    "\n",
    "#api\n",
    "client = tweepy.Client(bearer_token=info_bearer_token)"
   ]
  },
  {
   "cell_type": "code",
   "execution_count": 55,
   "id": "1ba54b23",
   "metadata": {},
   "outputs": [
    {
     "data": {
      "text/plain": [
       "3080430177"
      ]
     },
     "execution_count": 55,
     "metadata": {},
     "output_type": "execute_result"
    }
   ],
   "source": [
    "client = tweepy.Client(bearer_token=info_bearer_token)\n",
    "screen_name = \"axelg99\"\n",
    "twitterid = client.get_user(username=screen_name)\n",
    "twitterid.data.id"
   ]
  },
  {
   "cell_type": "code",
   "execution_count": 56,
   "id": "7628094a",
   "metadata": {},
   "outputs": [
    {
     "data": {
      "text/plain": [
       "DirectMessage(_api=<tweepy.api.API object at 0x0000023F183F4100>, _json={'type': 'message_create', 'id': '1618919632072572932', 'created_timestamp': '1674815493015', 'message_create': {'target': {'recipient_id': '3080430177'}, 'sender_id': '1574148627672571904', 'message_data': {'text': \"Si tu as des pensées suicidaires, s'il te plaît contacte immédiatement SOS Amitié pour obtenir de l'aide. Les horaires sont disponibles 24h/24 et 7j/7. Pour plus d'informations, compose le numéro 09 72 39 40 50. Tu n'es pas seul, nous sommes là pour t'aider.\", 'entities': {'hashtags': [], 'symbols': [], 'user_mentions': [], 'urls': []}}}}, type='message_create', id='1618919632072572932', created_timestamp='1674815493015', message_create={'target': {'recipient_id': '3080430177'}, 'sender_id': '1574148627672571904', 'message_data': {'text': \"Si tu as des pensées suicidaires, s'il te plaît contacte immédiatement SOS Amitié pour obtenir de l'aide. Les horaires sont disponibles 24h/24 et 7j/7. Pour plus d'informations, compose le numéro 09 72 39 40 50. Tu n'es pas seul, nous sommes là pour t'aider.\", 'entities': {'hashtags': [], 'symbols': [], 'user_mentions': [], 'urls': []}}})"
      ]
     },
     "execution_count": 56,
     "metadata": {},
     "output_type": "execute_result"
    }
   ],
   "source": [
    "message=\"Si tu as des pensées suicidaires, s'il te plaît contacte immédiatement SOS Amitié pour obtenir de l'aide. Les horaires sont disponibles 24h/24 et 7j/7. Pour plus d'informations, compose le numéro 09 72 39 40 50. Tu n'es pas seul, nous sommes là pour t'aider.\"\n",
    "api.send_direct_message(twitterid.data.id, message)\n"
   ]
  },
  {
   "cell_type": "markdown",
   "id": "e4445a43",
   "metadata": {},
   "source": [
    "# Tests"
   ]
  },
  {
   "cell_type": "code",
   "execution_count": null,
   "id": "f819ad8d",
   "metadata": {},
   "outputs": [],
   "source": [
    "auth = tweepy.OAuth2BearerHandler(info_bearer_token)\n",
    "api = tweepy.API(auth)\n",
    "api"
   ]
  },
  {
   "cell_type": "code",
   "execution_count": null,
   "id": "9d466747",
   "metadata": {},
   "outputs": [],
   "source": [
    "auth = tweepy.OAuth2AppHandler(info_api_key, info_api_key_secret)\n",
    "api = tweepy.API(auth)\n",
    "api"
   ]
  },
  {
   "cell_type": "code",
   "execution_count": null,
   "id": "b11a7db8",
   "metadata": {},
   "outputs": [],
   "source": [
    "auth = tweepy.OAuth2UserHandler(info_api_key, info_api_key_secret, info_acces_token, info_acces_token_secret)\n",
    "api = tweepy.API(auth)\n",
    "api"
   ]
  },
  {
   "cell_type": "code",
   "execution_count": null,
   "id": "46acf62b",
   "metadata": {},
   "outputs": [],
   "source": [
    "client = tweepy.Client(info_bearer_token)\n",
    "client"
   ]
  },
  {
   "cell_type": "code",
   "execution_count": null,
   "id": "63651376",
   "metadata": {},
   "outputs": [],
   "source": [
    "client.create_tweet(in_reply_to_tweet_id=twitterid[0].id, text='test')"
   ]
  },
  {
   "cell_type": "code",
   "execution_count": null,
   "id": "0e42a976",
   "metadata": {},
   "outputs": [],
   "source": [
    "client = tweepy.Client(info_api_key,info_api_key_secret,info_acces_token,info_acces_token_secret)\n",
    "client"
   ]
  },
  {
   "cell_type": "code",
   "execution_count": null,
   "id": "99aa4b8a",
   "metadata": {},
   "outputs": [],
   "source": [
    "oauth2_user_handler = tweepy.OAuth2UserHandler(\n",
    "    client_id=info_client_id,\n",
    "    redirect_uri=info_callback_uri,\n",
    "    scope=info_scope,\n",
    "    # Client Secret is only necessary if using a confidential client\n",
    "    client_secret=info_client_secret\n",
    ")\n",
    "\n",
    "print(oauth2_user_handler.get_authorization_url())"
   ]
  },
  {
   "cell_type": "code",
   "execution_count": null,
   "id": "6dc2abb9",
   "metadata": {},
   "outputs": [],
   "source": [
    "auth_url='https://wibbo.org/?state=RVpZhj5neLjMDeqKXJqfJewCi29zUx&code=cjM4UFZIUFdoWlBFS3NSNnRsekpqMjNlQzhvakF2ZmtuR1R2U2dDRFJ6YU01OjE2NzQ4MTQ2NDAzMjg6MToxOmFjOjE'\n",
    "access_token = oauth2_user_handler.fetch_token(auth_url)"
   ]
  },
  {
   "cell_type": "code",
   "execution_count": null,
   "id": "1de40643",
   "metadata": {},
   "outputs": [],
   "source": [
    "api = tweepy.API(auth)\n",
    "api"
   ]
  },
  {
   "cell_type": "code",
   "execution_count": null,
   "id": "48b413aa",
   "metadata": {},
   "outputs": [],
   "source": [
    "client = tweepy.Client(bearer_token=info_bearer_token)\n",
    "\n",
    "# Create a tweet query\n",
    "# https://github.com/twitterdev/getting-started-with-the-twitter-api-v2-for-academic-research/blob/main/modules/5-how-to-write-search-queries.md\n",
    "query = 'suicide lang:en'\n",
    "tweets = client.search_recent_tweets(query, max_results=100)\n",
    "for tweet in tweets.data:\n",
    "    print(tweet.text)\n",
    "    if len(tweet.context_annotations) > 0:\n",
    "        print(tweet.context_annotations)"
   ]
  },
  {
   "cell_type": "code",
   "execution_count": null,
   "id": "7d126004",
   "metadata": {},
   "outputs": [],
   "source": [
    "client = tweepy.Client(access_token)\n",
    "client"
   ]
  },
  {
   "cell_type": "code",
   "execution_count": null,
   "id": "2e1b3264",
   "metadata": {},
   "outputs": [],
   "source": [
    "twts = api.search(q=\"Hello World!\")\n",
    "\n",
    "#list of specific strings we want to check for in Tweets\n",
    "t = ['Hello world!',\n",
    "    'Hello World!',\n",
    "    'Hello World!!!',\n",
    "    'Hello world!!!',\n",
    "    'Hello, world!',\n",
    "    'Hello, World!']\n",
    "\n",
    "for s in twt:\n",
    "    for i in t:\n",
    "        if i == s.text:\n",
    "            sn = s.user.screen_name\n",
    "            m = \"@%s Hello!\" % (sn)\n",
    "            s = api.update_status(m, s.id)"
   ]
  },
  {
   "cell_type": "code",
   "execution_count": null,
   "id": "2964602d",
   "metadata": {},
   "outputs": [],
   "source": [
    "recipient_id = \"1618042845625212928\"  # ID of the user\n",
    "api.send_direct_message(recipient_id, \"Hoi hoi\")"
   ]
  },
  {
   "cell_type": "code",
   "execution_count": null,
   "id": "561b7c56",
   "metadata": {},
   "outputs": [],
   "source": [
    "info_api_key = \"fSFhW6NJHivhKs88VLtlKQ5t6\"\n",
    "info_api_key_secret = \"X7mVc0epNqxlCdRpa4pP2ymRdpbZwnrEr1edW8SG7JhwMgtEnA\"\n",
    "info_bearer_token = \"AAAAAAAAAAAAAAAAAAAAAGyulQEAAAAAg7rYt7A8KD2yYFu0datNWtadXOU%3Dou4oAmL2wFiZxrckLd5OCHioEDDRJw4ZEDp7AuuJx7WHIENpGq\"\n",
    "\n",
    "info_client_id = \"VzlNTVNlYmw4b21ORUtKdlJiYkc6MTpjaQ\"\n",
    "info_client_secret = \"RhKKHZ0bHeq1QqqNsO3Kzw2_dlo0J1strmd9C0n1bziPwn9PiS\"\n",
    "\n",
    "info_acces_token = \"1574148627672571904-bIjrsPyaC3zLKaYuF9t7rh4PGkPtwT\"\n",
    "info_acces_token_secret = \"jknxWvirBnliMgzINTmmOvGZftZnoShpJe4x1seNBdfth\"\n",
    "\n",
    "info_callback_uri = \"https://wibbo.org\"\n",
    "info_website_url = \"https://wibbo.org\"\n",
    "\n",
    "info_scope = [\"tweet.read\",\"tweet.write\",\"users.read\"]\n",
    "\n",
    "oauth2_user_handler = tweepy.OAuth2UserHandler(\n",
    "    client_id= info_client_id,\n",
    "    redirect_uri= info_callback_uri,\n",
    "    scope= info_scope,\n",
    "    \n",
    "    # Client Secret is only necessary if using a confidential client\n",
    "    client_secret= info_client_secret\n",
    ")\n",
    "\n",
    "print(oauth2_user_handler.get_authorization_url())\n",
    "state = input(\"Tapez l'url : \")\n",
    "access_token = oauth2_user_handler.fetch_token(state)\n",
    "client = tweepy.Client(access_token)"
   ]
  },
  {
   "cell_type": "markdown",
   "id": "ce0a4719",
   "metadata": {},
   "source": [
    "# Tweets d'un user"
   ]
  },
  {
   "cell_type": "code",
   "execution_count": null,
   "id": "de8de51a",
   "metadata": {},
   "outputs": [],
   "source": [
    "tweets = client.get_users_tweets(\"1059331200261767168\")\n",
    "for tweet in tweets.data:\n",
    "    print(tweet.text)\n",
    "    if len(tweet.context_annotations) > 0:\n",
    "        print(tweet.context_annotations)"
   ]
  }
 ],
 "metadata": {
  "kernelspec": {
   "display_name": "Python 3 (ipykernel)",
   "language": "python",
   "name": "python3"
  },
  "language_info": {
   "codemirror_mode": {
    "name": "ipython",
    "version": 3
   },
   "file_extension": ".py",
   "mimetype": "text/x-python",
   "name": "python",
   "nbconvert_exporter": "python",
   "pygments_lexer": "ipython3",
   "version": "3.9.13"
  }
 },
 "nbformat": 4,
 "nbformat_minor": 5
}
