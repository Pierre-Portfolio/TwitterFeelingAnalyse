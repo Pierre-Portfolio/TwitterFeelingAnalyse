{
 "cells": [
  {
   "cell_type": "code",
   "execution_count": 255,
   "id": "09bffe28",
   "metadata": {},
   "outputs": [],
   "source": [
    "#!pip install tweepy\n",
    "import pandas as pd\n",
    "import tweepy"
   ]
  },
  {
   "cell_type": "markdown",
   "id": "1736fa2c",
   "metadata": {},
   "source": [
    "# Scraping"
   ]
  },
  {
   "cell_type": "code",
   "execution_count": 187,
   "id": "c1cf0142",
   "metadata": {},
   "outputs": [],
   "source": [
    "info_api_key = \"fSFhW6NJHivhKs88VLtlKQ5t6\"\n",
    "info_api_key_secret = \"X7mVc0epNqxlCdRpa4pP2ymRdpbZwnrEr1edW8SG7JhwMgtEnA\"\n",
    "info_bearer_token = \"AAAAAAAAAAAAAAAAAAAAAGyulQEAAAAAg7rYt7A8KD2yYFu0datNWtadXOU%3Dou4oAmL2wFiZxrckLd5OCHioEDDRJw4ZEDp7AuuJx7WHIENpGq\"\n",
    "\n",
    "info_client_id = \"VzlNTVNlYmw4b21ORUtKdlJiYkc6MTpjaQ\"\n",
    "info_client_secret = \"RhKKHZ0bHeq1QqqNsO3Kzw2_dlo0J1strmd9C0n1bziPwn9PiS\"\n",
    "\n",
    "info_acces_token = \"1574148627672571904-bIjrsPyaC3zLKaYuF9t7rh4PGkPtwT\"\n",
    "info_acces_token_secret = \"jknxWvirBnliMgzINTmmOvGZftZnoShpJe4x1seNBdfth\"\n",
    "\n",
    "info_callback_uri = \"https://wibbo.org\"\n",
    "info_website_url = \"https://wibbo.org\""
   ]
  },
  {
   "cell_type": "code",
   "execution_count": 319,
   "id": "b79ada12",
   "metadata": {},
   "outputs": [],
   "source": [
    "def Recuperation_tweets(L_mots,nb):\n",
    "    client = tweepy.Client(bearer_token=info_bearer_token)\n",
    "\n",
    "    query = ''\n",
    "    for m in L_mots:\n",
    "        query += m + ' OR '\n",
    "    query=query[:-3]\n",
    "    query+='lang=en'\n",
    "    \n",
    "\n",
    "    #tweets = client.search_recent_tweets(query,max_results=nb,tweet_fields=['context_annotations', 'created_at'], \n",
    "                                         #expansions=['author_id'])\n",
    "    tweets = tweepy.Paginator(client.search_recent_tweets, query=query,\n",
    "                              tweet_fields=['context_annotations', 'created_at'], expansions=['author_id'],\n",
    "                              max_results=100).flatten(limit=nb)\n",
    "    L_tweets=[]\n",
    "    for tweet in tweets:\n",
    "        #if len(tweet.context_annotations) > 0: #s'il y a un domaine et l'entité\n",
    "        L_tweets.append([tweet.data['id'], tweet.data['text'], tweet.data['author_id'], tweet.data['created_at']])\n",
    "    \n",
    "    return L_tweets\n"
   ]
  },
  {
   "cell_type": "code",
   "execution_count": 322,
   "id": "da4818cc",
   "metadata": {},
   "outputs": [],
   "source": [
    "L=Recuperation_tweets([\"suicide\",\"suicidal\",\"I want to die\",\"help\",\"kill myself\",],10000)\n",
    "df=pd.DataFrame(L,columns=['id','text','auteur','date'])\n"
   ]
  },
  {
   "cell_type": "code",
   "execution_count": 327,
   "id": "58b93204",
   "metadata": {},
   "outputs": [],
   "source": [
    "#df.to_csv('Tweepy_Suicide_Tweets.csv',sep=';')\n",
    "#df.to_csv(r'C:\\Users\\owen9\\OneDrive\\Documents\\GitHub\\TwitterFeelingAnalyse\\Dataset\\Tweepy_Suicide_Tweets.csv',sep=';',index=False)\n"
   ]
  },
  {
   "cell_type": "markdown",
   "id": "e4445a43",
   "metadata": {},
   "source": [
    "# Tests"
   ]
  },
  {
   "cell_type": "code",
   "execution_count": 16,
   "id": "f819ad8d",
   "metadata": {},
   "outputs": [
    {
     "data": {
      "text/plain": [
       "<tweepy.api.API at 0x202d5dc5220>"
      ]
     },
     "execution_count": 16,
     "metadata": {},
     "output_type": "execute_result"
    }
   ],
   "source": [
    "auth = tweepy.OAuth2BearerHandler(info_bearer_token)\n",
    "api = tweepy.API(auth)\n",
    "api"
   ]
  },
  {
   "cell_type": "code",
   "execution_count": 90,
   "id": "9d466747",
   "metadata": {},
   "outputs": [
    {
     "data": {
      "text/plain": [
       "<tweepy.api.API at 0x202d60413a0>"
      ]
     },
     "execution_count": 90,
     "metadata": {},
     "output_type": "execute_result"
    }
   ],
   "source": [
    "auth = tweepy.OAuth2AppHandler(info_api_key, info_api_key_secret)\n",
    "api = tweepy.API(auth)\n",
    "api"
   ]
  },
  {
   "cell_type": "code",
   "execution_count": 89,
   "id": "b11a7db8",
   "metadata": {},
   "outputs": [
    {
     "ename": "TypeError",
     "evalue": "__init__() takes 1 positional argument but 5 were given",
     "output_type": "error",
     "traceback": [
      "\u001b[1;31m---------------------------------------------------------------------------\u001b[0m",
      "\u001b[1;31mTypeError\u001b[0m                                 Traceback (most recent call last)",
      "\u001b[1;32m~\\AppData\\Local\\Temp\\ipykernel_25412\\2404087013.py\u001b[0m in \u001b[0;36m<module>\u001b[1;34m\u001b[0m\n\u001b[1;32m----> 1\u001b[1;33m \u001b[0mauth\u001b[0m \u001b[1;33m=\u001b[0m \u001b[0mtweepy\u001b[0m\u001b[1;33m.\u001b[0m\u001b[0mOAuth2UserHandler\u001b[0m\u001b[1;33m(\u001b[0m\u001b[0minfo_api_key\u001b[0m\u001b[1;33m,\u001b[0m \u001b[0minfo_api_key_secret\u001b[0m\u001b[1;33m,\u001b[0m \u001b[0minfo_acces_token\u001b[0m\u001b[1;33m,\u001b[0m \u001b[0minfo_acces_token_secret\u001b[0m\u001b[1;33m)\u001b[0m\u001b[1;33m\u001b[0m\u001b[1;33m\u001b[0m\u001b[0m\n\u001b[0m\u001b[0;32m      2\u001b[0m \u001b[0mapi\u001b[0m \u001b[1;33m=\u001b[0m \u001b[0mtweepy\u001b[0m\u001b[1;33m.\u001b[0m\u001b[0mAPI\u001b[0m\u001b[1;33m(\u001b[0m\u001b[0mauth\u001b[0m\u001b[1;33m)\u001b[0m\u001b[1;33m\u001b[0m\u001b[1;33m\u001b[0m\u001b[0m\n\u001b[0;32m      3\u001b[0m \u001b[0mapi\u001b[0m\u001b[1;33m\u001b[0m\u001b[1;33m\u001b[0m\u001b[0m\n",
      "\u001b[1;31mTypeError\u001b[0m: __init__() takes 1 positional argument but 5 were given"
     ]
    }
   ],
   "source": [
    "auth = tweepy.OAuth2UserHandler(info_api_key, info_api_key_secret, info_acces_token, info_acces_token_secret)\n",
    "api = tweepy.API(auth)\n",
    "api"
   ]
  },
  {
   "cell_type": "code",
   "execution_count": 91,
   "id": "46acf62b",
   "metadata": {},
   "outputs": [
    {
     "data": {
      "text/plain": [
       "<tweepy.client.Client at 0x202d60383a0>"
      ]
     },
     "execution_count": 91,
     "metadata": {},
     "output_type": "execute_result"
    }
   ],
   "source": [
    "client = tweepy.Client(info_bearer_token)\n",
    "client"
   ]
  },
  {
   "cell_type": "code",
   "execution_count": 66,
   "id": "63651376",
   "metadata": {},
   "outputs": [
    {
     "ename": "TypeError",
     "evalue": "Consumer key must be string or bytes, not NoneType",
     "output_type": "error",
     "traceback": [
      "\u001b[1;31m---------------------------------------------------------------------------\u001b[0m",
      "\u001b[1;31mTypeError\u001b[0m                                 Traceback (most recent call last)",
      "\u001b[1;32m~\\AppData\\Local\\Temp\\ipykernel_25412\\3273643456.py\u001b[0m in \u001b[0;36m<module>\u001b[1;34m\u001b[0m\n\u001b[1;32m----> 1\u001b[1;33m \u001b[0mclient\u001b[0m\u001b[1;33m.\u001b[0m\u001b[0mcreate_tweet\u001b[0m\u001b[1;33m(\u001b[0m\u001b[0min_reply_to_tweet_id\u001b[0m\u001b[1;33m=\u001b[0m\u001b[0mtwitterid\u001b[0m\u001b[1;33m[\u001b[0m\u001b[1;36m0\u001b[0m\u001b[1;33m]\u001b[0m\u001b[1;33m.\u001b[0m\u001b[0mid\u001b[0m\u001b[1;33m,\u001b[0m \u001b[0mtext\u001b[0m\u001b[1;33m=\u001b[0m\u001b[1;34m'test'\u001b[0m\u001b[1;33m)\u001b[0m\u001b[1;33m\u001b[0m\u001b[1;33m\u001b[0m\u001b[0m\n\u001b[0m",
      "\u001b[1;32mD:\\Logiciels\\anaconda3\\lib\\site-packages\\tweepy\\client.py\u001b[0m in \u001b[0;36mcreate_tweet\u001b[1;34m(self, direct_message_deep_link, for_super_followers_only, place_id, media_ids, media_tagged_user_ids, poll_duration_minutes, poll_options, quote_tweet_id, exclude_reply_user_ids, in_reply_to_tweet_id, reply_settings, text, user_auth)\u001b[0m\n\u001b[0;32m    833\u001b[0m             \u001b[0mjson\u001b[0m\u001b[1;33m[\u001b[0m\u001b[1;34m\"text\"\u001b[0m\u001b[1;33m]\u001b[0m \u001b[1;33m=\u001b[0m \u001b[0mtext\u001b[0m\u001b[1;33m\u001b[0m\u001b[1;33m\u001b[0m\u001b[0m\n\u001b[0;32m    834\u001b[0m \u001b[1;33m\u001b[0m\u001b[0m\n\u001b[1;32m--> 835\u001b[1;33m         return self._make_request(\n\u001b[0m\u001b[0;32m    836\u001b[0m             \u001b[1;34m\"POST\"\u001b[0m\u001b[1;33m,\u001b[0m \u001b[1;34mf\"/2/tweets\"\u001b[0m\u001b[1;33m,\u001b[0m \u001b[0mjson\u001b[0m\u001b[1;33m=\u001b[0m\u001b[0mjson\u001b[0m\u001b[1;33m,\u001b[0m \u001b[0muser_auth\u001b[0m\u001b[1;33m=\u001b[0m\u001b[0muser_auth\u001b[0m\u001b[1;33m\u001b[0m\u001b[1;33m\u001b[0m\u001b[0m\n\u001b[0;32m    837\u001b[0m         )\n",
      "\u001b[1;32mD:\\Logiciels\\anaconda3\\lib\\site-packages\\tweepy\\client.py\u001b[0m in \u001b[0;36m_make_request\u001b[1;34m(self, method, route, params, endpoint_parameters, json, data_type, user_auth)\u001b[0m\n\u001b[0;32m    127\u001b[0m         \u001b[0mrequest_params\u001b[0m \u001b[1;33m=\u001b[0m \u001b[0mself\u001b[0m\u001b[1;33m.\u001b[0m\u001b[0m_process_params\u001b[0m\u001b[1;33m(\u001b[0m\u001b[0mparams\u001b[0m\u001b[1;33m,\u001b[0m \u001b[0mendpoint_parameters\u001b[0m\u001b[1;33m)\u001b[0m\u001b[1;33m\u001b[0m\u001b[1;33m\u001b[0m\u001b[0m\n\u001b[0;32m    128\u001b[0m \u001b[1;33m\u001b[0m\u001b[0m\n\u001b[1;32m--> 129\u001b[1;33m         response = self.request(method, route, params=request_params,\n\u001b[0m\u001b[0;32m    130\u001b[0m                                 json=json, user_auth=user_auth)\n\u001b[0;32m    131\u001b[0m \u001b[1;33m\u001b[0m\u001b[0m\n",
      "\u001b[1;32mD:\\Logiciels\\anaconda3\\lib\\site-packages\\tweepy\\client.py\u001b[0m in \u001b[0;36mrequest\u001b[1;34m(self, method, route, params, json, user_auth)\u001b[0m\n\u001b[0;32m     67\u001b[0m         \u001b[0mauth\u001b[0m \u001b[1;33m=\u001b[0m \u001b[1;32mNone\u001b[0m\u001b[1;33m\u001b[0m\u001b[1;33m\u001b[0m\u001b[0m\n\u001b[0;32m     68\u001b[0m         \u001b[1;32mif\u001b[0m \u001b[0muser_auth\u001b[0m\u001b[1;33m:\u001b[0m\u001b[1;33m\u001b[0m\u001b[1;33m\u001b[0m\u001b[0m\n\u001b[1;32m---> 69\u001b[1;33m             auth = OAuth1UserHandler(\n\u001b[0m\u001b[0;32m     70\u001b[0m                 \u001b[0mself\u001b[0m\u001b[1;33m.\u001b[0m\u001b[0mconsumer_key\u001b[0m\u001b[1;33m,\u001b[0m \u001b[0mself\u001b[0m\u001b[1;33m.\u001b[0m\u001b[0mconsumer_secret\u001b[0m\u001b[1;33m,\u001b[0m\u001b[1;33m\u001b[0m\u001b[1;33m\u001b[0m\u001b[0m\n\u001b[0;32m     71\u001b[0m                 \u001b[0mself\u001b[0m\u001b[1;33m.\u001b[0m\u001b[0maccess_token\u001b[0m\u001b[1;33m,\u001b[0m \u001b[0mself\u001b[0m\u001b[1;33m.\u001b[0m\u001b[0maccess_token_secret\u001b[0m\u001b[1;33m\u001b[0m\u001b[1;33m\u001b[0m\u001b[0m\n",
      "\u001b[1;32mD:\\Logiciels\\anaconda3\\lib\\site-packages\\tweepy\\auth.py\u001b[0m in \u001b[0;36m__init__\u001b[1;34m(self, consumer_key, consumer_secret, access_token, access_token_secret, callback)\u001b[0m\n\u001b[0;32m     29\u001b[0m                  access_token_secret=None, callback=None):\n\u001b[0;32m     30\u001b[0m         \u001b[1;32mif\u001b[0m \u001b[1;32mnot\u001b[0m \u001b[0misinstance\u001b[0m\u001b[1;33m(\u001b[0m\u001b[0mconsumer_key\u001b[0m\u001b[1;33m,\u001b[0m \u001b[1;33m(\u001b[0m\u001b[0mstr\u001b[0m\u001b[1;33m,\u001b[0m \u001b[0mbytes\u001b[0m\u001b[1;33m)\u001b[0m\u001b[1;33m)\u001b[0m\u001b[1;33m:\u001b[0m\u001b[1;33m\u001b[0m\u001b[1;33m\u001b[0m\u001b[0m\n\u001b[1;32m---> 31\u001b[1;33m             raise TypeError(\"Consumer key must be string or bytes, not \"\n\u001b[0m\u001b[0;32m     32\u001b[0m                             + type(consumer_key).__name__)\n\u001b[0;32m     33\u001b[0m         \u001b[1;32mif\u001b[0m \u001b[1;32mnot\u001b[0m \u001b[0misinstance\u001b[0m\u001b[1;33m(\u001b[0m\u001b[0mconsumer_secret\u001b[0m\u001b[1;33m,\u001b[0m \u001b[1;33m(\u001b[0m\u001b[0mstr\u001b[0m\u001b[1;33m,\u001b[0m \u001b[0mbytes\u001b[0m\u001b[1;33m)\u001b[0m\u001b[1;33m)\u001b[0m\u001b[1;33m:\u001b[0m\u001b[1;33m\u001b[0m\u001b[1;33m\u001b[0m\u001b[0m\n",
      "\u001b[1;31mTypeError\u001b[0m: Consumer key must be string or bytes, not NoneType"
     ]
    }
   ],
   "source": [
    "client.create_tweet(in_reply_to_tweet_id=twitterid[0].id, text='test')"
   ]
  },
  {
   "cell_type": "code",
   "execution_count": 22,
   "id": "0e42a976",
   "metadata": {},
   "outputs": [
    {
     "data": {
      "text/plain": [
       "<tweepy.client.Client at 0x202d5dadf40>"
      ]
     },
     "execution_count": 22,
     "metadata": {},
     "output_type": "execute_result"
    }
   ],
   "source": [
    "client = tweepy.Client(info_api_key,info_api_key_secret,info_acces_token,info_acces_token_secret)\n",
    "client"
   ]
  },
  {
   "cell_type": "code",
   "execution_count": 93,
   "id": "99aa4b8a",
   "metadata": {},
   "outputs": [
    {
     "name": "stdout",
     "output_type": "stream",
     "text": [
      "https://twitter.com/i/oauth2/authorize?response_type=code&client_id=VzlNTVNlYmw4b21ORUtKdlJiYkc6MTpjaQ&redirect_uri=https%3A%2F%2Ftwitter.com%2F&scope=tweet.read+tweet.write+users.read&state=fE1kMMnR54NV0jZGMNveddWqQvVXzc&code_challenge=3wWCN2wK6T9iFvK4NqWauFq76aG4NJoqqmvJDi8zjjA&code_challenge_method=S256\n"
     ]
    }
   ],
   "source": [
    "oauth2_user_handler = tweepy.OAuth2UserHandler(\n",
    "    client_id=info_client_id,\n",
    "    redirect_uri=info_callback_uri,\n",
    "    scope=info_scope,\n",
    "    # Client Secret is only necessary if using a confidential client\n",
    "    client_secret=info_client_secret\n",
    ")\n",
    "\n",
    "print(oauth2_user_handler.get_authorization_url())"
   ]
  },
  {
   "cell_type": "code",
   "execution_count": 62,
   "id": "6dc2abb9",
   "metadata": {},
   "outputs": [],
   "source": [
    "auth_url='https://twitter.com/home?state=lJ59K5uCQminldrbNR5OX7QmePFTya&code=czRUZEIyeWV4Q2FKR2ZKemdqa1lxei1SdEpLSV8zUmxGTWU1ZkgyaG1iU24tOjE2NzQ2NjM3Nzc1MDA6MToxOmFjOjE'\n",
    "access_token = oauth2_user_handler.fetch_token(auth_url)"
   ]
  },
  {
   "cell_type": "code",
   "execution_count": 63,
   "id": "1de40643",
   "metadata": {},
   "outputs": [
    {
     "data": {
      "text/plain": [
       "<tweepy.api.API at 0x202d5ee7520>"
      ]
     },
     "execution_count": 63,
     "metadata": {},
     "output_type": "execute_result"
    }
   ],
   "source": [
    "api = tweepy.API(auth)\n",
    "api"
   ]
  },
  {
   "cell_type": "code",
   "execution_count": null,
   "id": "48b413aa",
   "metadata": {},
   "outputs": [],
   "source": [
    "client = tweepy.Client(bearer_token=info_bearer_token)\n",
    "\n",
    "# Create a tweet query\n",
    "# https://github.com/twitterdev/getting-started-with-the-twitter-api-v2-for-academic-research/blob/main/modules/5-how-to-write-search-queries.md\n",
    "query = 'suicide lang:en'\n",
    "tweets = client.search_recent_tweets(query, max_results=100)\n",
    "for tweet in tweets.data:\n",
    "    print(tweet.text)\n",
    "    if len(tweet.context_annotations) > 0:\n",
    "        print(tweet.context_annotations)"
   ]
  },
  {
   "cell_type": "code",
   "execution_count": 41,
   "id": "7d126004",
   "metadata": {},
   "outputs": [
    {
     "data": {
      "text/plain": [
       "<tweepy.client.Client at 0x202d5dc5070>"
      ]
     },
     "execution_count": 41,
     "metadata": {},
     "output_type": "execute_result"
    }
   ],
   "source": [
    "client = tweepy.Client(access_token)\n",
    "client"
   ]
  },
  {
   "cell_type": "markdown",
   "id": "bd6d1fae",
   "metadata": {},
   "source": [
    "# Envoyer message"
   ]
  },
  {
   "cell_type": "code",
   "execution_count": 69,
   "id": "2aa121bc",
   "metadata": {},
   "outputs": [
    {
     "data": {
      "text/plain": [
       "<tweepy.api.API at 0x202d60157c0>"
      ]
     },
     "execution_count": 69,
     "metadata": {},
     "output_type": "execute_result"
    }
   ],
   "source": [
    "# Authenticate access\n",
    "auth = tweepy.OAuthHandler(info_api_key, info_api_key_secret)\n",
    "auth.set_access_token(info_acces_token, info_acces_token_secret)\n",
    "# Create API handler\n",
    "api = tweepy.API(auth)\n",
    "\n",
    "api"
   ]
  },
  {
   "cell_type": "code",
   "execution_count": 70,
   "id": "2e1b3264",
   "metadata": {},
   "outputs": [
    {
     "ename": "AttributeError",
     "evalue": "'API' object has no attribute 'search'",
     "output_type": "error",
     "traceback": [
      "\u001b[1;31m---------------------------------------------------------------------------\u001b[0m",
      "\u001b[1;31mAttributeError\u001b[0m                            Traceback (most recent call last)",
      "\u001b[1;32m~\\AppData\\Local\\Temp\\ipykernel_25412\\3819055345.py\u001b[0m in \u001b[0;36m<module>\u001b[1;34m\u001b[0m\n\u001b[1;32m----> 1\u001b[1;33m \u001b[0mtwts\u001b[0m \u001b[1;33m=\u001b[0m \u001b[0mapi\u001b[0m\u001b[1;33m.\u001b[0m\u001b[0msearch\u001b[0m\u001b[1;33m(\u001b[0m\u001b[0mq\u001b[0m\u001b[1;33m=\u001b[0m\u001b[1;34m\"Hello World!\"\u001b[0m\u001b[1;33m)\u001b[0m\u001b[1;33m\u001b[0m\u001b[1;33m\u001b[0m\u001b[0m\n\u001b[0m\u001b[0;32m      2\u001b[0m \u001b[1;33m\u001b[0m\u001b[0m\n\u001b[0;32m      3\u001b[0m \u001b[1;31m#list of specific strings we want to check for in Tweets\u001b[0m\u001b[1;33m\u001b[0m\u001b[1;33m\u001b[0m\u001b[0m\n\u001b[0;32m      4\u001b[0m t = ['Hello world!',\n\u001b[0;32m      5\u001b[0m     \u001b[1;34m'Hello World!'\u001b[0m\u001b[1;33m,\u001b[0m\u001b[1;33m\u001b[0m\u001b[1;33m\u001b[0m\u001b[0m\n",
      "\u001b[1;31mAttributeError\u001b[0m: 'API' object has no attribute 'search'"
     ]
    }
   ],
   "source": [
    "twts = api.search(q=\"Hello World!\")\n",
    "\n",
    "#list of specific strings we want to check for in Tweets\n",
    "t = ['Hello world!',\n",
    "    'Hello World!',\n",
    "    'Hello World!!!',\n",
    "    'Hello world!!!',\n",
    "    'Hello, world!',\n",
    "    'Hello, World!']\n",
    "\n",
    "for s in twt:\n",
    "    for i in t:\n",
    "        if i == s.text:\n",
    "            sn = s.user.screen_name\n",
    "            m = \"@%s Hello!\" % (sn)\n",
    "            s = api.update_status(m, s.id)"
   ]
  },
  {
   "cell_type": "code",
   "execution_count": 72,
   "id": "2964602d",
   "metadata": {},
   "outputs": [
    {
     "ename": "Forbidden",
     "evalue": "403 Forbidden\n453 - You currently have Essential access which includes access to Twitter API v2 endpoints only. If you need access to this endpoint, you’ll need to apply for Elevated access via the Developer Portal. You can learn more here: https://developer.twitter.com/en/docs/twitter-api/getting-started/about-twitter-api#v2-access-leve",
     "output_type": "error",
     "traceback": [
      "\u001b[1;31m---------------------------------------------------------------------------\u001b[0m",
      "\u001b[1;31mForbidden\u001b[0m                                 Traceback (most recent call last)",
      "\u001b[1;32m~\\AppData\\Local\\Temp\\ipykernel_25412\\2332477596.py\u001b[0m in \u001b[0;36m<module>\u001b[1;34m\u001b[0m\n\u001b[0;32m      1\u001b[0m \u001b[0mrecipient_id\u001b[0m \u001b[1;33m=\u001b[0m \u001b[1;34m\"1618042845625212928\"\u001b[0m  \u001b[1;31m# ID of the user\u001b[0m\u001b[1;33m\u001b[0m\u001b[1;33m\u001b[0m\u001b[0m\n\u001b[1;32m----> 2\u001b[1;33m \u001b[0mapi\u001b[0m\u001b[1;33m.\u001b[0m\u001b[0msend_direct_message\u001b[0m\u001b[1;33m(\u001b[0m\u001b[0mrecipient_id\u001b[0m\u001b[1;33m,\u001b[0m \u001b[1;34m\"Hoi hoi\"\u001b[0m\u001b[1;33m)\u001b[0m\u001b[1;33m\u001b[0m\u001b[1;33m\u001b[0m\u001b[0m\n\u001b[0m",
      "\u001b[1;32mD:\\Logiciels\\anaconda3\\lib\\site-packages\\tweepy\\api.py\u001b[0m in \u001b[0;36mwrapper\u001b[1;34m(*args, **kwargs)\u001b[0m\n\u001b[0;32m     44\u001b[0m             \u001b[0mkwargs\u001b[0m\u001b[1;33m[\u001b[0m\u001b[1;34m'payload_list'\u001b[0m\u001b[1;33m]\u001b[0m \u001b[1;33m=\u001b[0m \u001b[0mpayload_list\u001b[0m\u001b[1;33m\u001b[0m\u001b[1;33m\u001b[0m\u001b[0m\n\u001b[0;32m     45\u001b[0m             \u001b[0mkwargs\u001b[0m\u001b[1;33m[\u001b[0m\u001b[1;34m'payload_type'\u001b[0m\u001b[1;33m]\u001b[0m \u001b[1;33m=\u001b[0m \u001b[0mpayload_type\u001b[0m\u001b[1;33m\u001b[0m\u001b[1;33m\u001b[0m\u001b[0m\n\u001b[1;32m---> 46\u001b[1;33m             \u001b[1;32mreturn\u001b[0m \u001b[0mmethod\u001b[0m\u001b[1;33m(\u001b[0m\u001b[1;33m*\u001b[0m\u001b[0margs\u001b[0m\u001b[1;33m,\u001b[0m \u001b[1;33m**\u001b[0m\u001b[0mkwargs\u001b[0m\u001b[1;33m)\u001b[0m\u001b[1;33m\u001b[0m\u001b[1;33m\u001b[0m\u001b[0m\n\u001b[0m\u001b[0;32m     47\u001b[0m         \u001b[0mwrapper\u001b[0m\u001b[1;33m.\u001b[0m\u001b[0mpayload_list\u001b[0m \u001b[1;33m=\u001b[0m \u001b[0mpayload_list\u001b[0m\u001b[1;33m\u001b[0m\u001b[1;33m\u001b[0m\u001b[0m\n\u001b[0;32m     48\u001b[0m         \u001b[0mwrapper\u001b[0m\u001b[1;33m.\u001b[0m\u001b[0mpayload_type\u001b[0m \u001b[1;33m=\u001b[0m \u001b[0mpayload_type\u001b[0m\u001b[1;33m\u001b[0m\u001b[1;33m\u001b[0m\u001b[0m\n",
      "\u001b[1;32mD:\\Logiciels\\anaconda3\\lib\\site-packages\\tweepy\\api.py\u001b[0m in \u001b[0;36msend_direct_message\u001b[1;34m(self, recipient_id, text, quick_reply_options, attachment_type, attachment_media_id, ctas, **kwargs)\u001b[0m\n\u001b[0;32m   3397\u001b[0m         \u001b[1;32mif\u001b[0m \u001b[0mctas\u001b[0m \u001b[1;32mis\u001b[0m \u001b[1;32mnot\u001b[0m \u001b[1;32mNone\u001b[0m\u001b[1;33m:\u001b[0m\u001b[1;33m\u001b[0m\u001b[1;33m\u001b[0m\u001b[0m\n\u001b[0;32m   3398\u001b[0m             \u001b[0mmessage_data\u001b[0m\u001b[1;33m[\u001b[0m\u001b[1;34m'ctas'\u001b[0m\u001b[1;33m]\u001b[0m \u001b[1;33m=\u001b[0m \u001b[0mctas\u001b[0m\u001b[1;33m\u001b[0m\u001b[1;33m\u001b[0m\u001b[0m\n\u001b[1;32m-> 3399\u001b[1;33m         return self.request(\n\u001b[0m\u001b[0;32m   3400\u001b[0m             \u001b[1;34m'POST'\u001b[0m\u001b[1;33m,\u001b[0m \u001b[1;34m'direct_messages/events/new'\u001b[0m\u001b[1;33m,\u001b[0m\u001b[1;33m\u001b[0m\u001b[1;33m\u001b[0m\u001b[0m\n\u001b[0;32m   3401\u001b[0m             \u001b[0mjson_payload\u001b[0m\u001b[1;33m=\u001b[0m\u001b[0mjson_payload\u001b[0m\u001b[1;33m,\u001b[0m \u001b[1;33m**\u001b[0m\u001b[0mkwargs\u001b[0m\u001b[1;33m\u001b[0m\u001b[1;33m\u001b[0m\u001b[0m\n",
      "\u001b[1;32mD:\\Logiciels\\anaconda3\\lib\\site-packages\\tweepy\\api.py\u001b[0m in \u001b[0;36mrequest\u001b[1;34m(self, method, endpoint, endpoint_parameters, params, headers, json_payload, parser, payload_list, payload_type, post_data, files, require_auth, return_cursors, upload_api, use_cache, **kwargs)\u001b[0m\n\u001b[0;32m    263\u001b[0m                 \u001b[1;32mraise\u001b[0m \u001b[0mUnauthorized\u001b[0m\u001b[1;33m(\u001b[0m\u001b[0mresp\u001b[0m\u001b[1;33m)\u001b[0m\u001b[1;33m\u001b[0m\u001b[1;33m\u001b[0m\u001b[0m\n\u001b[0;32m    264\u001b[0m             \u001b[1;32mif\u001b[0m \u001b[0mresp\u001b[0m\u001b[1;33m.\u001b[0m\u001b[0mstatus_code\u001b[0m \u001b[1;33m==\u001b[0m \u001b[1;36m403\u001b[0m\u001b[1;33m:\u001b[0m\u001b[1;33m\u001b[0m\u001b[1;33m\u001b[0m\u001b[0m\n\u001b[1;32m--> 265\u001b[1;33m                 \u001b[1;32mraise\u001b[0m \u001b[0mForbidden\u001b[0m\u001b[1;33m(\u001b[0m\u001b[0mresp\u001b[0m\u001b[1;33m)\u001b[0m\u001b[1;33m\u001b[0m\u001b[1;33m\u001b[0m\u001b[0m\n\u001b[0m\u001b[0;32m    266\u001b[0m             \u001b[1;32mif\u001b[0m \u001b[0mresp\u001b[0m\u001b[1;33m.\u001b[0m\u001b[0mstatus_code\u001b[0m \u001b[1;33m==\u001b[0m \u001b[1;36m404\u001b[0m\u001b[1;33m:\u001b[0m\u001b[1;33m\u001b[0m\u001b[1;33m\u001b[0m\u001b[0m\n\u001b[0;32m    267\u001b[0m                 \u001b[1;32mraise\u001b[0m \u001b[0mNotFound\u001b[0m\u001b[1;33m(\u001b[0m\u001b[0mresp\u001b[0m\u001b[1;33m)\u001b[0m\u001b[1;33m\u001b[0m\u001b[1;33m\u001b[0m\u001b[0m\n",
      "\u001b[1;31mForbidden\u001b[0m: 403 Forbidden\n453 - You currently have Essential access which includes access to Twitter API v2 endpoints only. If you need access to this endpoint, you’ll need to apply for Elevated access via the Developer Portal. You can learn more here: https://developer.twitter.com/en/docs/twitter-api/getting-started/about-twitter-api#v2-access-leve"
     ]
    }
   ],
   "source": [
    "recipient_id = \"1618042845625212928\"  # ID of the user\n",
    "api.send_direct_message(recipient_id, \"Hoi hoi\")"
   ]
  },
  {
   "cell_type": "code",
   "execution_count": 96,
   "id": "561b7c56",
   "metadata": {},
   "outputs": [
    {
     "name": "stdout",
     "output_type": "stream",
     "text": [
      "https://twitter.com/i/oauth2/authorize?response_type=code&client_id=VzlNTVNlYmw4b21ORUtKdlJiYkc6MTpjaQ&redirect_uri=https%3A%2F%2Fwibbo.org&scope=tweet.read+tweet.write+users.read&state=fuBMvSWW9qU5lHQTfKPYu4lqTCbxtF&code_challenge=g3gO5zyVAzigXWtRjQ4_z2C_I8IPaNbCW2ZoUsD2xzI&code_challenge_method=S256\n",
      "Tapez l'url : https://wibbo.org/?state=fuBMvSWW9qU5lHQTfKPYu4lqTCbxtF&code=WDJwNDVNZjBxSTRsSXlGSjZIU2U1MXVHQmZtV3lOVmw0Q2NiM25panMxLW1UOjE2NzQ2ODM5MTUwNTg6MToxOmFjOjE\n"
     ]
    }
   ],
   "source": [
    "info_api_key = \"fSFhW6NJHivhKs88VLtlKQ5t6\"\n",
    "info_api_key_secret = \"X7mVc0epNqxlCdRpa4pP2ymRdpbZwnrEr1edW8SG7JhwMgtEnA\"\n",
    "info_bearer_token = \"AAAAAAAAAAAAAAAAAAAAAGyulQEAAAAAg7rYt7A8KD2yYFu0datNWtadXOU%3Dou4oAmL2wFiZxrckLd5OCHioEDDRJw4ZEDp7AuuJx7WHIENpGq\"\n",
    "\n",
    "info_client_id = \"VzlNTVNlYmw4b21ORUtKdlJiYkc6MTpjaQ\"\n",
    "info_client_secret = \"RhKKHZ0bHeq1QqqNsO3Kzw2_dlo0J1strmd9C0n1bziPwn9PiS\"\n",
    "\n",
    "info_acces_token = \"1574148627672571904-bIjrsPyaC3zLKaYuF9t7rh4PGkPtwT\"\n",
    "info_acces_token_secret = \"jknxWvirBnliMgzINTmmOvGZftZnoShpJe4x1seNBdfth\"\n",
    "\n",
    "info_callback_uri = \"https://wibbo.org\"\n",
    "info_website_url = \"https://wibbo.org\"\n",
    "\n",
    "info_scope = [\"tweet.read\",\"tweet.write\",\"users.read\"]\n",
    "\n",
    "oauth2_user_handler = tweepy.OAuth2UserHandler(\n",
    "    client_id= info_client_id,\n",
    "    redirect_uri= info_callback_uri,\n",
    "    scope= info_scope,\n",
    "    \n",
    "    # Client Secret is only necessary if using a confidential client\n",
    "    client_secret= info_client_secret\n",
    ")\n",
    "\n",
    "print(oauth2_user_handler.get_authorization_url())\n",
    "state = input(\"Tapez l'url : \")\n",
    "access_token = oauth2_user_handler.fetch_token(state)\n",
    "client = tweepy.Client(access_token)"
   ]
  },
  {
   "cell_type": "markdown",
   "id": "ce0a4719",
   "metadata": {},
   "source": [
    "# Tweets d'un user"
   ]
  },
  {
   "cell_type": "code",
   "execution_count": 111,
   "id": "de8de51a",
   "metadata": {},
   "outputs": [
    {
     "name": "stdout",
     "output_type": "stream",
     "text": [
      "RT @PornoxDia: Chanel Preston #StarCards💫\n",
      "👉https://t.co/1Q7PU9bzsS https://t.co/fcwr0i5KID\n",
      "RT @PornoxDia: Dillion Harper #StarCards💫\n",
      "👉https://t.co/qtC3zBLYZA https://t.co/5XWNuM9N5F\n",
      "RT @PornoxDia: Shawna Lenee #StarCards💫\n",
      "👉https://t.co/ErKRPCtI53 https://t.co/xEBEzk3TcD\n",
      "RT @PornoxDia: Julie Cash #StarCards💫\n",
      "👉https://t.co/tZo7FphUm2 https://t.co/oa7eYE1Vdd\n",
      "RT @PornoxDia: Ryan Conner #StarCards💫\n",
      "👉https://t.co/VSI1k7C69C https://t.co/unJXYBuMKP\n",
      "RT @TeamDanaRico: Soy muy versátil, me gusta bromear, coquetear y especialmente ser travieso y juguetón en mis shows, así que asegúrese de…\n",
      "RT @TeamDanaRico: ES HORA DE MOSTRAR MI MEJOR PARTE encontraras una chica lista para explorar y fantasear contigo https://t.co/hPzZbuJdh6 h…\n",
      "RT @TeamDanaRico: El hidrogeno más el oxígeno producen agua, tu y yo producimos placer. https://t.co/eoLTYCv1FZ https://t.co/ZR97vXe6Jx\n",
      "RT @TeamDanaRico: Ven y disfruta conmigo de interesantes aventuras que te harán perder la cabeza. https://t.co/NdI1zOt9hU https://t.co/sLmm…\n",
      "RT @TeamDanaRico: NO SOY TU MEDIA NARANJA, PERO QUE BUENAS EXPRIMIDAS NOS DAMOS...  https://t.co/zzte41Qry6 https://t.co/jbzTrbfifY\n"
     ]
    }
   ],
   "source": [
    "tweets = client.get_users_tweets(\"1059331200261767168\")\n",
    "for tweet in tweets.data:\n",
    "    print(tweet.text)\n",
    "    if len(tweet.context_annotations) > 0:\n",
    "        print(tweet.context_annotations)"
   ]
  }
 ],
 "metadata": {
  "kernelspec": {
   "display_name": "Python 3 (ipykernel)",
   "language": "python",
   "name": "python3"
  },
  "language_info": {
   "codemirror_mode": {
    "name": "ipython",
    "version": 3
   },
   "file_extension": ".py",
   "mimetype": "text/x-python",
   "name": "python",
   "nbconvert_exporter": "python",
   "pygments_lexer": "ipython3",
   "version": "3.9.13"
  }
 },
 "nbformat": 4,
 "nbformat_minor": 5
}
