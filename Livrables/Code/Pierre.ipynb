{
 "cells": [
  {
   "cell_type": "markdown",
   "id": "f7b651ce",
   "metadata": {},
   "source": [
    "# Twitter Detection Suicide"
   ]
  },
  {
   "cell_type": "code",
   "execution_count": 1,
   "id": "76a87745",
   "metadata": {},
   "outputs": [
    {
     "name": "stdout",
     "output_type": "stream",
     "text": [
      "Requirement already satisfied: vaderSentiment in c:\\users\\petil\\anaconda3\\lib\\site-packages (3.3.2)\n",
      "Requirement already satisfied: requests in c:\\users\\petil\\anaconda3\\lib\\site-packages (from vaderSentiment) (2.28.1)\n",
      "Requirement already satisfied: charset-normalizer<3,>=2 in c:\\users\\petil\\appdata\\roaming\\python\\python39\\site-packages (from requests->vaderSentiment) (2.1.1)\n",
      "Requirement already satisfied: urllib3<1.27,>=1.21.1 in c:\\users\\petil\\appdata\\roaming\\python\\python39\\site-packages (from requests->vaderSentiment) (1.26.12)\n",
      "Requirement already satisfied: idna<4,>=2.5 in c:\\users\\petil\\appdata\\roaming\\python\\python39\\site-packages (from requests->vaderSentiment) (2.10)\n",
      "Requirement already satisfied: certifi>=2017.4.17 in c:\\users\\petil\\appdata\\roaming\\python\\python39\\site-packages (from requests->vaderSentiment) (2022.9.24)\n",
      "Requirement already satisfied: textblob in c:\\users\\petil\\anaconda3\\lib\\site-packages (0.17.1)\n",
      "Requirement already satisfied: nltk>=3.1 in c:\\users\\petil\\anaconda3\\lib\\site-packages (from textblob) (3.7)\n",
      "Requirement already satisfied: click in c:\\users\\petil\\appdata\\roaming\\python\\python39\\site-packages (from nltk>=3.1->textblob) (7.1.2)\n",
      "Requirement already satisfied: tqdm in c:\\users\\petil\\anaconda3\\lib\\site-packages (from nltk>=3.1->textblob) (4.64.1)\n",
      "Requirement already satisfied: regex>=2021.8.3 in c:\\users\\petil\\appdata\\roaming\\python\\python39\\site-packages (from nltk>=3.1->textblob) (2021.9.30)\n",
      "Requirement already satisfied: joblib in c:\\users\\petil\\anaconda3\\lib\\site-packages (from nltk>=3.1->textblob) (1.1.0)\n",
      "Requirement already satisfied: colorama in c:\\users\\petil\\anaconda3\\lib\\site-packages (from tqdm->nltk>=3.1->textblob) (0.4.5)\n",
      "Requirement already satisfied: happytransformer in c:\\users\\petil\\anaconda3\\lib\\site-packages (2.4.1)\n",
      "Requirement already satisfied: transformers>=4.4.0 in c:\\users\\petil\\anaconda3\\lib\\site-packages (from happytransformer) (4.24.0)\n",
      "Requirement already satisfied: protobuf in c:\\users\\petil\\appdata\\roaming\\python\\python39\\site-packages (from happytransformer) (3.19.6)\n",
      "Requirement already satisfied: torch>=1.0 in c:\\users\\petil\\anaconda3\\lib\\site-packages (from happytransformer) (1.13.1)\n",
      "Requirement already satisfied: datasets>=1.6.0 in c:\\users\\petil\\anaconda3\\lib\\site-packages (from happytransformer) (2.8.0)\n",
      "Requirement already satisfied: sentencepiece in c:\\users\\petil\\anaconda3\\lib\\site-packages (from happytransformer) (0.1.97)\n",
      "Requirement already satisfied: tqdm>=4.43 in c:\\users\\petil\\anaconda3\\lib\\site-packages (from happytransformer) (4.64.1)\n",
      "Requirement already satisfied: multiprocess in c:\\users\\petil\\anaconda3\\lib\\site-packages (from datasets>=1.6.0->happytransformer) (0.70.14)\n",
      "Requirement already satisfied: fsspec[http]>=2021.11.1 in c:\\users\\petil\\anaconda3\\lib\\site-packages (from datasets>=1.6.0->happytransformer) (2022.7.1)\n",
      "Requirement already satisfied: xxhash in c:\\users\\petil\\anaconda3\\lib\\site-packages (from datasets>=1.6.0->happytransformer) (3.2.0)\n",
      "Requirement already satisfied: aiohttp in c:\\users\\petil\\anaconda3\\lib\\site-packages (from datasets>=1.6.0->happytransformer) (3.8.3)\n",
      "Requirement already satisfied: requests>=2.19.0 in c:\\users\\petil\\anaconda3\\lib\\site-packages (from datasets>=1.6.0->happytransformer) (2.28.1)\n",
      "Requirement already satisfied: pandas in c:\\users\\petil\\anaconda3\\lib\\site-packages (from datasets>=1.6.0->happytransformer) (1.4.4)\n",
      "Requirement already satisfied: pyarrow>=6.0.0 in c:\\users\\petil\\anaconda3\\lib\\site-packages (from datasets>=1.6.0->happytransformer) (10.0.1)\n",
      "Requirement already satisfied: responses<0.19 in c:\\users\\petil\\anaconda3\\lib\\site-packages (from datasets>=1.6.0->happytransformer) (0.18.0)\n",
      "Requirement already satisfied: packaging in c:\\users\\petil\\appdata\\roaming\\python\\python39\\site-packages (from datasets>=1.6.0->happytransformer) (21.3)\n",
      "Requirement already satisfied: numpy>=1.17 in c:\\users\\petil\\appdata\\roaming\\python\\python39\\site-packages (from datasets>=1.6.0->happytransformer) (1.23.4)\n",
      "Requirement already satisfied: pyyaml>=5.1 in c:\\users\\petil\\appdata\\roaming\\python\\python39\\site-packages (from datasets>=1.6.0->happytransformer) (5.4.1)\n",
      "Requirement already satisfied: dill<0.3.7 in c:\\users\\petil\\anaconda3\\lib\\site-packages (from datasets>=1.6.0->happytransformer) (0.3.6)\n",
      "Requirement already satisfied: huggingface-hub<1.0.0,>=0.2.0 in c:\\users\\petil\\anaconda3\\lib\\site-packages (from datasets>=1.6.0->happytransformer) (0.11.0)\n",
      "Requirement already satisfied: typing-extensions in c:\\users\\petil\\appdata\\roaming\\python\\python39\\site-packages (from torch>=1.0->happytransformer) (3.10.0.0)\n",
      "Requirement already satisfied: colorama in c:\\users\\petil\\anaconda3\\lib\\site-packages (from tqdm>=4.43->happytransformer) (0.4.5)\n",
      "Requirement already satisfied: tokenizers!=0.11.3,<0.14,>=0.11.1 in c:\\users\\petil\\anaconda3\\lib\\site-packages (from transformers>=4.4.0->happytransformer) (0.13.2)\n",
      "Requirement already satisfied: filelock in c:\\users\\petil\\anaconda3\\lib\\site-packages (from transformers>=4.4.0->happytransformer) (3.6.0)\n",
      "Requirement already satisfied: regex!=2019.12.17 in c:\\users\\petil\\appdata\\roaming\\python\\python39\\site-packages (from transformers>=4.4.0->happytransformer) (2021.9.30)\n",
      "Requirement already satisfied: pyparsing!=3.0.5,>=2.0.2 in c:\\users\\petil\\appdata\\roaming\\python\\python39\\site-packages (from packaging->datasets>=1.6.0->happytransformer) (3.0.9)\n",
      "Requirement already satisfied: urllib3<1.27,>=1.21.1 in c:\\users\\petil\\appdata\\roaming\\python\\python39\\site-packages (from requests>=2.19.0->datasets>=1.6.0->happytransformer) (1.26.12)\n",
      "Requirement already satisfied: idna<4,>=2.5 in c:\\users\\petil\\appdata\\roaming\\python\\python39\\site-packages (from requests>=2.19.0->datasets>=1.6.0->happytransformer) (2.10)\n",
      "Requirement already satisfied: certifi>=2017.4.17 in c:\\users\\petil\\appdata\\roaming\\python\\python39\\site-packages (from requests>=2.19.0->datasets>=1.6.0->happytransformer) (2022.9.24)\n",
      "Requirement already satisfied: charset-normalizer<3,>=2 in c:\\users\\petil\\appdata\\roaming\\python\\python39\\site-packages (from requests>=2.19.0->datasets>=1.6.0->happytransformer) (2.1.1)\n",
      "Requirement already satisfied: async-timeout<5.0,>=4.0.0a3 in c:\\users\\petil\\anaconda3\\lib\\site-packages (from aiohttp->datasets>=1.6.0->happytransformer) (4.0.2)\n",
      "Requirement already satisfied: attrs>=17.3.0 in c:\\users\\petil\\anaconda3\\lib\\site-packages (from aiohttp->datasets>=1.6.0->happytransformer) (21.4.0)\n",
      "Requirement already satisfied: yarl<2.0,>=1.0 in c:\\users\\petil\\anaconda3\\lib\\site-packages (from aiohttp->datasets>=1.6.0->happytransformer) (1.8.2)\n",
      "Requirement already satisfied: frozenlist>=1.1.1 in c:\\users\\petil\\anaconda3\\lib\\site-packages (from aiohttp->datasets>=1.6.0->happytransformer) (1.3.3)\n",
      "Requirement already satisfied: aiosignal>=1.1.2 in c:\\users\\petil\\anaconda3\\lib\\site-packages (from aiohttp->datasets>=1.6.0->happytransformer) (1.3.1)\n",
      "Requirement already satisfied: multidict<7.0,>=4.5 in c:\\users\\petil\\anaconda3\\lib\\site-packages (from aiohttp->datasets>=1.6.0->happytransformer) (6.0.4)\n",
      "Requirement already satisfied: pytz>=2020.1 in c:\\users\\petil\\anaconda3\\lib\\site-packages (from pandas->datasets>=1.6.0->happytransformer) (2022.1)\n",
      "Requirement already satisfied: python-dateutil>=2.8.1 in c:\\users\\petil\\anaconda3\\lib\\site-packages (from pandas->datasets>=1.6.0->happytransformer) (2.8.2)\n",
      "Requirement already satisfied: six>=1.5 in c:\\users\\petil\\appdata\\roaming\\python\\python39\\site-packages (from python-dateutil>=2.8.1->pandas->datasets>=1.6.0->happytransformer) (1.16.0)\n",
      "Requirement already satisfied: transformers in c:\\users\\petil\\anaconda3\\lib\\site-packages (4.24.0)\n",
      "Requirement already satisfied: filelock in c:\\users\\petil\\anaconda3\\lib\\site-packages (from transformers) (3.6.0)\n",
      "Requirement already satisfied: tokenizers!=0.11.3,<0.14,>=0.11.1 in c:\\users\\petil\\anaconda3\\lib\\site-packages (from transformers) (0.13.2)\n",
      "Requirement already satisfied: huggingface-hub<1.0,>=0.10.0 in c:\\users\\petil\\anaconda3\\lib\\site-packages (from transformers) (0.11.0)\n",
      "Requirement already satisfied: regex!=2019.12.17 in c:\\users\\petil\\appdata\\roaming\\python\\python39\\site-packages (from transformers) (2021.9.30)\n",
      "Requirement already satisfied: pyyaml>=5.1 in c:\\users\\petil\\appdata\\roaming\\python\\python39\\site-packages (from transformers) (5.4.1)\n",
      "Requirement already satisfied: packaging>=20.0 in c:\\users\\petil\\appdata\\roaming\\python\\python39\\site-packages (from transformers) (21.3)\n",
      "Requirement already satisfied: requests in c:\\users\\petil\\anaconda3\\lib\\site-packages (from transformers) (2.28.1)\n",
      "Requirement already satisfied: tqdm>=4.27 in c:\\users\\petil\\anaconda3\\lib\\site-packages (from transformers) (4.64.1)\n",
      "Requirement already satisfied: numpy>=1.17 in c:\\users\\petil\\appdata\\roaming\\python\\python39\\site-packages (from transformers) (1.23.4)\n",
      "Requirement already satisfied: typing-extensions>=3.7.4.3 in c:\\users\\petil\\appdata\\roaming\\python\\python39\\site-packages (from huggingface-hub<1.0,>=0.10.0->transformers) (3.10.0.0)\n",
      "Requirement already satisfied: pyparsing!=3.0.5,>=2.0.2 in c:\\users\\petil\\appdata\\roaming\\python\\python39\\site-packages (from packaging>=20.0->transformers) (3.0.9)\n",
      "Requirement already satisfied: colorama in c:\\users\\petil\\anaconda3\\lib\\site-packages (from tqdm>=4.27->transformers) (0.4.5)\n",
      "Requirement already satisfied: urllib3<1.27,>=1.21.1 in c:\\users\\petil\\appdata\\roaming\\python\\python39\\site-packages (from requests->transformers) (1.26.12)\n",
      "Requirement already satisfied: charset-normalizer<3,>=2 in c:\\users\\petil\\appdata\\roaming\\python\\python39\\site-packages (from requests->transformers) (2.1.1)\n",
      "Requirement already satisfied: certifi>=2017.4.17 in c:\\users\\petil\\appdata\\roaming\\python\\python39\\site-packages (from requests->transformers) (2022.9.24)\n",
      "Requirement already satisfied: idna<4,>=2.5 in c:\\users\\petil\\appdata\\roaming\\python\\python39\\site-packages (from requests->transformers) (2.10)\n"
     ]
    }
   ],
   "source": [
    "# Librairies to install\n",
    "!pip install vaderSentiment\n",
    "!pip install textblob\n",
    "!pip install happytransformer\n",
    "!pip install transformers"
   ]
  },
  {
   "cell_type": "code",
   "execution_count": 2,
   "id": "a3f87b17",
   "metadata": {},
   "outputs": [],
   "source": [
    "# Important librairy\n",
    "import pandas as pd\n",
    "import numpy as np\n",
    "import nltk\n",
    "import os\n",
    "import re\n",
    "import warnings\n",
    "warnings.filterwarnings('ignore')\n",
    "\n",
    "# For Modele\n",
    "from nltk.tag import UnigramTagger\n",
    "from nltk.corpus import treebank\n",
    "from nltk.tokenize import word_tokenize\n",
    "from nltk.corpus import sentiwordnet as swn\n",
    "from vaderSentiment.vaderSentiment import SentimentIntensityAnalyzer\n",
    "from textblob import TextBlob\n",
    "from happytransformer import HappyTextClassification\n",
    "from transformers import AutoModel, AutoTokenizer\n",
    "from transformers import pipeline\n",
    "\n",
    "# Analyse des données\n",
    "import seaborn as sn\n",
    "from matplotlib import pyplot as plt\n",
    "\n",
    "from sklearn.metrics import confusion_matrix"
   ]
  },
  {
   "cell_type": "code",
   "execution_count": 3,
   "id": "bf8ed014",
   "metadata": {},
   "outputs": [
    {
     "data": {
      "text/html": [
       "<div>\n",
       "<style scoped>\n",
       "    .dataframe tbody tr th:only-of-type {\n",
       "        vertical-align: middle;\n",
       "    }\n",
       "\n",
       "    .dataframe tbody tr th {\n",
       "        vertical-align: top;\n",
       "    }\n",
       "\n",
       "    .dataframe thead th {\n",
       "        text-align: right;\n",
       "    }\n",
       "</style>\n",
       "<table border=\"1\" class=\"dataframe\">\n",
       "  <thead>\n",
       "    <tr style=\"text-align: right;\">\n",
       "      <th></th>\n",
       "      <th>text</th>\n",
       "      <th>class</th>\n",
       "    </tr>\n",
       "  </thead>\n",
       "  <tbody>\n",
       "    <tr>\n",
       "      <th>0</th>\n",
       "      <td>i hate myself so much i want to KILL myself ho...</td>\n",
       "      <td>Potential Suicide post</td>\n",
       "    </tr>\n",
       "    <tr>\n",
       "      <th>1</th>\n",
       "      <td>RT @DrugForumsBest: I woke up with a bag over ...</td>\n",
       "      <td>Potential Suicide post</td>\n",
       "    </tr>\n",
       "    <tr>\n",
       "      <th>2</th>\n",
       "      <td>i wanna fucking kill myself</td>\n",
       "      <td>Potential Suicide post</td>\n",
       "    </tr>\n",
       "    <tr>\n",
       "      <th>3</th>\n",
       "      <td>why do i destroy all my opportunities? am i go...</td>\n",
       "      <td>Potential Suicide post</td>\n",
       "    </tr>\n",
       "    <tr>\n",
       "      <th>4</th>\n",
       "      <td>u - understand what the fuck im doing wrong wi...</td>\n",
       "      <td>Potential Suicide post</td>\n",
       "    </tr>\n",
       "    <tr>\n",
       "      <th>5</th>\n",
       "      <td>Wait I take this back, I fucking hate living i...</td>\n",
       "      <td>Potential Suicide post</td>\n",
       "    </tr>\n",
       "    <tr>\n",
       "      <th>6</th>\n",
       "      <td>Bitch I'm gonna kill myself what the fuck</td>\n",
       "      <td>Potential Suicide post</td>\n",
       "    </tr>\n",
       "    <tr>\n",
       "      <th>7</th>\n",
       "      <td>goodnight i really want to fucking kill myself</td>\n",
       "      <td>Potential Suicide post</td>\n",
       "    </tr>\n",
       "    <tr>\n",
       "      <th>8</th>\n",
       "      <td>I wanna kill myself like not literally but men...</td>\n",
       "      <td>Potential Suicide post</td>\n",
       "    </tr>\n",
       "    <tr>\n",
       "      <th>9</th>\n",
       "      <td>its crazy cause i shut myself out on two ppl i...</td>\n",
       "      <td>Potential Suicide post</td>\n",
       "    </tr>\n",
       "  </tbody>\n",
       "</table>\n",
       "</div>"
      ],
      "text/plain": [
       "                                                text                    class\n",
       "0  i hate myself so much i want to KILL myself ho...  Potential Suicide post \n",
       "1  RT @DrugForumsBest: I woke up with a bag over ...  Potential Suicide post \n",
       "2                        i wanna fucking kill myself  Potential Suicide post \n",
       "3  why do i destroy all my opportunities? am i go...  Potential Suicide post \n",
       "4  u - understand what the fuck im doing wrong wi...  Potential Suicide post \n",
       "5  Wait I take this back, I fucking hate living i...  Potential Suicide post \n",
       "6          Bitch I'm gonna kill myself what the fuck  Potential Suicide post \n",
       "7     goodnight i really want to fucking kill myself  Potential Suicide post \n",
       "8  I wanna kill myself like not literally but men...  Potential Suicide post \n",
       "9  its crazy cause i shut myself out on two ppl i...  Potential Suicide post "
      ]
     },
     "execution_count": 3,
     "metadata": {},
     "output_type": "execute_result"
    }
   ],
   "source": [
    "# On charge les deux dataset de test et de train\n",
    "#df = pd.read_csv('./Suicide_Detection_Reddit2.csv')\n",
    "df = pd.read_csv('./Suicide_Detection_Tweeter.csv')\n",
    "#df = pd.read_csv(r'C:\\Users\\owen9\\OneDrive\\Documents\\GitHub\\TwitterFeelingAnalyse\\Dataset\\Suicide_Detection_Tweeter.csv')\n",
    "df = df.rename(columns={\n",
    "    \"Tweet\": \"text\",\n",
    "    \"Suicide\": \"class\"\n",
    "})\n",
    "df[\"text\"] = df[\"text\"].astype(str)\n",
    "df[\"class\"] = df[\"class\"].astype(str)\n",
    "df.head(10)"
   ]
  },
  {
   "cell_type": "code",
   "execution_count": 4,
   "id": "dad74af6",
   "metadata": {},
   "outputs": [
    {
     "name": "stdout",
     "output_type": "stream",
     "text": [
      "Nombre de ligne : 1599\n",
      "Nombre de colonne : 2\n"
     ]
    }
   ],
   "source": [
    "# On affiche la dimension du dataset\n",
    "print('Nombre de ligne : ' +  str(df.shape[0]))\n",
    "print('Nombre de colonne : ' + str(df.shape[1]))"
   ]
  },
  {
   "cell_type": "markdown",
   "id": "e76d3b10",
   "metadata": {},
   "source": [
    "# Cleaning"
   ]
  },
  {
   "cell_type": "code",
   "execution_count": 5,
   "id": "bf7d4ef3",
   "metadata": {},
   "outputs": [],
   "source": [
    "def Cleaning(Text):\n",
    "    #supprimer les identifiactions avec les @\n",
    "    L=[]#liste des mots à enlever\n",
    "    for i in range(len(Text)):\n",
    "        if Text[i]=='@':            \n",
    "            s=''\n",
    "            for j in Text[i:]:\n",
    "                if j != ' ':\n",
    "                    s+=j\n",
    "                else:\n",
    "                    break            \n",
    "            L.append(s)\n",
    "    #suppression de tous les mots\n",
    "    for word in L:\n",
    "        Text=Text.replace(word,'')\n",
    "    \n",
    "    #On garde que les caractères alphanumériques\n",
    "    Text=re.sub(r'((?![a-z]|[A-Z]|\\d).)',' ',Text)#((?!...).) => opposé\n",
    "    \n",
    "    return Text.strip() #suppression des espaces au début et à la fin"
   ]
  },
  {
   "cell_type": "code",
   "execution_count": 6,
   "id": "dfe94567",
   "metadata": {},
   "outputs": [
    {
     "data": {
      "text/html": [
       "<div>\n",
       "<style scoped>\n",
       "    .dataframe tbody tr th:only-of-type {\n",
       "        vertical-align: middle;\n",
       "    }\n",
       "\n",
       "    .dataframe tbody tr th {\n",
       "        vertical-align: top;\n",
       "    }\n",
       "\n",
       "    .dataframe thead th {\n",
       "        text-align: right;\n",
       "    }\n",
       "</style>\n",
       "<table border=\"1\" class=\"dataframe\">\n",
       "  <thead>\n",
       "    <tr style=\"text-align: right;\">\n",
       "      <th></th>\n",
       "      <th>text</th>\n",
       "      <th>class</th>\n",
       "    </tr>\n",
       "  </thead>\n",
       "  <tbody>\n",
       "    <tr>\n",
       "      <th>0</th>\n",
       "      <td>i hate myself so much i want to KILL myself ho...</td>\n",
       "      <td>Potential Suicide post</td>\n",
       "    </tr>\n",
       "    <tr>\n",
       "      <th>1</th>\n",
       "      <td>RT  I woke up with a bag over my head after I ...</td>\n",
       "      <td>Potential Suicide post</td>\n",
       "    </tr>\n",
       "    <tr>\n",
       "      <th>2</th>\n",
       "      <td>i wanna fucking kill myself</td>\n",
       "      <td>Potential Suicide post</td>\n",
       "    </tr>\n",
       "    <tr>\n",
       "      <th>3</th>\n",
       "      <td>why do i destroy all my opportunities  am i go...</td>\n",
       "      <td>Potential Suicide post</td>\n",
       "    </tr>\n",
       "    <tr>\n",
       "      <th>4</th>\n",
       "      <td>u   understand what the fuck im doing wrong wi...</td>\n",
       "      <td>Potential Suicide post</td>\n",
       "    </tr>\n",
       "    <tr>\n",
       "      <th>5</th>\n",
       "      <td>Wait I take this back  I fucking hate living i...</td>\n",
       "      <td>Potential Suicide post</td>\n",
       "    </tr>\n",
       "    <tr>\n",
       "      <th>6</th>\n",
       "      <td>Bitch I m gonna kill myself what the fuck</td>\n",
       "      <td>Potential Suicide post</td>\n",
       "    </tr>\n",
       "    <tr>\n",
       "      <th>7</th>\n",
       "      <td>goodnight i really want to fucking kill myself</td>\n",
       "      <td>Potential Suicide post</td>\n",
       "    </tr>\n",
       "    <tr>\n",
       "      <th>8</th>\n",
       "      <td>I wanna kill myself like not literally but men...</td>\n",
       "      <td>Potential Suicide post</td>\n",
       "    </tr>\n",
       "    <tr>\n",
       "      <th>9</th>\n",
       "      <td>its crazy cause i shut myself out on two ppl i...</td>\n",
       "      <td>Potential Suicide post</td>\n",
       "    </tr>\n",
       "  </tbody>\n",
       "</table>\n",
       "</div>"
      ],
      "text/plain": [
       "                                                text                    class\n",
       "0  i hate myself so much i want to KILL myself ho...  Potential Suicide post \n",
       "1  RT  I woke up with a bag over my head after I ...  Potential Suicide post \n",
       "2                        i wanna fucking kill myself  Potential Suicide post \n",
       "3  why do i destroy all my opportunities  am i go...  Potential Suicide post \n",
       "4  u   understand what the fuck im doing wrong wi...  Potential Suicide post \n",
       "5  Wait I take this back  I fucking hate living i...  Potential Suicide post \n",
       "6          Bitch I m gonna kill myself what the fuck  Potential Suicide post \n",
       "7     goodnight i really want to fucking kill myself  Potential Suicide post \n",
       "8  I wanna kill myself like not literally but men...  Potential Suicide post \n",
       "9  its crazy cause i shut myself out on two ppl i...  Potential Suicide post "
      ]
     },
     "execution_count": 6,
     "metadata": {},
     "output_type": "execute_result"
    }
   ],
   "source": [
    "df['text'] = df['text'].apply(lambda x: Cleaning(x))\n",
    "df.head(10)"
   ]
  },
  {
   "cell_type": "markdown",
   "id": "2b6da791",
   "metadata": {},
   "source": [
    "# Modeles"
   ]
  },
  {
   "cell_type": "markdown",
   "id": "ce8d5a1a",
   "metadata": {},
   "source": [
    "## Fonction Globale"
   ]
  },
  {
   "cell_type": "code",
   "execution_count": 7,
   "id": "997ddb44",
   "metadata": {},
   "outputs": [],
   "source": [
    "# Instanciez le modèle et le tokeniseur\n",
    "def Classificator(name):\n",
    "    tokenizer = AutoTokenizer.from_pretrained(name)\n",
    "    model = AutoModel.from_pretrained(name)\n",
    "    return pipeline(model=name)"
   ]
  },
  {
   "cell_type": "code",
   "execution_count": 8,
   "id": "6384bb29",
   "metadata": {},
   "outputs": [
    {
     "name": "stderr",
     "output_type": "stream",
     "text": [
      "01/23/2023 12:51:52 - INFO - happytransformer.happy_transformer -   Using model: cpu\n",
      "Some weights of the model checkpoint at nlptown/bert-base-multilingual-uncased-sentiment were not used when initializing BertModel: ['classifier.weight', 'classifier.bias']\n",
      "- This IS expected if you are initializing BertModel from the checkpoint of a model trained on another task or with another architecture (e.g. initializing a BertForSequenceClassification model from a BertForPreTraining model).\n",
      "- This IS NOT expected if you are initializing BertModel from the checkpoint of a model that you expect to be exactly identical (initializing a BertForSequenceClassification model from a BertForSequenceClassification model).\n"
     ]
    },
    {
     "data": {
      "application/vnd.jupyter.widget-view+json": {
       "model_id": "f72e452198c94bef8fbcf40162ecc710",
       "version_major": 2,
       "version_minor": 0
      },
      "text/plain": [
       "Downloading:   0%|          | 0.00/1.40k [00:00<?, ?B/s]"
      ]
     },
     "metadata": {},
     "output_type": "display_data"
    },
    {
     "name": "stderr",
     "output_type": "stream",
     "text": [
      "Some weights of the model checkpoint at gooohjy/suicidal-bert were not used when initializing BertModel: ['classifier.weight', 'classifier.bias']\n",
      "- This IS expected if you are initializing BertModel from the checkpoint of a model trained on another task or with another architecture (e.g. initializing a BertForSequenceClassification model from a BertForPreTraining model).\n",
      "- This IS NOT expected if you are initializing BertModel from the checkpoint of a model that you expect to be exactly identical (initializing a BertForSequenceClassification model from a BertForSequenceClassification model).\n"
     ]
    },
    {
     "data": {
      "application/vnd.jupyter.widget-view+json": {
       "model_id": "bdbb7116d40e4819bbe263cb957f58c4",
       "version_major": 2,
       "version_minor": 0
      },
      "text/plain": [
       "Downloading:   0%|          | 0.00/1.01k [00:00<?, ?B/s]"
      ]
     },
     "metadata": {},
     "output_type": "display_data"
    }
   ],
   "source": [
    "# Keyword Analyse\n",
    "train_sents = treebank.tagged_sents()[:3000]\n",
    "tagger = UnigramTagger(train_sents)\n",
    "\n",
    "# Classificateur\n",
    "happy_tc = HappyTextClassification(model_type=\"DISTILBERT\", model_name=\"distilbert-base-uncased-finetuned-sst-2-english\", num_labels=2)\n",
    "classifier_bert = Classificator(\"nlptown/bert-base-multilingual-uncased-sentiment\")\n",
    "classifier_suicidal_bert = Classificator(\"gooohjy/suicidal-bert\")"
   ]
  },
  {
   "cell_type": "code",
   "execution_count": 9,
   "id": "4b13d793",
   "metadata": {},
   "outputs": [],
   "source": [
    "def AddModeleIntoDataframe(df, function_modele, list_column_name):\n",
    "    df[list_column_name] = df['text'].apply(lambda x: function_modele(x))\n",
    "    return df"
   ]
  },
  {
   "cell_type": "code",
   "execution_count": 10,
   "id": "f1f6f258",
   "metadata": {},
   "outputs": [],
   "source": [
    "def AddAllModelToDF(df):\n",
    "    #cleaning du dataframe\n",
    "    df[\"text\"] = df[\"text\"].apply(lambda x: x[:500])\n",
    "    \n",
    "    print(\"Réalisation de la fonction keyword_analyse en cours ....\")\n",
    "    #df = AddModeleIntoDataframe(df, sentiment_keyword, \"keyword_label\")\n",
    "    \n",
    "    print(\"Réalisation de la fonction sentiment_vader en cours ....\")\n",
    "    df = AddModeleIntoDataframe(df, sentiment_vader, \"valder_label\")\n",
    "    \n",
    "    print(\"Réalisation de la fonction sentiment_texblob en cours ....\")\n",
    "    df = AddModeleIntoDataframe(df, sentiment_texblob_polarity, \"textbloc_polarity_label\")\n",
    "    df = AddModeleIntoDataframe(df, sentiment_texblob_subjectivity, \"textbloc_subjectivity_label\")\n",
    "    \n",
    "    print(\"Réalisation de la fonction sentiment_happy_transformer en cours ....\")\n",
    "    df = AddModeleIntoDataframe(df, sentiment_happy_transformer, \"happy_transformer_label\")\n",
    "    \n",
    "    print(\"Réalisation de la fonction sentiment_bert en cours ....\")\n",
    "    df = AddModeleIntoDataframe(df, sentiment_bert, \"bert_label\")\n",
    "    \n",
    "    print(\"Réalisation de la fonction sentiment_suicidal_bert en cours ....\")\n",
    "    df = AddModeleIntoDataframe(df, sentiment_suicidal_bert, \"suicidal_bert_label\")\n",
    "\n",
    "    return df"
   ]
  },
  {
   "cell_type": "markdown",
   "id": "432a36d1",
   "metadata": {},
   "source": [
    "## KeyWord Analyse"
   ]
  },
  {
   "cell_type": "code",
   "execution_count": 11,
   "id": "65400305",
   "metadata": {},
   "outputs": [],
   "source": [
    "def sentiment_keyword(text):\n",
    "    texte=word_tokenize(text)\n",
    "    L=set()\n",
    "    tag=tagger.tag(texte)\n",
    "\n",
    "    for t in tag:\n",
    "        L.add(t[0])\n",
    "\n",
    "    pos_score=0\n",
    "    neg_score=0\n",
    "\n",
    "    for adv in L:\n",
    "        adv_senti = list(swn.senti_synsets(adv))\n",
    "        if len(adv_senti)!=0:\n",
    "            pos_score+=adv_senti[0].pos_score()\n",
    "            neg_score+=adv_senti[0].neg_score()\n",
    "    res=''\n",
    "    \n",
    "    if pos_score > neg_score:\n",
    "        res='pos'\n",
    "    elif pos_score < neg_score:\n",
    "        res='neg'\n",
    "\n",
    "    return res,pos_score,neg_score"
   ]
  },
  {
   "cell_type": "markdown",
   "id": "b6cae359",
   "metadata": {},
   "source": [
    "## Valder"
   ]
  },
  {
   "cell_type": "code",
   "execution_count": 12,
   "id": "d05b6f2f",
   "metadata": {},
   "outputs": [],
   "source": [
    "def sentiment_vader(sentence):\n",
    "    # Create a SentimentIntensityAnalyzer object.\n",
    "    sid_obj = SentimentIntensityAnalyzer()\n",
    "\n",
    "    sentiment_dict = sid_obj.polarity_scores(sentence)\n",
    "    negative = sentiment_dict['neg']\n",
    "    neutral = sentiment_dict['neu']\n",
    "    positive = sentiment_dict['pos']\n",
    "    compound = sentiment_dict['compound']\n",
    "\n",
    "    if sentiment_dict['compound'] <= - 0.05 :\n",
    "        overall_sentiment = \"Negative\"\n",
    "        \n",
    "    elif sentiment_dict['compound'] >= 0.05 :\n",
    "        overall_sentiment = \"Positive\"   \n",
    "\n",
    "    else :\n",
    "        overall_sentiment = \"Neutral\"\n",
    "  \n",
    "    return overall_sentiment"
   ]
  },
  {
   "cell_type": "markdown",
   "id": "3356f1fa",
   "metadata": {},
   "source": [
    "## TextBlob"
   ]
  },
  {
   "cell_type": "code",
   "execution_count": 13,
   "id": "64245b46",
   "metadata": {},
   "outputs": [],
   "source": [
    "def sentiment_texblob_polarity(row):\n",
    "    classifier = TextBlob(row)\n",
    "    polarity = classifier.sentiment.polarity\n",
    "    return polarity\n",
    "\n",
    "def sentiment_texblob_subjectivity(row):\n",
    "    classifier = TextBlob(row)\n",
    "    subjectivity = classifier.sentiment.subjectivity\n",
    "    return subjectivity"
   ]
  },
  {
   "cell_type": "markdown",
   "id": "c1509569",
   "metadata": {},
   "source": [
    "## Happy Transformer"
   ]
  },
  {
   "cell_type": "code",
   "execution_count": 14,
   "id": "f0ddeeb3",
   "metadata": {},
   "outputs": [],
   "source": [
    "def sentiment_happy_transformer(row):\n",
    "    result = happy_tc.classify_text(row)\n",
    "    return str(result.label)"
   ]
  },
  {
   "cell_type": "markdown",
   "id": "0811695d",
   "metadata": {},
   "source": [
    "## BERT"
   ]
  },
  {
   "cell_type": "code",
   "execution_count": 15,
   "id": "6f030b0e",
   "metadata": {},
   "outputs": [],
   "source": [
    "def sentiment_bert(row):\n",
    "    # On recupere le sentiment\n",
    "    res = classifier_bert(row)\n",
    "\n",
    "    # Ajoutez les résultats aux tableaux\n",
    "    return res[0]['label'][:1]"
   ]
  },
  {
   "cell_type": "markdown",
   "id": "ffd8d981",
   "metadata": {},
   "source": [
    "## Suicidal BERT"
   ]
  },
  {
   "cell_type": "code",
   "execution_count": 16,
   "id": "e060b133",
   "metadata": {},
   "outputs": [],
   "source": [
    "def sentiment_suicidal_bert(row):\n",
    "    # On recupere le sentiment\n",
    "    res = classifier_suicidal_bert(row)\n",
    "\n",
    "    # Ajoutez les résultats aux tableaux\n",
    "    return res[0]['label']"
   ]
  },
  {
   "cell_type": "code",
   "execution_count": 17,
   "id": "4412d251",
   "metadata": {},
   "outputs": [
    {
     "data": {
      "text/html": [
       "<div>\n",
       "<style scoped>\n",
       "    .dataframe tbody tr th:only-of-type {\n",
       "        vertical-align: middle;\n",
       "    }\n",
       "\n",
       "    .dataframe tbody tr th {\n",
       "        vertical-align: top;\n",
       "    }\n",
       "\n",
       "    .dataframe thead th {\n",
       "        text-align: right;\n",
       "    }\n",
       "</style>\n",
       "<table border=\"1\" class=\"dataframe\">\n",
       "  <thead>\n",
       "    <tr style=\"text-align: right;\">\n",
       "      <th></th>\n",
       "      <th>text</th>\n",
       "      <th>class</th>\n",
       "    </tr>\n",
       "  </thead>\n",
       "  <tbody>\n",
       "    <tr>\n",
       "      <th>0</th>\n",
       "      <td>i hate myself so much i want to KILL myself ho...</td>\n",
       "      <td>Potential Suicide post</td>\n",
       "    </tr>\n",
       "    <tr>\n",
       "      <th>1</th>\n",
       "      <td>RT  I woke up with a bag over my head after I ...</td>\n",
       "      <td>Potential Suicide post</td>\n",
       "    </tr>\n",
       "    <tr>\n",
       "      <th>2</th>\n",
       "      <td>i wanna fucking kill myself</td>\n",
       "      <td>Potential Suicide post</td>\n",
       "    </tr>\n",
       "    <tr>\n",
       "      <th>3</th>\n",
       "      <td>why do i destroy all my opportunities  am i go...</td>\n",
       "      <td>Potential Suicide post</td>\n",
       "    </tr>\n",
       "    <tr>\n",
       "      <th>4</th>\n",
       "      <td>u   understand what the fuck im doing wrong wi...</td>\n",
       "      <td>Potential Suicide post</td>\n",
       "    </tr>\n",
       "  </tbody>\n",
       "</table>\n",
       "</div>"
      ],
      "text/plain": [
       "                                                text                    class\n",
       "0  i hate myself so much i want to KILL myself ho...  Potential Suicide post \n",
       "1  RT  I woke up with a bag over my head after I ...  Potential Suicide post \n",
       "2                        i wanna fucking kill myself  Potential Suicide post \n",
       "3  why do i destroy all my opportunities  am i go...  Potential Suicide post \n",
       "4  u   understand what the fuck im doing wrong wi...  Potential Suicide post "
      ]
     },
     "execution_count": 17,
     "metadata": {},
     "output_type": "execute_result"
    }
   ],
   "source": [
    "df.head()"
   ]
  },
  {
   "cell_type": "markdown",
   "id": "d9a4f2b3",
   "metadata": {},
   "source": [
    "# Analyse"
   ]
  },
  {
   "cell_type": "code",
   "execution_count": 18,
   "id": "842c98e2",
   "metadata": {},
   "outputs": [],
   "source": [
    "def PreparationModel(df):\n",
    "    df[\"class\"] = df[\"class\"].replace({\"Potential Suicide post \": 1, \"Not Suicide post\": 0})\n",
    "    df[\"valder_label\"] = df[\"valder_label\"].replace({\"Negative\": 1, \"Positive\": 0, \"Neutral\": 0})\n",
    "    df[\"happy_transformer_label\"] = df[\"happy_transformer_label\"].replace({\"NEGATIVE\": 1, \"POSITIVE\": 0})\n",
    "    df[\"bert_label\"] = df[\"bert_label\"].replace({\"1\": 1, \"2\": 0, \"3\": 0, \"4\": 0, \"5\": 0})\n",
    "    df[\"suicidal_bert_label\"] = df[\"suicidal_bert_label\"].replace({\"LABEL_1\": 1, \"LABEL_0\": 0})\n",
    "    return df"
   ]
  },
  {
   "cell_type": "code",
   "execution_count": 19,
   "id": "588375b4",
   "metadata": {},
   "outputs": [
    {
     "name": "stdout",
     "output_type": "stream",
     "text": [
      "Réalisation de la fonction keyword_analyse en cours ....\n",
      "Réalisation de la fonction sentiment_vader en cours ....\n",
      "Réalisation de la fonction sentiment_texblob en cours ....\n",
      "Réalisation de la fonction sentiment_happy_transformer en cours ....\n",
      "Réalisation de la fonction sentiment_bert en cours ....\n",
      "Réalisation de la fonction sentiment_suicidal_bert en cours ....\n"
     ]
    },
    {
     "data": {
      "text/html": [
       "<div>\n",
       "<style scoped>\n",
       "    .dataframe tbody tr th:only-of-type {\n",
       "        vertical-align: middle;\n",
       "    }\n",
       "\n",
       "    .dataframe tbody tr th {\n",
       "        vertical-align: top;\n",
       "    }\n",
       "\n",
       "    .dataframe thead th {\n",
       "        text-align: right;\n",
       "    }\n",
       "</style>\n",
       "<table border=\"1\" class=\"dataframe\">\n",
       "  <thead>\n",
       "    <tr style=\"text-align: right;\">\n",
       "      <th></th>\n",
       "      <th>text</th>\n",
       "      <th>class</th>\n",
       "      <th>valder_label</th>\n",
       "      <th>textbloc_polarity_label</th>\n",
       "      <th>textbloc_subjectivity_label</th>\n",
       "      <th>happy_transformer_label</th>\n",
       "      <th>bert_label</th>\n",
       "      <th>suicidal_bert_label</th>\n",
       "    </tr>\n",
       "  </thead>\n",
       "  <tbody>\n",
       "    <tr>\n",
       "      <th>0</th>\n",
       "      <td>i hate myself so much i want to KILL myself ho...</td>\n",
       "      <td>1</td>\n",
       "      <td>1</td>\n",
       "      <td>-0.300000</td>\n",
       "      <td>0.550000</td>\n",
       "      <td>1</td>\n",
       "      <td>1</td>\n",
       "      <td>0</td>\n",
       "    </tr>\n",
       "    <tr>\n",
       "      <th>1</th>\n",
       "      <td>RT  I woke up with a bag over my head after I ...</td>\n",
       "      <td>1</td>\n",
       "      <td>0</td>\n",
       "      <td>-0.166667</td>\n",
       "      <td>0.166667</td>\n",
       "      <td>1</td>\n",
       "      <td>1</td>\n",
       "      <td>1</td>\n",
       "    </tr>\n",
       "    <tr>\n",
       "      <th>2</th>\n",
       "      <td>i wanna fucking kill myself</td>\n",
       "      <td>1</td>\n",
       "      <td>1</td>\n",
       "      <td>-0.600000</td>\n",
       "      <td>0.800000</td>\n",
       "      <td>1</td>\n",
       "      <td>1</td>\n",
       "      <td>0</td>\n",
       "    </tr>\n",
       "    <tr>\n",
       "      <th>3</th>\n",
       "      <td>why do i destroy all my opportunities  am i go...</td>\n",
       "      <td>1</td>\n",
       "      <td>1</td>\n",
       "      <td>-0.228125</td>\n",
       "      <td>0.571875</td>\n",
       "      <td>1</td>\n",
       "      <td>1</td>\n",
       "      <td>0</td>\n",
       "    </tr>\n",
       "    <tr>\n",
       "      <th>4</th>\n",
       "      <td>u   understand what the fuck im doing wrong wi...</td>\n",
       "      <td>1</td>\n",
       "      <td>1</td>\n",
       "      <td>-0.450000</td>\n",
       "      <td>0.750000</td>\n",
       "      <td>1</td>\n",
       "      <td>1</td>\n",
       "      <td>0</td>\n",
       "    </tr>\n",
       "  </tbody>\n",
       "</table>\n",
       "</div>"
      ],
      "text/plain": [
       "                                                text  class  valder_label  \\\n",
       "0  i hate myself so much i want to KILL myself ho...      1             1   \n",
       "1  RT  I woke up with a bag over my head after I ...      1             0   \n",
       "2                        i wanna fucking kill myself      1             1   \n",
       "3  why do i destroy all my opportunities  am i go...      1             1   \n",
       "4  u   understand what the fuck im doing wrong wi...      1             1   \n",
       "\n",
       "   textbloc_polarity_label  textbloc_subjectivity_label  \\\n",
       "0                -0.300000                     0.550000   \n",
       "1                -0.166667                     0.166667   \n",
       "2                -0.600000                     0.800000   \n",
       "3                -0.228125                     0.571875   \n",
       "4                -0.450000                     0.750000   \n",
       "\n",
       "   happy_transformer_label  bert_label  suicidal_bert_label  \n",
       "0                        1           1                    0  \n",
       "1                        1           1                    1  \n",
       "2                        1           1                    0  \n",
       "3                        1           1                    0  \n",
       "4                        1           1                    0  "
      ]
     },
     "execution_count": 19,
     "metadata": {},
     "output_type": "execute_result"
    }
   ],
   "source": [
    "df = AddAllModelToDF(df)\n",
    "df = PreparationModel(df)\n",
    "df.head()"
   ]
  },
  {
   "cell_type": "code",
   "execution_count": 20,
   "id": "5b7f067e",
   "metadata": {},
   "outputs": [
    {
     "data": {
      "image/png": "[encoded data removed]",
      "text/plain": [
       "<Figure size 2000x2000 with 2 Axes>"
      ]
     },
     "metadata": {},
     "output_type": "display_data"
    }
   ],
   "source": [
    "# Nous allons nous concentrez uniquement sur la caractéristique cible\n",
    "plt.figure(figsize=(20,20))\n",
    "heatmap = sn.heatmap(df.corr()[['class']].sort_values(by='class', ascending=False), vmin=-0.5, vmax=1, annot=True, cmap='Blues')\n",
    "heatmap.set_title('Correlation du résultats avec les autres features', pad=16, fontdict={'family': 'serif','size': 20});"
   ]
  },
  {
   "cell_type": "code",
   "execution_count": 21,
   "id": "63e9657d",
   "metadata": {},
   "outputs": [],
   "source": [
    "#df.to_csv(r'C:\\Users\\owen9\\OneDrive\\Documents\\GitHub\\TwitterFeelingAnalyse\\Dataset\\Resultats_Owen.csv', sep=';', index=False)\n",
    "df.to_csv('./Suicide_Detection_Tweeter_Final.csv', index=False, sep=';')\n",
    "#df.to_csv('./Suicide_Detection_Reddit_Final.csv', index=False, sep=';')"
   ]
  },
  {
   "cell_type": "markdown",
   "id": "33f6f374",
   "metadata": {},
   "source": [
    "# Prediction"
   ]
  },
  {
   "cell_type": "code",
   "execution_count": 22,
   "id": "7f03334b",
   "metadata": {},
   "outputs": [],
   "source": [
    "df = pd.read_csv('./Suicide_Detection_Tweeter_Final.csv',sep=';')\n",
    "# df = pd.read_csv('./Suicide_Detection_Reddit_Final.csv')"
   ]
  },
  {
   "cell_type": "code",
   "execution_count": 24,
   "id": "1746497d",
   "metadata": {},
   "outputs": [],
   "source": [
    "def TauxBonneReponse(df):\n",
    "    # Sélection des lignes où la colonne \"class\" contient la valeur 1\n",
    "    selected_true_positive = df.loc[df['class'] == 1]\n",
    "    return [selected_true_positive.shape[0], df.shape[0], round(selected_true_positive.shape[0] / df.shape[0], 2)]"
   ]
  },
  {
   "cell_type": "code",
   "execution_count": 25,
   "id": "be3bef5e",
   "metadata": {},
   "outputs": [],
   "source": [
    "# Genere un dataframe ou stock le meilleur modele pour chaque méthode\n",
    "ResultDf = pd.DataFrame()\n",
    "def StockResultDf(name, df):\n",
    "    global ResultDf\n",
    "    tab = TauxBonneReponse(df)\n",
    "    listValue = {'Methode Name': name, 'Nombre de bonne reponse': tab[0], 'Nombre de réponse totale': tab[1] , 'Taux de bonne réponse (%)': tab[2]}\n",
    "    ResultDf = ResultDf.append(listValue,ignore_index=True)"
   ]
  },
  {
   "cell_type": "code",
   "execution_count": 26,
   "id": "f198a463",
   "metadata": {},
   "outputs": [
    {
     "data": {
      "text/html": [
       "<div>\n",
       "<style scoped>\n",
       "    .dataframe tbody tr th:only-of-type {\n",
       "        vertical-align: middle;\n",
       "    }\n",
       "\n",
       "    .dataframe tbody tr th {\n",
       "        vertical-align: top;\n",
       "    }\n",
       "\n",
       "    .dataframe thead th {\n",
       "        text-align: right;\n",
       "    }\n",
       "</style>\n",
       "<table border=\"1\" class=\"dataframe\">\n",
       "  <thead>\n",
       "    <tr style=\"text-align: right;\">\n",
       "      <th></th>\n",
       "      <th>Methode Name</th>\n",
       "      <th>Nombre de bonne reponse</th>\n",
       "      <th>Nombre de réponse totale</th>\n",
       "      <th>Taux de bonne réponse (%)</th>\n",
       "    </tr>\n",
       "  </thead>\n",
       "  <tbody>\n",
       "    <tr>\n",
       "      <th>0</th>\n",
       "      <td>Naif</td>\n",
       "      <td>560</td>\n",
       "      <td>1599</td>\n",
       "      <td>0.35</td>\n",
       "    </tr>\n",
       "    <tr>\n",
       "      <th>1</th>\n",
       "      <td>Model 1</td>\n",
       "      <td>35</td>\n",
       "      <td>50</td>\n",
       "      <td>0.70</td>\n",
       "    </tr>\n",
       "    <tr>\n",
       "      <th>2</th>\n",
       "      <td>Model 2</td>\n",
       "      <td>374</td>\n",
       "      <td>416</td>\n",
       "      <td>0.90</td>\n",
       "    </tr>\n",
       "  </tbody>\n",
       "</table>\n",
       "</div>"
      ],
      "text/plain": [
       "  Methode Name  Nombre de bonne reponse  Nombre de réponse totale  \\\n",
       "0         Naif                      560                      1599   \n",
       "1      Model 1                       35                        50   \n",
       "2      Model 2                      374                       416   \n",
       "\n",
       "   Taux de bonne réponse (%)  \n",
       "0                       0.35  \n",
       "1                       0.70  \n",
       "2                       0.90  "
      ]
     },
     "execution_count": 26,
     "metadata": {},
     "output_type": "execute_result"
    }
   ],
   "source": [
    "def SelectionTweetSuicidaire(df):\n",
    "    #Methode Naif\n",
    "    StockResultDf(\"Naif\", df)\n",
    "    \n",
    "    #Methode 1\n",
    "    # On ne garde que suicidal bert\n",
    "    df1 = df[df['suicidal_bert_label'] == 1]\n",
    "    StockResultDf(\"Model 1\", df1)\n",
    "    \n",
    "    #Methode 2\n",
    "    # Sélection des lignes où au moins 3 des colonnes ont la valeur 1\n",
    "    df2 = df[(df[['valder_label', 'happy_transformer_label', 'bert_label', 'suicidal_bert_label']].sum(axis=1) >= 3)]\n",
    "    StockResultDf(\"Model 2\", df2)\n",
    "    \n",
    "#On execute puis on affiche le resultat\n",
    "SelectionTweetSuicidaire(df.copy())\n",
    "ResultDf"
   ]
  },
  {
   "cell_type": "markdown",
   "id": "37d83429",
   "metadata": {},
   "source": [
    "# Matrice de confusion"
   ]
  },
  {
   "cell_type": "code",
   "execution_count": 32,
   "id": "927dcd10",
   "metadata": {},
   "outputs": [
    {
     "data": {
      "text/html": [
       "<div>\n",
       "<style scoped>\n",
       "    .dataframe tbody tr th:only-of-type {\n",
       "        vertical-align: middle;\n",
       "    }\n",
       "\n",
       "    .dataframe tbody tr th {\n",
       "        vertical-align: top;\n",
       "    }\n",
       "\n",
       "    .dataframe thead th {\n",
       "        text-align: right;\n",
       "    }\n",
       "</style>\n",
       "<table border=\"1\" class=\"dataframe\">\n",
       "  <thead>\n",
       "    <tr style=\"text-align: right;\">\n",
       "      <th></th>\n",
       "      <th>text</th>\n",
       "      <th>class</th>\n",
       "      <th>valder_label</th>\n",
       "      <th>textbloc_polarity_label</th>\n",
       "      <th>textbloc_subjectivity_label</th>\n",
       "      <th>happy_transformer_label</th>\n",
       "      <th>bert_label</th>\n",
       "      <th>suicidal_bert_label</th>\n",
       "    </tr>\n",
       "  </thead>\n",
       "  <tbody>\n",
       "    <tr>\n",
       "      <th>0</th>\n",
       "      <td>i hate myself so much i want to KILL myself ho...</td>\n",
       "      <td>1</td>\n",
       "      <td>1</td>\n",
       "      <td>-0.300000</td>\n",
       "      <td>0.550000</td>\n",
       "      <td>1</td>\n",
       "      <td>1</td>\n",
       "      <td>0</td>\n",
       "    </tr>\n",
       "    <tr>\n",
       "      <th>1</th>\n",
       "      <td>RT  I woke up with a bag over my head after I ...</td>\n",
       "      <td>1</td>\n",
       "      <td>0</td>\n",
       "      <td>-0.166667</td>\n",
       "      <td>0.166667</td>\n",
       "      <td>1</td>\n",
       "      <td>1</td>\n",
       "      <td>1</td>\n",
       "    </tr>\n",
       "    <tr>\n",
       "      <th>2</th>\n",
       "      <td>i wanna fucking kill myself</td>\n",
       "      <td>1</td>\n",
       "      <td>1</td>\n",
       "      <td>-0.600000</td>\n",
       "      <td>0.800000</td>\n",
       "      <td>1</td>\n",
       "      <td>1</td>\n",
       "      <td>0</td>\n",
       "    </tr>\n",
       "    <tr>\n",
       "      <th>3</th>\n",
       "      <td>why do i destroy all my opportunities  am i go...</td>\n",
       "      <td>1</td>\n",
       "      <td>1</td>\n",
       "      <td>-0.228125</td>\n",
       "      <td>0.571875</td>\n",
       "      <td>1</td>\n",
       "      <td>1</td>\n",
       "      <td>0</td>\n",
       "    </tr>\n",
       "    <tr>\n",
       "      <th>4</th>\n",
       "      <td>u   understand what the fuck im doing wrong wi...</td>\n",
       "      <td>1</td>\n",
       "      <td>1</td>\n",
       "      <td>-0.450000</td>\n",
       "      <td>0.750000</td>\n",
       "      <td>1</td>\n",
       "      <td>1</td>\n",
       "      <td>0</td>\n",
       "    </tr>\n",
       "  </tbody>\n",
       "</table>\n",
       "</div>"
      ],
      "text/plain": [
       "                                                text  class  valder_label  \\\n",
       "0  i hate myself so much i want to KILL myself ho...      1             1   \n",
       "1  RT  I woke up with a bag over my head after I ...      1             0   \n",
       "2                        i wanna fucking kill myself      1             1   \n",
       "3  why do i destroy all my opportunities  am i go...      1             1   \n",
       "4  u   understand what the fuck im doing wrong wi...      1             1   \n",
       "\n",
       "   textbloc_polarity_label  textbloc_subjectivity_label  \\\n",
       "0                -0.300000                     0.550000   \n",
       "1                -0.166667                     0.166667   \n",
       "2                -0.600000                     0.800000   \n",
       "3                -0.228125                     0.571875   \n",
       "4                -0.450000                     0.750000   \n",
       "\n",
       "   happy_transformer_label  bert_label  suicidal_bert_label  \n",
       "0                        1           1                    0  \n",
       "1                        1           1                    1  \n",
       "2                        1           1                    0  \n",
       "3                        1           1                    0  \n",
       "4                        1           1                    0  "
      ]
     },
     "execution_count": 32,
     "metadata": {},
     "output_type": "execute_result"
    }
   ],
   "source": [
    "df_init = pd.read_csv('./Suicide_Detection_Tweeter_Final.csv',sep=';')\n",
    "#df_init=pd.read_csv(r'C:\\Users\\owen9\\OneDrive\\Documents\\GitHub\\TwitterFeelingAnalyse\\Dataset\\Resultats_Owen.csv',sep=';')\n",
    "df=df_init.copy()\n",
    "df.head()"
   ]
  },
  {
   "cell_type": "code",
   "execution_count": 33,
   "id": "c5584ce7",
   "metadata": {},
   "outputs": [],
   "source": [
    "#Valder\n",
    "matrix_valder = confusion_matrix(y_true=df['class'], y_pred=df['valder_label'])\n",
    "matrix_valder = matrix_valder/(np.sum(matrix_valder))\n",
    "df_matrix_valder = pd.DataFrame(matrix_valder, ['negatif','positif'], ['négatif','positif'])\n",
    "\n",
    "#Happy transformer\n",
    "matrix_hf = confusion_matrix(y_true=df['class'], y_pred=df['happy_transformer_label'])\n",
    "matrix_hf = matrix_hf/(np.sum(matrix_hf))\n",
    "df_matrix_hf = pd.DataFrame(matrix_hf, ['negatif','positif'], ['négatif','positif'])\n",
    "\n",
    "#Bert\n",
    "matrix_bert = confusion_matrix(y_true=df['class'], y_pred=df['bert_label'])\n",
    "matrix_bert = matrix_bert/(np.sum(matrix_bert))\n",
    "df_matrix_bert = pd.DataFrame(matrix_bert, ['negatif','positif'], ['négatif','positif'])\n",
    "\n",
    "#Suicidal Bert\n",
    "matrix_sbert = confusion_matrix(y_true=df['class'], y_pred=df['suicidal_bert_label'])\n",
    "matrix_sbert = matrix_sbert/(np.sum(matrix_sbert))\n",
    "df_matrix_sbert = pd.DataFrame(matrix_sbert, ['negatif','positif'], ['négatif','positif'])"
   ]
  },
  {
   "cell_type": "code",
   "execution_count": 34,
   "id": "5b4b7095",
   "metadata": {},
   "outputs": [
    {
     "data": {
      "image/png": "[encoded data removed]",
      "text/plain": [
       "<Figure size 800x800 with 6 Axes>"
      ]
     },
     "metadata": {},
     "output_type": "display_data"
    }
   ],
   "source": [
    "cmap=plt.cm.Blues\n",
    "\n",
    "fig, axs = plt.subplots(2, 2 ,figsize=(8,8))\n",
    "fig.suptitle('Matrices de confusion des modèles', fontsize=16)\n",
    "\n",
    "#Valder\n",
    "g1=sn.heatmap(df_matrix_valder, cmap=cmap, annot=True, fmt='.2%', cbar=False, vmin=0.2, vmax=0.6, ax=axs[0,0])\n",
    "axs[0,0].set_title('Valder')\n",
    "g1.set_ylabel('Labels')\n",
    "\n",
    "#Happy transormer\n",
    "g2=sn.heatmap(df_matrix_hf, cmap=cmap, annot=True, fmt='.2%',cbar=False, vmin=0.2, vmax=0.6, ax=axs[1,0])\n",
    "axs[1,0].set_title('Happy transformer')\n",
    "g2.set_xlabel('Prédictions')\n",
    "g2.set_ylabel('Labels')\n",
    "\n",
    "#Bert\n",
    "g3=sn.heatmap(df_matrix_bert, cmap=cmap, annot=True, fmt='.2%', vmin=0.2, vmax=0.6, ax=axs[0,1])\n",
    "axs[0,1].set_title('Bert')\n",
    "#g2.set_xlabel('Prédictions')\n",
    "#g2.set_ylabel('Labels')\n",
    "\n",
    "#Suicidal Bert\n",
    "g4=sn.heatmap(df_matrix_sbert, cmap=cmap, annot=True, fmt='.2%', vmin=0.2, vmax=0.6, ax=axs[1,1])\n",
    "axs[1,1].set_title('Suicidal Bert')\n",
    "g4.set_xlabel('Prédictions')\n",
    "#g2.set_ylabel('Labels')\n",
    "\n",
    "fig.tight_layout()\n",
    "plt.show()\n"
   ]
  },
  {
   "cell_type": "code",
   "execution_count": null,
   "id": "aabb638e",
   "metadata": {},
   "outputs": [],
   "source": []
  }
 ],
 "metadata": {
  "kernelspec": {
   "display_name": "Python 3 (ipykernel)",
   "language": "python",
   "name": "python3"
  },
  "language_info": {
   "codemirror_mode": {
    "name": "ipython",
    "version": 3
   },
   "file_extension": ".py",
   "mimetype": "text/x-python",
   "name": "python",
   "nbconvert_exporter": "python",
   "pygments_lexer": "ipython3",
   "version": "3.9.13"
  }
 },
 "nbformat": 4,
 "nbformat_minor": 5
}
