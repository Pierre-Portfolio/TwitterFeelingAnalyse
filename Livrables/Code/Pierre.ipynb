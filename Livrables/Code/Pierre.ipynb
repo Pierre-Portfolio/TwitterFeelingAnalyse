{
 "cells": [
  {
   "cell_type": "markdown",
   "id": "f7b651ce",
   "metadata": {},
   "source": [
    "# Twitter Detection Suicide"
   ]
  },
  {
   "cell_type": "code",
   "execution_count": 21,
   "id": "76a87745",
   "metadata": {},
   "outputs": [
    {
     "name": "stdout",
     "output_type": "stream",
     "text": [
      "Requirement already satisfied: vaderSentiment in c:\\users\\petil\\anaconda3\\lib\\site-packages (3.3.2)\n",
      "Requirement already satisfied: requests in c:\\users\\petil\\anaconda3\\lib\\site-packages (from vaderSentiment) (2.28.1)\n",
      "Requirement already satisfied: certifi>=2017.4.17 in c:\\users\\petil\\appdata\\roaming\\python\\python39\\site-packages (from requests->vaderSentiment) (2022.9.24)\n",
      "Requirement already satisfied: idna<4,>=2.5 in c:\\users\\petil\\appdata\\roaming\\python\\python39\\site-packages (from requests->vaderSentiment) (2.10)\n",
      "Requirement already satisfied: urllib3<1.27,>=1.21.1 in c:\\users\\petil\\appdata\\roaming\\python\\python39\\site-packages (from requests->vaderSentiment) (1.26.12)\n",
      "Requirement already satisfied: charset-normalizer<3,>=2 in c:\\users\\petil\\appdata\\roaming\\python\\python39\\site-packages (from requests->vaderSentiment) (2.1.1)\n",
      "Requirement already satisfied: textblob in c:\\users\\petil\\anaconda3\\lib\\site-packages (0.17.1)\n",
      "Requirement already satisfied: nltk>=3.1 in c:\\users\\petil\\anaconda3\\lib\\site-packages (from textblob) (3.7)\n",
      "Requirement already satisfied: click in c:\\users\\petil\\appdata\\roaming\\python\\python39\\site-packages (from nltk>=3.1->textblob) (7.1.2)\n",
      "Requirement already satisfied: tqdm in c:\\users\\petil\\anaconda3\\lib\\site-packages (from nltk>=3.1->textblob) (4.64.1)\n",
      "Requirement already satisfied: regex>=2021.8.3 in c:\\users\\petil\\appdata\\roaming\\python\\python39\\site-packages (from nltk>=3.1->textblob) (2021.9.30)\n",
      "Requirement already satisfied: joblib in c:\\users\\petil\\anaconda3\\lib\\site-packages (from nltk>=3.1->textblob) (1.1.0)\n",
      "Requirement already satisfied: colorama in c:\\users\\petil\\anaconda3\\lib\\site-packages (from tqdm->nltk>=3.1->textblob) (0.4.5)\n",
      "Requirement already satisfied: happytransformer in c:\\users\\petil\\anaconda3\\lib\\site-packages (2.4.1)\n",
      "Requirement already satisfied: tqdm>=4.43 in c:\\users\\petil\\anaconda3\\lib\\site-packages (from happytransformer) (4.64.1)\n",
      "Requirement already satisfied: protobuf in c:\\users\\petil\\appdata\\roaming\\python\\python39\\site-packages (from happytransformer) (3.19.6)\n",
      "Requirement already satisfied: torch>=1.0 in c:\\users\\petil\\anaconda3\\lib\\site-packages (from happytransformer) (1.13.1)\n",
      "Requirement already satisfied: datasets>=1.6.0 in c:\\users\\petil\\anaconda3\\lib\\site-packages (from happytransformer) (2.8.0)\n",
      "Requirement already satisfied: transformers>=4.4.0 in c:\\users\\petil\\anaconda3\\lib\\site-packages (from happytransformer) (4.24.0)\n",
      "Requirement already satisfied: sentencepiece in c:\\users\\petil\\anaconda3\\lib\\site-packages (from happytransformer) (0.1.97)\n",
      "Requirement already satisfied: numpy>=1.17 in c:\\users\\petil\\appdata\\roaming\\python\\python39\\site-packages (from datasets>=1.6.0->happytransformer) (1.23.4)\n",
      "Requirement already satisfied: packaging in c:\\users\\petil\\appdata\\roaming\\python\\python39\\site-packages (from datasets>=1.6.0->happytransformer) (21.3)\n",
      "Requirement already satisfied: dill<0.3.7 in c:\\users\\petil\\anaconda3\\lib\\site-packages (from datasets>=1.6.0->happytransformer) (0.3.6)\n",
      "Requirement already satisfied: xxhash in c:\\users\\petil\\anaconda3\\lib\\site-packages (from datasets>=1.6.0->happytransformer) (3.2.0)\n",
      "Requirement already satisfied: pyarrow>=6.0.0 in c:\\users\\petil\\anaconda3\\lib\\site-packages (from datasets>=1.6.0->happytransformer) (10.0.1)\n",
      "Requirement already satisfied: pandas in c:\\users\\petil\\anaconda3\\lib\\site-packages (from datasets>=1.6.0->happytransformer) (1.4.4)\n",
      "Requirement already satisfied: fsspec[http]>=2021.11.1 in c:\\users\\petil\\anaconda3\\lib\\site-packages (from datasets>=1.6.0->happytransformer) (2022.7.1)\n",
      "Requirement already satisfied: pyyaml>=5.1 in c:\\users\\petil\\appdata\\roaming\\python\\python39\\site-packages (from datasets>=1.6.0->happytransformer) (5.4.1)\n",
      "Requirement already satisfied: aiohttp in c:\\users\\petil\\anaconda3\\lib\\site-packages (from datasets>=1.6.0->happytransformer) (3.8.3)\n",
      "Requirement already satisfied: huggingface-hub<1.0.0,>=0.2.0 in c:\\users\\petil\\anaconda3\\lib\\site-packages (from datasets>=1.6.0->happytransformer) (0.11.0)\n",
      "Requirement already satisfied: requests>=2.19.0 in c:\\users\\petil\\anaconda3\\lib\\site-packages (from datasets>=1.6.0->happytransformer) (2.28.1)\n",
      "Requirement already satisfied: responses<0.19 in c:\\users\\petil\\anaconda3\\lib\\site-packages (from datasets>=1.6.0->happytransformer) (0.18.0)\n",
      "Requirement already satisfied: multiprocess in c:\\users\\petil\\anaconda3\\lib\\site-packages (from datasets>=1.6.0->happytransformer) (0.70.14)\n",
      "Requirement already satisfied: typing-extensions in c:\\users\\petil\\appdata\\roaming\\python\\python39\\site-packages (from torch>=1.0->happytransformer) (3.10.0.0)\n",
      "Requirement already satisfied: colorama in c:\\users\\petil\\anaconda3\\lib\\site-packages (from tqdm>=4.43->happytransformer) (0.4.5)\n",
      "Requirement already satisfied: tokenizers!=0.11.3,<0.14,>=0.11.1 in c:\\users\\petil\\anaconda3\\lib\\site-packages (from transformers>=4.4.0->happytransformer) (0.13.2)\n",
      "Requirement already satisfied: filelock in c:\\users\\petil\\anaconda3\\lib\\site-packages (from transformers>=4.4.0->happytransformer) (3.6.0)\n",
      "Requirement already satisfied: regex!=2019.12.17 in c:\\users\\petil\\appdata\\roaming\\python\\python39\\site-packages (from transformers>=4.4.0->happytransformer) (2021.9.30)\n",
      "Requirement already satisfied: pyparsing!=3.0.5,>=2.0.2 in c:\\users\\petil\\appdata\\roaming\\python\\python39\\site-packages (from packaging->datasets>=1.6.0->happytransformer) (3.0.9)\n",
      "Requirement already satisfied: idna<4,>=2.5 in c:\\users\\petil\\appdata\\roaming\\python\\python39\\site-packages (from requests>=2.19.0->datasets>=1.6.0->happytransformer) (2.10)\n",
      "Requirement already satisfied: certifi>=2017.4.17 in c:\\users\\petil\\appdata\\roaming\\python\\python39\\site-packages (from requests>=2.19.0->datasets>=1.6.0->happytransformer) (2022.9.24)\n",
      "Requirement already satisfied: charset-normalizer<3,>=2 in c:\\users\\petil\\appdata\\roaming\\python\\python39\\site-packages (from requests>=2.19.0->datasets>=1.6.0->happytransformer) (2.1.1)\n",
      "Requirement already satisfied: urllib3<1.27,>=1.21.1 in c:\\users\\petil\\appdata\\roaming\\python\\python39\\site-packages (from requests>=2.19.0->datasets>=1.6.0->happytransformer) (1.26.12)\n",
      "Requirement already satisfied: aiosignal>=1.1.2 in c:\\users\\petil\\anaconda3\\lib\\site-packages (from aiohttp->datasets>=1.6.0->happytransformer) (1.3.1)\n",
      "Requirement already satisfied: yarl<2.0,>=1.0 in c:\\users\\petil\\anaconda3\\lib\\site-packages (from aiohttp->datasets>=1.6.0->happytransformer) (1.8.2)\n",
      "Requirement already satisfied: multidict<7.0,>=4.5 in c:\\users\\petil\\anaconda3\\lib\\site-packages (from aiohttp->datasets>=1.6.0->happytransformer) (6.0.4)\n",
      "Requirement already satisfied: attrs>=17.3.0 in c:\\users\\petil\\anaconda3\\lib\\site-packages (from aiohttp->datasets>=1.6.0->happytransformer) (21.4.0)\n",
      "Requirement already satisfied: frozenlist>=1.1.1 in c:\\users\\petil\\anaconda3\\lib\\site-packages (from aiohttp->datasets>=1.6.0->happytransformer) (1.3.3)\n",
      "Requirement already satisfied: async-timeout<5.0,>=4.0.0a3 in c:\\users\\petil\\anaconda3\\lib\\site-packages (from aiohttp->datasets>=1.6.0->happytransformer) (4.0.2)\n",
      "Requirement already satisfied: python-dateutil>=2.8.1 in c:\\users\\petil\\anaconda3\\lib\\site-packages (from pandas->datasets>=1.6.0->happytransformer) (2.8.2)\n",
      "Requirement already satisfied: pytz>=2020.1 in c:\\users\\petil\\anaconda3\\lib\\site-packages (from pandas->datasets>=1.6.0->happytransformer) (2022.1)\n",
      "Requirement already satisfied: six>=1.5 in c:\\users\\petil\\appdata\\roaming\\python\\python39\\site-packages (from python-dateutil>=2.8.1->pandas->datasets>=1.6.0->happytransformer) (1.16.0)\n",
      "Requirement already satisfied: transformers in c:\\users\\petil\\anaconda3\\lib\\site-packages (4.24.0)\n",
      "Requirement already satisfied: filelock in c:\\users\\petil\\anaconda3\\lib\\site-packages (from transformers) (3.6.0)\n",
      "Requirement already satisfied: requests in c:\\users\\petil\\anaconda3\\lib\\site-packages (from transformers) (2.28.1)\n",
      "Requirement already satisfied: regex!=2019.12.17 in c:\\users\\petil\\appdata\\roaming\\python\\python39\\site-packages (from transformers) (2021.9.30)\n",
      "Requirement already satisfied: tokenizers!=0.11.3,<0.14,>=0.11.1 in c:\\users\\petil\\anaconda3\\lib\\site-packages (from transformers) (0.13.2)\n",
      "Requirement already satisfied: pyyaml>=5.1 in c:\\users\\petil\\appdata\\roaming\\python\\python39\\site-packages (from transformers) (5.4.1)\n",
      "Requirement already satisfied: tqdm>=4.27 in c:\\users\\petil\\anaconda3\\lib\\site-packages (from transformers) (4.64.1)\n",
      "Requirement already satisfied: huggingface-hub<1.0,>=0.10.0 in c:\\users\\petil\\anaconda3\\lib\\site-packages (from transformers) (0.11.0)\n",
      "Requirement already satisfied: packaging>=20.0 in c:\\users\\petil\\appdata\\roaming\\python\\python39\\site-packages (from transformers) (21.3)\n",
      "Requirement already satisfied: numpy>=1.17 in c:\\users\\petil\\appdata\\roaming\\python\\python39\\site-packages (from transformers) (1.23.4)\n",
      "Requirement already satisfied: typing-extensions>=3.7.4.3 in c:\\users\\petil\\appdata\\roaming\\python\\python39\\site-packages (from huggingface-hub<1.0,>=0.10.0->transformers) (3.10.0.0)\n",
      "Requirement already satisfied: pyparsing!=3.0.5,>=2.0.2 in c:\\users\\petil\\appdata\\roaming\\python\\python39\\site-packages (from packaging>=20.0->transformers) (3.0.9)\n",
      "Requirement already satisfied: colorama in c:\\users\\petil\\anaconda3\\lib\\site-packages (from tqdm>=4.27->transformers) (0.4.5)\n",
      "Requirement already satisfied: certifi>=2017.4.17 in c:\\users\\petil\\appdata\\roaming\\python\\python39\\site-packages (from requests->transformers) (2022.9.24)\n",
      "Requirement already satisfied: idna<4,>=2.5 in c:\\users\\petil\\appdata\\roaming\\python\\python39\\site-packages (from requests->transformers) (2.10)\n",
      "Requirement already satisfied: urllib3<1.27,>=1.21.1 in c:\\users\\petil\\appdata\\roaming\\python\\python39\\site-packages (from requests->transformers) (1.26.12)\n",
      "Requirement already satisfied: charset-normalizer<3,>=2 in c:\\users\\petil\\appdata\\roaming\\python\\python39\\site-packages (from requests->transformers) (2.1.1)\n"
     ]
    }
   ],
   "source": [
    "# Librairies to install\n",
    "!pip install vaderSentiment\n",
    "!pip install textblob\n",
    "!pip install happytransformer\n",
    "!pip install transformers"
   ]
  },
  {
   "cell_type": "code",
   "execution_count": 14,
   "id": "a3f87b17",
   "metadata": {},
   "outputs": [],
   "source": [
    "# Important librairy\n",
    "import pandas as pd\n",
    "import numpy as np\n",
    "import nltk\n",
    "import os\n",
    "import re\n",
    "import warnings\n",
    "warnings.filterwarnings('ignore')\n",
    "\n",
    "# For Modele\n",
    "from nltk.tag import UnigramTagger\n",
    "from nltk.corpus import treebank\n",
    "from nltk.tokenize import word_tokenize\n",
    "from nltk.corpus import sentiwordnet as swn\n",
    "from vaderSentiment.vaderSentiment import SentimentIntensityAnalyzer\n",
    "from textblob import TextBlob\n",
    "from happytransformer import HappyTextClassification\n",
    "from transformers import AutoModel, AutoTokenizer\n",
    "from transformers import pipeline\n",
    "\n",
    "# Analyse des données\n",
    "import seaborn as sns\n",
    "from matplotlib import pyplot as plt"
   ]
  },
  {
   "cell_type": "code",
   "execution_count": 43,
   "id": "bf8ed014",
   "metadata": {},
   "outputs": [
    {
     "data": {
      "text/html": [
       "<div>\n",
       "<style scoped>\n",
       "    .dataframe tbody tr th:only-of-type {\n",
       "        vertical-align: middle;\n",
       "    }\n",
       "\n",
       "    .dataframe tbody tr th {\n",
       "        vertical-align: top;\n",
       "    }\n",
       "\n",
       "    .dataframe thead th {\n",
       "        text-align: right;\n",
       "    }\n",
       "</style>\n",
       "<table border=\"1\" class=\"dataframe\">\n",
       "  <thead>\n",
       "    <tr style=\"text-align: right;\">\n",
       "      <th></th>\n",
       "      <th>text</th>\n",
       "      <th>class</th>\n",
       "    </tr>\n",
       "  </thead>\n",
       "  <tbody>\n",
       "    <tr>\n",
       "      <th>0</th>\n",
       "      <td>i hate myself so much i want to KILL myself ho...</td>\n",
       "      <td>Potential Suicide post</td>\n",
       "    </tr>\n",
       "    <tr>\n",
       "      <th>1</th>\n",
       "      <td>RT @DrugForumsBest: I woke up with a bag over ...</td>\n",
       "      <td>Potential Suicide post</td>\n",
       "    </tr>\n",
       "    <tr>\n",
       "      <th>2</th>\n",
       "      <td>i wanna fucking kill myself</td>\n",
       "      <td>Potential Suicide post</td>\n",
       "    </tr>\n",
       "    <tr>\n",
       "      <th>3</th>\n",
       "      <td>why do i destroy all my opportunities? am i go...</td>\n",
       "      <td>Potential Suicide post</td>\n",
       "    </tr>\n",
       "    <tr>\n",
       "      <th>4</th>\n",
       "      <td>u - understand what the fuck im doing wrong wi...</td>\n",
       "      <td>Potential Suicide post</td>\n",
       "    </tr>\n",
       "    <tr>\n",
       "      <th>5</th>\n",
       "      <td>Wait I take this back, I fucking hate living i...</td>\n",
       "      <td>Potential Suicide post</td>\n",
       "    </tr>\n",
       "    <tr>\n",
       "      <th>6</th>\n",
       "      <td>Bitch I'm gonna kill myself what the fuck</td>\n",
       "      <td>Potential Suicide post</td>\n",
       "    </tr>\n",
       "    <tr>\n",
       "      <th>7</th>\n",
       "      <td>goodnight i really want to fucking kill myself</td>\n",
       "      <td>Potential Suicide post</td>\n",
       "    </tr>\n",
       "    <tr>\n",
       "      <th>8</th>\n",
       "      <td>I wanna kill myself like not literally but men...</td>\n",
       "      <td>Potential Suicide post</td>\n",
       "    </tr>\n",
       "    <tr>\n",
       "      <th>9</th>\n",
       "      <td>its crazy cause i shut myself out on two ppl i...</td>\n",
       "      <td>Potential Suicide post</td>\n",
       "    </tr>\n",
       "  </tbody>\n",
       "</table>\n",
       "</div>"
      ],
      "text/plain": [
       "                                                text                    class\n",
       "0  i hate myself so much i want to KILL myself ho...  Potential Suicide post \n",
       "1  RT @DrugForumsBest: I woke up with a bag over ...  Potential Suicide post \n",
       "2                        i wanna fucking kill myself  Potential Suicide post \n",
       "3  why do i destroy all my opportunities? am i go...  Potential Suicide post \n",
       "4  u - understand what the fuck im doing wrong wi...  Potential Suicide post \n",
       "5  Wait I take this back, I fucking hate living i...  Potential Suicide post \n",
       "6          Bitch I'm gonna kill myself what the fuck  Potential Suicide post \n",
       "7     goodnight i really want to fucking kill myself  Potential Suicide post \n",
       "8  I wanna kill myself like not literally but men...  Potential Suicide post \n",
       "9  its crazy cause i shut myself out on two ppl i...  Potential Suicide post "
      ]
     },
     "execution_count": 43,
     "metadata": {},
     "output_type": "execute_result"
    }
   ],
   "source": [
    "# On charge les deux dataset de test et de train\n",
    "# df = pd.read_csv('./Suicide_Detection_Reddit2.csv')\n",
    "#df = pd.read_csv('./Suicide_Detection_Tweeter.csv')\n",
    "df = pd.read_csv(r'C:\\Users\\owen9\\OneDrive\\Documents\\GitHub\\TwitterFeelingAnalyse\\Dataset\\Suicide_Detection_Tweeter.csv')\n",
    "df = df.rename(columns={\n",
    "    \"Tweet\": \"text\",\n",
    "    \"Suicide\": \"class\"\n",
    "})\n",
    "df[\"text\"] = df[\"text\"].astype(str)\n",
    "df[\"class\"] = df[\"class\"].astype(str)\n",
    "df.head(10)"
   ]
  },
  {
   "cell_type": "code",
   "execution_count": 75,
   "id": "dad74af6",
   "metadata": {},
   "outputs": [
    {
     "name": "stdout",
     "output_type": "stream",
     "text": [
      "Nombre de ligne : 1599\n",
      "Nombre de colonne : 6\n"
     ]
    }
   ],
   "source": [
    "# On affiche la dimension du dataset\n",
    "print('Nombre de ligne : ' +  str(df.shape[0]))\n",
    "print('Nombre de colonne : ' + str(df.shape[1]))"
   ]
  },
  {
   "cell_type": "markdown",
   "id": "923cbd37",
   "metadata": {},
   "source": [
    "# Cleaning"
   ]
  },
  {
   "cell_type": "code",
   "execution_count": 45,
   "id": "20c4d862",
   "metadata": {},
   "outputs": [],
   "source": [
    "def Cleaning(Text):\n",
    "    #supprimer les identifiactions avec les @\n",
    "    L=[]#liste des mots à enlever\n",
    "    for i in range(len(Text)):\n",
    "        if Text[i]=='@':            \n",
    "            s=''\n",
    "            for j in Text[i:]:\n",
    "                if j != ' ':\n",
    "                    s+=j\n",
    "                else:\n",
    "                    break            \n",
    "            L.append(s)\n",
    "    #suppression de tous les mots\n",
    "    for word in L:\n",
    "        Text=Text.replace(word,'')\n",
    "    \n",
    "    #On garde que les caractères alphanumériques\n",
    "    Text=re.sub(r'((?![a-z]|[A-Z]|\\d).)',' ',Text)#((?!...).) => opposé\n",
    "    \n",
    "    return Text.strip() #suppression des espaces au début et à la fin"
   ]
  },
  {
   "cell_type": "code",
   "execution_count": 46,
   "id": "59f78c16",
   "metadata": {},
   "outputs": [
    {
     "data": {
      "text/html": [
       "<div>\n",
       "<style scoped>\n",
       "    .dataframe tbody tr th:only-of-type {\n",
       "        vertical-align: middle;\n",
       "    }\n",
       "\n",
       "    .dataframe tbody tr th {\n",
       "        vertical-align: top;\n",
       "    }\n",
       "\n",
       "    .dataframe thead th {\n",
       "        text-align: right;\n",
       "    }\n",
       "</style>\n",
       "<table border=\"1\" class=\"dataframe\">\n",
       "  <thead>\n",
       "    <tr style=\"text-align: right;\">\n",
       "      <th></th>\n",
       "      <th>text</th>\n",
       "      <th>class</th>\n",
       "    </tr>\n",
       "  </thead>\n",
       "  <tbody>\n",
       "    <tr>\n",
       "      <th>0</th>\n",
       "      <td>i hate myself so much i want to KILL myself ho...</td>\n",
       "      <td>Potential Suicide post</td>\n",
       "    </tr>\n",
       "    <tr>\n",
       "      <th>1</th>\n",
       "      <td>RT  I woke up with a bag over my head after I ...</td>\n",
       "      <td>Potential Suicide post</td>\n",
       "    </tr>\n",
       "    <tr>\n",
       "      <th>2</th>\n",
       "      <td>i wanna fucking kill myself</td>\n",
       "      <td>Potential Suicide post</td>\n",
       "    </tr>\n",
       "    <tr>\n",
       "      <th>3</th>\n",
       "      <td>why do i destroy all my opportunities  am i go...</td>\n",
       "      <td>Potential Suicide post</td>\n",
       "    </tr>\n",
       "    <tr>\n",
       "      <th>4</th>\n",
       "      <td>u   understand what the fuck im doing wrong wi...</td>\n",
       "      <td>Potential Suicide post</td>\n",
       "    </tr>\n",
       "    <tr>\n",
       "      <th>5</th>\n",
       "      <td>Wait I take this back  I fucking hate living i...</td>\n",
       "      <td>Potential Suicide post</td>\n",
       "    </tr>\n",
       "    <tr>\n",
       "      <th>6</th>\n",
       "      <td>Bitch I m gonna kill myself what the fuck</td>\n",
       "      <td>Potential Suicide post</td>\n",
       "    </tr>\n",
       "    <tr>\n",
       "      <th>7</th>\n",
       "      <td>goodnight i really want to fucking kill myself</td>\n",
       "      <td>Potential Suicide post</td>\n",
       "    </tr>\n",
       "    <tr>\n",
       "      <th>8</th>\n",
       "      <td>I wanna kill myself like not literally but men...</td>\n",
       "      <td>Potential Suicide post</td>\n",
       "    </tr>\n",
       "    <tr>\n",
       "      <th>9</th>\n",
       "      <td>its crazy cause i shut myself out on two ppl i...</td>\n",
       "      <td>Potential Suicide post</td>\n",
       "    </tr>\n",
       "  </tbody>\n",
       "</table>\n",
       "</div>"
      ],
      "text/plain": [
       "                                                text                    class\n",
       "0  i hate myself so much i want to KILL myself ho...  Potential Suicide post \n",
       "1  RT  I woke up with a bag over my head after I ...  Potential Suicide post \n",
       "2                        i wanna fucking kill myself  Potential Suicide post \n",
       "3  why do i destroy all my opportunities  am i go...  Potential Suicide post \n",
       "4  u   understand what the fuck im doing wrong wi...  Potential Suicide post \n",
       "5  Wait I take this back  I fucking hate living i...  Potential Suicide post \n",
       "6          Bitch I m gonna kill myself what the fuck  Potential Suicide post \n",
       "7     goodnight i really want to fucking kill myself  Potential Suicide post \n",
       "8  I wanna kill myself like not literally but men...  Potential Suicide post \n",
       "9  its crazy cause i shut myself out on two ppl i...  Potential Suicide post "
      ]
     },
     "execution_count": 46,
     "metadata": {},
     "output_type": "execute_result"
    }
   ],
   "source": [
    "df['text'] = df['text'].apply(lambda x: Cleaning(x))\n",
    "df.head(10)"
   ]
  },
  {
   "cell_type": "markdown",
   "id": "2b6da791",
   "metadata": {},
   "source": [
    "# Modeles"
   ]
  },
  {
   "cell_type": "markdown",
   "id": "ce8d5a1a",
   "metadata": {},
   "source": [
    "## Fonction Globale"
   ]
  },
  {
   "cell_type": "code",
   "execution_count": 47,
   "id": "997ddb44",
   "metadata": {},
   "outputs": [],
   "source": [
    "# Instanciez le modèle et le tokeniseur\n",
    "def Classificator(name):\n",
    "    tokenizer = AutoTokenizer.from_pretrained(name)\n",
    "    model = AutoModel.from_pretrained(name)\n",
    "    return pipeline(model=name)"
   ]
  },
  {
   "cell_type": "code",
   "execution_count": 48,
   "id": "6384bb29",
   "metadata": {},
   "outputs": [
    {
     "name": "stderr",
     "output_type": "stream",
     "text": [
      "01/20/2023 10:50:48 - INFO - happytransformer.happy_transformer -   Using model: cpu\n"
     ]
    }
   ],
   "source": [
    "# Keyword Analyse\n",
    "train_sents = treebank.tagged_sents()[:3000]\n",
    "tagger = UnigramTagger(train_sents)\n",
    "\n",
    "# Classificateur\n",
    "happy_tc = HappyTextClassification(model_type=\"DISTILBERT\", model_name=\"distilbert-base-uncased-finetuned-sst-2-english\", num_labels=2)\n",
    "#classifier_bert = Classificator(\"nlptown/bert-base-multilingual-uncased-sentiment\")\n",
    "#classifier_suicidal_bert = Classificator(\"gooohjy/suicidal-bert\")"
   ]
  },
  {
   "cell_type": "markdown",
   "id": "72a049dd",
   "metadata": {},
   "source": [
    "## !BUG! sur les modèles Bert"
   ]
  },
  {
   "cell_type": "code",
   "execution_count": 49,
   "id": "4b13d793",
   "metadata": {},
   "outputs": [],
   "source": [
    "def AddModeleIntoDataframe(df, function_modele, list_column_name):\n",
    "    df[list_column_name] = df['text'].apply(lambda x: function_modele(x))\n",
    "    return df"
   ]
  },
  {
   "cell_type": "code",
   "execution_count": 50,
   "id": "f1f6f258",
   "metadata": {},
   "outputs": [],
   "source": [
    "def AddAllModelToDF(df):\n",
    "    #cleaning du dataframe\n",
    "    df[\"text\"] = df[\"text\"].apply(lambda x: x[:500])\n",
    "    \n",
    "    print(\"Réalisation de la fonction keyword_analyse en cours ....\")\n",
    "    #df = AddModeleIntoDataframe(df, sentiment_keyword, \"keyword_label\")\n",
    "    \n",
    "    print(\"Réalisation de la fonction sentiment_vader en cours ....\")\n",
    "    df = AddModeleIntoDataframe(df, sentiment_vader, \"valder_label\")\n",
    "    \n",
    "    print(\"Réalisation de la fonction sentiment_texblob en cours ....\")\n",
    "    df = AddModeleIntoDataframe(df, sentiment_texblob_polarity, \"textbloc_polarity_label\")\n",
    "    df = AddModeleIntoDataframe(df, sentiment_texblob_subjectivity, \"textbloc_subjectivity_label\")\n",
    "    \n",
    "    print(\"Réalisation de la fonction sentiment_happy_transformer en cours ....\")\n",
    "    df = AddModeleIntoDataframe(df, sentiment_happy_transformer, \"happy_transformer_label\")\n",
    "    \n",
    "    '''\n",
    "    print(\"Réalisation de la fonction sentiment_bert en cours ....\")\n",
    "    df = AddModeleIntoDataframe(df, sentiment_bert, \"bert_label\")\n",
    "    \n",
    "    print(\"Réalisation de la fonction sentiment_suicidal_bert en cours ....\")\n",
    "    df = AddModeleIntoDataframe(df, sentiment_suicidal_bert, \"suicidal_bert_label\")\n",
    "    '''\n",
    "    \n",
    "    return df"
   ]
  },
  {
   "cell_type": "markdown",
   "id": "432a36d1",
   "metadata": {},
   "source": [
    "## KeyWord Analyse"
   ]
  },
  {
   "cell_type": "code",
   "execution_count": 51,
   "id": "65400305",
   "metadata": {},
   "outputs": [],
   "source": [
    "def sentiment_keyword(text):\n",
    "    texte=word_tokenize(text)\n",
    "    L=set()\n",
    "    tag=tagger.tag(texte)\n",
    "\n",
    "    for t in tag:\n",
    "        L.add(t[0])\n",
    "\n",
    "    pos_score=0\n",
    "    neg_score=0\n",
    "\n",
    "    for adv in L:\n",
    "        adv_senti = list(swn.senti_synsets(adv))\n",
    "        if len(adv_senti)!=0:\n",
    "            pos_score+=adv_senti[0].pos_score()\n",
    "            neg_score+=adv_senti[0].neg_score()\n",
    "    res=''\n",
    "    \n",
    "    if pos_score > neg_score:\n",
    "        res='pos'\n",
    "    elif pos_score < neg_score:\n",
    "        res='neg'\n",
    "\n",
    "    return res,pos_score,neg_score"
   ]
  },
  {
   "cell_type": "markdown",
   "id": "b6cae359",
   "metadata": {},
   "source": [
    "## Valder"
   ]
  },
  {
   "cell_type": "code",
   "execution_count": 52,
   "id": "d05b6f2f",
   "metadata": {},
   "outputs": [],
   "source": [
    "def sentiment_vader(sentence):\n",
    "    # Create a SentimentIntensityAnalyzer object.\n",
    "    sid_obj = SentimentIntensityAnalyzer()\n",
    "\n",
    "    sentiment_dict = sid_obj.polarity_scores(sentence)\n",
    "    negative = sentiment_dict['neg']\n",
    "    neutral = sentiment_dict['neu']\n",
    "    positive = sentiment_dict['pos']\n",
    "    compound = sentiment_dict['compound']\n",
    "\n",
    "    if sentiment_dict['compound'] <= - 0.05 :\n",
    "        overall_sentiment = \"Negative\"\n",
    "        \n",
    "    elif sentiment_dict['compound'] >= 0.05 :\n",
    "        overall_sentiment = \"Positive\"   \n",
    "\n",
    "    else :\n",
    "        overall_sentiment = \"Neutral\"\n",
    "  \n",
    "    return overall_sentiment"
   ]
  },
  {
   "cell_type": "markdown",
   "id": "3356f1fa",
   "metadata": {},
   "source": [
    "## TextBlob"
   ]
  },
  {
   "cell_type": "code",
   "execution_count": 53,
   "id": "64245b46",
   "metadata": {},
   "outputs": [],
   "source": [
    "def sentiment_texblob_polarity(row):\n",
    "    classifier = TextBlob(row)\n",
    "    polarity = classifier.sentiment.polarity\n",
    "    return polarity\n",
    "\n",
    "def sentiment_texblob_subjectivity(row):\n",
    "    classifier = TextBlob(row)\n",
    "    subjectivity = classifier.sentiment.subjectivity\n",
    "    return subjectivity"
   ]
  },
  {
   "cell_type": "markdown",
   "id": "c1509569",
   "metadata": {},
   "source": [
    "## Happy Transformer"
   ]
  },
  {
   "cell_type": "code",
   "execution_count": 54,
   "id": "f0ddeeb3",
   "metadata": {},
   "outputs": [],
   "source": [
    "def sentiment_happy_transformer(row):\n",
    "    result = happy_tc.classify_text(row)\n",
    "    return str(result.label)"
   ]
  },
  {
   "cell_type": "markdown",
   "id": "0811695d",
   "metadata": {},
   "source": [
    "## BERT"
   ]
  },
  {
   "cell_type": "code",
   "execution_count": 27,
   "id": "6f030b0e",
   "metadata": {},
   "outputs": [],
   "source": [
    "def sentiment_bert(row):\n",
    "    # On recupere le sentiment\n",
    "    res = classifier_bert(row)\n",
    "\n",
    "    # Ajoutez les résultats aux tableaux\n",
    "    return res[0]['label'][:1]"
   ]
  },
  {
   "cell_type": "markdown",
   "id": "ffd8d981",
   "metadata": {},
   "source": [
    "## Suicidal BERT"
   ]
  },
  {
   "cell_type": "code",
   "execution_count": 28,
   "id": "e060b133",
   "metadata": {},
   "outputs": [],
   "source": [
    "def sentiment_suicidal_bert(row):\n",
    "    # On recupere le sentiment\n",
    "    res = classifier_suicidal_bert(row)\n",
    "\n",
    "    # Ajoutez les résultats aux tableaux\n",
    "    return res[0]['label']"
   ]
  },
  {
   "cell_type": "code",
   "execution_count": 55,
   "id": "a65fe80e",
   "metadata": {},
   "outputs": [
    {
     "data": {
      "text/html": [
       "<div>\n",
       "<style scoped>\n",
       "    .dataframe tbody tr th:only-of-type {\n",
       "        vertical-align: middle;\n",
       "    }\n",
       "\n",
       "    .dataframe tbody tr th {\n",
       "        vertical-align: top;\n",
       "    }\n",
       "\n",
       "    .dataframe thead th {\n",
       "        text-align: right;\n",
       "    }\n",
       "</style>\n",
       "<table border=\"1\" class=\"dataframe\">\n",
       "  <thead>\n",
       "    <tr style=\"text-align: right;\">\n",
       "      <th></th>\n",
       "      <th>text</th>\n",
       "      <th>class</th>\n",
       "    </tr>\n",
       "  </thead>\n",
       "  <tbody>\n",
       "    <tr>\n",
       "      <th>0</th>\n",
       "      <td>i hate myself so much i want to KILL myself ho...</td>\n",
       "      <td>Potential Suicide post</td>\n",
       "    </tr>\n",
       "    <tr>\n",
       "      <th>1</th>\n",
       "      <td>RT  I woke up with a bag over my head after I ...</td>\n",
       "      <td>Potential Suicide post</td>\n",
       "    </tr>\n",
       "    <tr>\n",
       "      <th>2</th>\n",
       "      <td>i wanna fucking kill myself</td>\n",
       "      <td>Potential Suicide post</td>\n",
       "    </tr>\n",
       "    <tr>\n",
       "      <th>3</th>\n",
       "      <td>why do i destroy all my opportunities  am i go...</td>\n",
       "      <td>Potential Suicide post</td>\n",
       "    </tr>\n",
       "    <tr>\n",
       "      <th>4</th>\n",
       "      <td>u   understand what the fuck im doing wrong wi...</td>\n",
       "      <td>Potential Suicide post</td>\n",
       "    </tr>\n",
       "  </tbody>\n",
       "</table>\n",
       "</div>"
      ],
      "text/plain": [
       "                                                text                    class\n",
       "0  i hate myself so much i want to KILL myself ho...  Potential Suicide post \n",
       "1  RT  I woke up with a bag over my head after I ...  Potential Suicide post \n",
       "2                        i wanna fucking kill myself  Potential Suicide post \n",
       "3  why do i destroy all my opportunities  am i go...  Potential Suicide post \n",
       "4  u   understand what the fuck im doing wrong wi...  Potential Suicide post "
      ]
     },
     "execution_count": 55,
     "metadata": {},
     "output_type": "execute_result"
    }
   ],
   "source": [
    "df.head()"
   ]
  },
  {
   "cell_type": "markdown",
   "id": "d9a4f2b3",
   "metadata": {},
   "source": [
    "# Analyse"
   ]
  },
  {
   "cell_type": "code",
   "execution_count": 56,
   "id": "842c98e2",
   "metadata": {},
   "outputs": [],
   "source": [
    "def PreparationModel(df):\n",
    "    df[\"class\"] = df[\"class\"].replace({\"Potential Suicide post \": 1, \"Not Suicide post\": 0})\n",
    "    df[\"valder_label\"] = df[\"valder_label\"].replace({\"Negative\": 1, \"Positive\": 0, \"Neutral\": 0})\n",
    "    df[\"happy_transformer_label\"] = df[\"happy_transformer_label\"].replace({\"NEGATIVE\": 1, \"POSITIVE\": 0})\n",
    "    #df[\"bert_label\"] = df[\"bert_label\"].replace({\"1\": 1, \"2\": 0, \"3\": 0, \"4\": 0, \"5\": 0})\n",
    "    #df[\"suicidal_bert_label\"] = df[\"suicidal_bert_label\"].replace({\"LABEL_1\": 1, \"LABEL_0\": 0})\n",
    "    return df"
   ]
  },
  {
   "cell_type": "code",
   "execution_count": 57,
   "id": "588375b4",
   "metadata": {},
   "outputs": [
    {
     "name": "stdout",
     "output_type": "stream",
     "text": [
      "Réalisation de la fonction keyword_analyse en cours ....\n",
      "Réalisation de la fonction sentiment_vader en cours ....\n",
      "Réalisation de la fonction sentiment_texblob en cours ....\n",
      "Réalisation de la fonction sentiment_happy_transformer en cours ....\n"
     ]
    },
    {
     "data": {
      "text/html": [
       "<div>\n",
       "<style scoped>\n",
       "    .dataframe tbody tr th:only-of-type {\n",
       "        vertical-align: middle;\n",
       "    }\n",
       "\n",
       "    .dataframe tbody tr th {\n",
       "        vertical-align: top;\n",
       "    }\n",
       "\n",
       "    .dataframe thead th {\n",
       "        text-align: right;\n",
       "    }\n",
       "</style>\n",
       "<table border=\"1\" class=\"dataframe\">\n",
       "  <thead>\n",
       "    <tr style=\"text-align: right;\">\n",
       "      <th></th>\n",
       "      <th>text</th>\n",
       "      <th>class</th>\n",
       "      <th>valder_label</th>\n",
       "      <th>textbloc_polarity_label</th>\n",
       "      <th>textbloc_subjectivity_label</th>\n",
       "      <th>happy_transformer_label</th>\n",
       "    </tr>\n",
       "  </thead>\n",
       "  <tbody>\n",
       "    <tr>\n",
       "      <th>0</th>\n",
       "      <td>i hate myself so much i want to KILL myself ho...</td>\n",
       "      <td>1</td>\n",
       "      <td>1</td>\n",
       "      <td>-0.300000</td>\n",
       "      <td>0.550000</td>\n",
       "      <td>1</td>\n",
       "    </tr>\n",
       "    <tr>\n",
       "      <th>1</th>\n",
       "      <td>RT  I woke up with a bag over my head after I ...</td>\n",
       "      <td>1</td>\n",
       "      <td>0</td>\n",
       "      <td>-0.166667</td>\n",
       "      <td>0.166667</td>\n",
       "      <td>1</td>\n",
       "    </tr>\n",
       "    <tr>\n",
       "      <th>2</th>\n",
       "      <td>i wanna fucking kill myself</td>\n",
       "      <td>1</td>\n",
       "      <td>1</td>\n",
       "      <td>-0.600000</td>\n",
       "      <td>0.800000</td>\n",
       "      <td>1</td>\n",
       "    </tr>\n",
       "    <tr>\n",
       "      <th>3</th>\n",
       "      <td>why do i destroy all my opportunities  am i go...</td>\n",
       "      <td>1</td>\n",
       "      <td>1</td>\n",
       "      <td>-0.228125</td>\n",
       "      <td>0.571875</td>\n",
       "      <td>1</td>\n",
       "    </tr>\n",
       "    <tr>\n",
       "      <th>4</th>\n",
       "      <td>u   understand what the fuck im doing wrong wi...</td>\n",
       "      <td>1</td>\n",
       "      <td>1</td>\n",
       "      <td>-0.450000</td>\n",
       "      <td>0.750000</td>\n",
       "      <td>1</td>\n",
       "    </tr>\n",
       "  </tbody>\n",
       "</table>\n",
       "</div>"
      ],
      "text/plain": [
       "                                                text  class  valder_label  \\\n",
       "0  i hate myself so much i want to KILL myself ho...      1             1   \n",
       "1  RT  I woke up with a bag over my head after I ...      1             0   \n",
       "2                        i wanna fucking kill myself      1             1   \n",
       "3  why do i destroy all my opportunities  am i go...      1             1   \n",
       "4  u   understand what the fuck im doing wrong wi...      1             1   \n",
       "\n",
       "   textbloc_polarity_label  textbloc_subjectivity_label  \\\n",
       "0                -0.300000                     0.550000   \n",
       "1                -0.166667                     0.166667   \n",
       "2                -0.600000                     0.800000   \n",
       "3                -0.228125                     0.571875   \n",
       "4                -0.450000                     0.750000   \n",
       "\n",
       "   happy_transformer_label  \n",
       "0                        1  \n",
       "1                        1  \n",
       "2                        1  \n",
       "3                        1  \n",
       "4                        1  "
      ]
     },
     "execution_count": 57,
     "metadata": {},
     "output_type": "execute_result"
    }
   ],
   "source": [
    "df = AddAllModelToDF(df)\n",
    "df = PreparationModel(df)\n",
    "df.head()"
   ]
  },
  {
   "cell_type": "code",
   "execution_count": 54,
   "id": "5b7f067e",
   "metadata": {},
   "outputs": [
    {
     "data": {
      "image/png": "[encoded data removed]",
      "text/plain": [
       "<Figure size 2000x2000 with 2 Axes>"
      ]
     },
     "metadata": {},
     "output_type": "display_data"
    }
   ],
   "source": [
    "# Nous allons nous concentrez uniquement sur la caractéristique cible\n",
    "plt.figure(figsize=(20,20))\n",
    "heatmap = sns.heatmap(df.corr()[['class']].sort_values(by='class', ascending=False), vmin=-0.5, vmax=1, annot=True, cmap='Blues')\n",
    "heatmap.set_title('Correlation du résultats avec les autres features', pad=16, fontdict={'family': 'serif','size': 20});"
   ]
  },
  {
   "cell_type": "code",
   "execution_count": 59,
   "id": "63e9657d",
   "metadata": {},
   "outputs": [],
   "source": [
    "df.to_csv(r'C:\\Users\\owen9\\OneDrive\\Documents\\GitHub\\TwitterFeelingAnalyse\\Dataset\\Resultats_Owen.csv', sep=';', index=False)\n",
    "#df.to_csv('./Suicide_Detection_Tweeter_Final.csv', index=False)\n",
    "# df.to_csv('./Suicide_Detection_Reddit_Final.csv', index=False)"
   ]
  },
  {
   "cell_type": "markdown",
   "id": "33f6f374",
   "metadata": {},
   "source": [
    "# Prediction"
   ]
  },
  {
   "cell_type": "code",
   "execution_count": 56,
   "id": "7f03334b",
   "metadata": {},
   "outputs": [],
   "source": [
    "df = pd.read_csv('./Suicide_Detection_Tweeter_Final.csv')\n",
    "# df = pd.read_csv('./Suicide_Detection_Reddit_Final.csv')"
   ]
  },
  {
   "cell_type": "code",
   "execution_count": 57,
   "id": "1746497d",
   "metadata": {},
   "outputs": [],
   "source": [
    "def TauxBonneReponse(df):\n",
    "    # Sélection des lignes où la colonne \"class\" contient la valeur 1\n",
    "    selected_true_positive = df.loc[df['class'] == 1]\n",
    "    return [selected_true_positive.shape[0], df.shape[0], round(selected_true_positive.shape[0] / df.shape[0], 2)]"
   ]
  },
  {
   "cell_type": "code",
   "execution_count": 58,
   "id": "be3bef5e",
   "metadata": {},
   "outputs": [],
   "source": [
    "# Genere un dataframe ou stock le meilleur modele pour chaque méthode\n",
    "ResultDf = pd.DataFrame()\n",
    "def StockResultDf(name, df):\n",
    "    global ResultDf\n",
    "    tab = TauxBonneReponse(df)\n",
    "    listValue = {'Methode Name': name, 'Nombre de bonne reponse': tab[0], 'Nombre de réponse totale': tab[1] , 'Taux de bonne réponse (%)': tab[2]}\n",
    "    ResultDf = ResultDf.append(listValue,ignore_index=True)"
   ]
  },
  {
   "cell_type": "code",
   "execution_count": 59,
   "id": "f198a463",
   "metadata": {},
   "outputs": [
    {
     "data": {
      "text/html": [
       "<div>\n",
       "<style scoped>\n",
       "    .dataframe tbody tr th:only-of-type {\n",
       "        vertical-align: middle;\n",
       "    }\n",
       "\n",
       "    .dataframe tbody tr th {\n",
       "        vertical-align: top;\n",
       "    }\n",
       "\n",
       "    .dataframe thead th {\n",
       "        text-align: right;\n",
       "    }\n",
       "</style>\n",
       "<table border=\"1\" class=\"dataframe\">\n",
       "  <thead>\n",
       "    <tr style=\"text-align: right;\">\n",
       "      <th></th>\n",
       "      <th>Methode Name</th>\n",
       "      <th>Nombre de bonne reponse</th>\n",
       "      <th>Nombre de réponse totale</th>\n",
       "      <th>Taux de bonne réponse (%)</th>\n",
       "    </tr>\n",
       "  </thead>\n",
       "  <tbody>\n",
       "    <tr>\n",
       "      <th>0</th>\n",
       "      <td>Naif</td>\n",
       "      <td>560</td>\n",
       "      <td>1599</td>\n",
       "      <td>0.35</td>\n",
       "    </tr>\n",
       "    <tr>\n",
       "      <th>1</th>\n",
       "      <td>Model 1</td>\n",
       "      <td>188</td>\n",
       "      <td>254</td>\n",
       "      <td>0.74</td>\n",
       "    </tr>\n",
       "    <tr>\n",
       "      <th>2</th>\n",
       "      <td>Model 2</td>\n",
       "      <td>397</td>\n",
       "      <td>453</td>\n",
       "      <td>0.88</td>\n",
       "    </tr>\n",
       "  </tbody>\n",
       "</table>\n",
       "</div>"
      ],
      "text/plain": [
       "  Methode Name  Nombre de bonne reponse  Nombre de réponse totale  \\\n",
       "0         Naif                      560                      1599   \n",
       "1      Model 1                      188                       254   \n",
       "2      Model 2                      397                       453   \n",
       "\n",
       "   Taux de bonne réponse (%)  \n",
       "0                       0.35  \n",
       "1                       0.74  \n",
       "2                       0.88  "
      ]
     },
     "execution_count": 59,
     "metadata": {},
     "output_type": "execute_result"
    }
   ],
   "source": [
    "def SelectionTweetSuicidaire(df):\n",
    "    #Methode Naif\n",
    "    StockResultDf(\"Naif\", df)\n",
    "    \n",
    "    #Methode 1\n",
    "    # On ne garde que suicidal bert\n",
    "    df1 = df[df['suicidal_bert_label'] == 1]\n",
    "    StockResultDf(\"Model 1\", df1)\n",
    "    \n",
    "    #Methode 2\n",
    "    # Sélection des lignes où au moins 3 des colonnes ont la valeur 1\n",
    "    df2 = df[(df[['valder_label', 'happy_transformer_label', 'bert_label', 'suicidal_bert_label']].sum(axis=1) >= 3)]\n",
    "    StockResultDf(\"Model 2\", df2)\n",
    "    \n",
    "#On execute puis on affiche le resultat\n",
    "SelectionTweetSuicidaire(df.copy())\n",
    "ResultDf"
   ]
  },
  {
   "cell_type": "markdown",
   "id": "66728770",
   "metadata": {},
   "source": [
    "# Matrice de confusion"
   ]
  },
  {
   "cell_type": "code",
   "execution_count": 60,
   "id": "4dfd0c5f",
   "metadata": {},
   "outputs": [
    {
     "data": {
      "text/html": [
       "<div>\n",
       "<style scoped>\n",
       "    .dataframe tbody tr th:only-of-type {\n",
       "        vertical-align: middle;\n",
       "    }\n",
       "\n",
       "    .dataframe tbody tr th {\n",
       "        vertical-align: top;\n",
       "    }\n",
       "\n",
       "    .dataframe thead th {\n",
       "        text-align: right;\n",
       "    }\n",
       "</style>\n",
       "<table border=\"1\" class=\"dataframe\">\n",
       "  <thead>\n",
       "    <tr style=\"text-align: right;\">\n",
       "      <th></th>\n",
       "      <th>text</th>\n",
       "      <th>class</th>\n",
       "      <th>valder_label</th>\n",
       "      <th>textbloc_polarity_label</th>\n",
       "      <th>textbloc_subjectivity_label</th>\n",
       "      <th>happy_transformer_label</th>\n",
       "    </tr>\n",
       "  </thead>\n",
       "  <tbody>\n",
       "    <tr>\n",
       "      <th>0</th>\n",
       "      <td>i hate myself so much i want to KILL myself ho...</td>\n",
       "      <td>1</td>\n",
       "      <td>1</td>\n",
       "      <td>-0.300000</td>\n",
       "      <td>0.550000</td>\n",
       "      <td>1</td>\n",
       "    </tr>\n",
       "    <tr>\n",
       "      <th>1</th>\n",
       "      <td>RT  I woke up with a bag over my head after I ...</td>\n",
       "      <td>1</td>\n",
       "      <td>0</td>\n",
       "      <td>-0.166667</td>\n",
       "      <td>0.166667</td>\n",
       "      <td>1</td>\n",
       "    </tr>\n",
       "    <tr>\n",
       "      <th>2</th>\n",
       "      <td>i wanna fucking kill myself</td>\n",
       "      <td>1</td>\n",
       "      <td>1</td>\n",
       "      <td>-0.600000</td>\n",
       "      <td>0.800000</td>\n",
       "      <td>1</td>\n",
       "    </tr>\n",
       "    <tr>\n",
       "      <th>3</th>\n",
       "      <td>why do i destroy all my opportunities  am i go...</td>\n",
       "      <td>1</td>\n",
       "      <td>1</td>\n",
       "      <td>-0.228125</td>\n",
       "      <td>0.571875</td>\n",
       "      <td>1</td>\n",
       "    </tr>\n",
       "    <tr>\n",
       "      <th>4</th>\n",
       "      <td>u   understand what the fuck im doing wrong wi...</td>\n",
       "      <td>1</td>\n",
       "      <td>1</td>\n",
       "      <td>-0.450000</td>\n",
       "      <td>0.750000</td>\n",
       "      <td>1</td>\n",
       "    </tr>\n",
       "  </tbody>\n",
       "</table>\n",
       "</div>"
      ],
      "text/plain": [
       "                                                text  class  valder_label  \\\n",
       "0  i hate myself so much i want to KILL myself ho...      1             1   \n",
       "1  RT  I woke up with a bag over my head after I ...      1             0   \n",
       "2                        i wanna fucking kill myself      1             1   \n",
       "3  why do i destroy all my opportunities  am i go...      1             1   \n",
       "4  u   understand what the fuck im doing wrong wi...      1             1   \n",
       "\n",
       "   textbloc_polarity_label  textbloc_subjectivity_label  \\\n",
       "0                -0.300000                     0.550000   \n",
       "1                -0.166667                     0.166667   \n",
       "2                -0.600000                     0.800000   \n",
       "3                -0.228125                     0.571875   \n",
       "4                -0.450000                     0.750000   \n",
       "\n",
       "   happy_transformer_label  \n",
       "0                        1  \n",
       "1                        1  \n",
       "2                        1  \n",
       "3                        1  \n",
       "4                        1  "
      ]
     },
     "execution_count": 60,
     "metadata": {},
     "output_type": "execute_result"
    }
   ],
   "source": [
    "df.head()"
   ]
  },
  {
   "cell_type": "code",
   "execution_count": 87,
   "id": "b50d54aa",
   "metadata": {},
   "outputs": [
    {
     "name": "stdout",
     "output_type": "stream",
     "text": [
      "[[951  88]\n",
      " [114 446]]\n"
     ]
    }
   ],
   "source": [
    "from sklearn.metrics import confusion_matrix\n",
    "\n",
    "matrix = confusion_matrix(y_true=df['class'], y_pred=df['valder_label'])\n",
    "print(matrix)"
   ]
  },
  {
   "cell_type": "code",
   "execution_count": 108,
   "id": "2c2a5d41",
   "metadata": {},
   "outputs": [
    {
     "data": {
      "image/png": "[encoded data removed]",
      "text/plain": [
       "<Figure size 640x480 with 2 Axes>"
      ]
     },
     "metadata": {},
     "output_type": "display_data"
    }
   ],
   "source": [
    "df_matrix = pd.DataFrame(matrix, ['negatif','positif'], ['négatif','positif'])\n",
    "cmap=plt.cm.Blues\n",
    "sn.heatmap(df_matrix, cmap=cmap, annot=True, fmt='d')\n",
    "plt.xlabel('Prédictions')\n",
    "plt.ylabel('Labels')\n",
    "plt.show()"
   ]
  },
  {
   "cell_type": "code",
   "execution_count": 128,
   "id": "3b2d25d0",
   "metadata": {},
   "outputs": [
    {
     "name": "stdout",
     "output_type": "stream",
     "text": [
      "[[0.59474672 0.0550344 ]\n",
      " [0.07129456 0.27892433]]\n"
     ]
    }
   ],
   "source": [
    "tot=np.sum(matrix)\n",
    "matrix2 = matrix/tot\n",
    "print(matrix2)"
   ]
  },
  {
   "cell_type": "code",
   "execution_count": 129,
   "id": "1170b550",
   "metadata": {},
   "outputs": [
    {
     "data": {
      "image/png": "[encoded data removed]",
      "text/plain": [
       "<Figure size 640x480 with 2 Axes>"
      ]
     },
     "metadata": {},
     "output_type": "display_data"
    }
   ],
   "source": [
    "df_matrix = pd.DataFrame(matrix2, ['negatif','positif'], ['négatif','positif'])\n",
    "cmap=plt.cm.Blues\n",
    "sn.heatmap(df_matrix, cmap=cmap, annot=True, fmt='.2%')\n",
    "plt.xlabel('Prédictions')\n",
    "plt.ylabel('Labels')\n",
    "plt.show()"
   ]
  }
 ],
 "metadata": {
  "kernelspec": {
   "display_name": "Python 3 (ipykernel)",
   "language": "python",
   "name": "python3"
  },
  "language_info": {
   "codemirror_mode": {
    "name": "ipython",
    "version": 3
   },
   "file_extension": ".py",
   "mimetype": "text/x-python",
   "name": "python",
   "nbconvert_exporter": "python",
   "pygments_lexer": "ipython3",
   "version": "3.9.13"
  }
 },
 "nbformat": 4,
 "nbformat_minor": 5
}
