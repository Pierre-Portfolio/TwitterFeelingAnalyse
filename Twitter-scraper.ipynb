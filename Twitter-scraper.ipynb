{
 "cells": [
  {
   "cell_type": "code",
   "execution_count": 3,
   "id": "1d274a3d",
   "metadata": {},
   "outputs": [],
   "source": [
    "#pip install snscrape"
   ]
  },
  {
   "cell_type": "code",
   "execution_count": 2,
   "id": "2347e7fa",
   "metadata": {},
   "outputs": [],
   "source": [
    "import snscrape.modules.twitter as sntwitter\n",
    "import pandas as pd\n",
    "import re"
   ]
  },
  {
   "cell_type": "code",
   "execution_count": 2,
   "id": "7dcd9fa1",
   "metadata": {},
   "outputs": [],
   "source": [
    "def extract_tweet(keyword): #format keyword = keyword since:AAAA-MM-JJ until:AAAA-MM-JJ\n",
    "    #Creating list to append tweet data\n",
    "    tweet_list=[]\n",
    "    \n",
    "    for i, tweet in enumerate(sntwitter.TwitterSearchScraper(keyword).get_items()):\n",
    "        tweet_list.append([str(tweet.date), tweet.id, tweet.content, tweet.user.username])\n",
    "        \n",
    "    #Creating a dataframe from tweets list\n",
    "    tweet_df=pd.DataFrame(tweet_list, columns=['Datetime','Tweet Id', 'Text', 'Username'])\n",
    "    \n",
    "    return tweet_df"
   ]
  },
  {
   "cell_type": "code",
   "execution_count": 6,
   "id": "97fbc8bf",
   "metadata": {},
   "outputs": [],
   "source": [
    "#tweet = extract_tweet('keyword since:2019-01-01 until:2020-01-01')"
   ]
  },
  {
   "cell_type": "code",
   "execution_count": 12,
   "id": "56c406ae",
   "metadata": {},
   "outputs": [],
   "source": [
    "keywords=[\"suicide\",\"suicidaire\",\"je veux mourir\",\"à l'aide\", \"aidez-moi\"]"
   ]
  },
  {
   "cell_type": "code",
   "execution_count": 3,
   "id": "40b176ee",
   "metadata": {},
   "outputs": [],
   "source": [
    "keywords_english=[\"suicide\",\"suicidal\",\"I want to die\",\"help\"]"
   ]
  },
  {
   "cell_type": "code",
   "execution_count": 7,
   "id": "de8ed438",
   "metadata": {},
   "outputs": [],
   "source": [
    "keywords_heureux=[\"happy\",\"enjoy\",\"happiness\",\"joy\", \"good\"]"
   ]
  },
  {
   "cell_type": "code",
   "execution_count": 4,
   "id": "f7f99e93",
   "metadata": {},
   "outputs": [
    {
     "name": "stderr",
     "output_type": "stream",
     "text": [
      "Error retrieving https://api.twitter.com/2/search/adaptive.json?include_profile_interstitial_type=1&include_blocking=1&include_blocked_by=1&include_followed_by=1&include_want_retweets=1&include_mute_edge=1&include_can_dm=1&include_can_media_tag=1&skip_status=1&cards_platform=Web-12&include_cards=1&include_ext_alt_text=true&include_quote_count=true&include_reply_count=1&tweet_mode=extended&include_entities=true&include_user_entities=true&include_ext_media_color=true&include_ext_media_availability=true&send_error_codes=true&simple_quoted_tweets=true&q=suicide+since%3A2022-11-16+until%3A2022-11-17&tweet_search_mode=live&count=100&query_source=spelling_expansion_revert_click&pc=1&spelling_corrections=1&ext=mediaStats%2ChighlightedLabel: non-200 status code\n",
      "4 requests to https://api.twitter.com/2/search/adaptive.json?include_profile_interstitial_type=1&include_blocking=1&include_blocked_by=1&include_followed_by=1&include_want_retweets=1&include_mute_edge=1&include_can_dm=1&include_can_media_tag=1&skip_status=1&cards_platform=Web-12&include_cards=1&include_ext_alt_text=true&include_quote_count=true&include_reply_count=1&tweet_mode=extended&include_entities=true&include_user_entities=true&include_ext_media_color=true&include_ext_media_availability=true&send_error_codes=true&simple_quoted_tweets=true&q=suicide+since%3A2022-11-16+until%3A2022-11-17&tweet_search_mode=live&count=100&query_source=spelling_expansion_revert_click&pc=1&spelling_corrections=1&ext=mediaStats%2ChighlightedLabel failed, giving up.\n"
     ]
    },
    {
     "ename": "ScraperException",
     "evalue": "4 requests to https://api.twitter.com/2/search/adaptive.json?include_profile_interstitial_type=1&include_blocking=1&include_blocked_by=1&include_followed_by=1&include_want_retweets=1&include_mute_edge=1&include_can_dm=1&include_can_media_tag=1&skip_status=1&cards_platform=Web-12&include_cards=1&include_ext_alt_text=true&include_quote_count=true&include_reply_count=1&tweet_mode=extended&include_entities=true&include_user_entities=true&include_ext_media_color=true&include_ext_media_availability=true&send_error_codes=true&simple_quoted_tweets=true&q=suicide+since%3A2022-11-16+until%3A2022-11-17&tweet_search_mode=live&count=100&query_source=spelling_expansion_revert_click&pc=1&spelling_corrections=1&ext=mediaStats%2ChighlightedLabel failed, giving up.",
     "output_type": "error",
     "traceback": [
      "\u001b[1;31m---------------------------------------------------------------------------\u001b[0m",
      "\u001b[1;31mScraperException\u001b[0m                          Traceback (most recent call last)",
      "\u001b[1;32m~\\AppData\\Local\\Temp\\ipykernel_21056\\3912227443.py\u001b[0m in \u001b[0;36m<module>\u001b[1;34m\u001b[0m\n\u001b[0;32m      5\u001b[0m \u001b[1;33m\u001b[0m\u001b[0m\n\u001b[0;32m      6\u001b[0m \u001b[1;32mfor\u001b[0m \u001b[0mkw\u001b[0m \u001b[1;32min\u001b[0m \u001b[0mkeywords_english\u001b[0m\u001b[1;33m:\u001b[0m\u001b[1;33m\u001b[0m\u001b[1;33m\u001b[0m\u001b[0m\n\u001b[1;32m----> 7\u001b[1;33m     \u001b[0mtweet\u001b[0m \u001b[1;33m=\u001b[0m \u001b[0mextract_tweet\u001b[0m\u001b[1;33m(\u001b[0m\u001b[1;34mf'{kw} since:{debut} until:{fin}'\u001b[0m\u001b[1;33m)\u001b[0m\u001b[1;33m\u001b[0m\u001b[1;33m\u001b[0m\u001b[0m\n\u001b[0m\u001b[0;32m      8\u001b[0m \u001b[1;33m\u001b[0m\u001b[0m\n\u001b[0;32m      9\u001b[0m     \u001b[0mframes\u001b[0m\u001b[1;33m=\u001b[0m\u001b[1;33m[\u001b[0m\u001b[0mdf\u001b[0m\u001b[1;33m,\u001b[0m \u001b[0mtweet\u001b[0m\u001b[1;33m]\u001b[0m\u001b[1;33m\u001b[0m\u001b[1;33m\u001b[0m\u001b[0m\n",
      "\u001b[1;32m~\\AppData\\Local\\Temp\\ipykernel_21056\\1969443525.py\u001b[0m in \u001b[0;36mextract_tweet\u001b[1;34m(keyword)\u001b[0m\n\u001b[0;32m      3\u001b[0m     \u001b[0mtweet_list\u001b[0m\u001b[1;33m=\u001b[0m\u001b[1;33m[\u001b[0m\u001b[1;33m]\u001b[0m\u001b[1;33m\u001b[0m\u001b[1;33m\u001b[0m\u001b[0m\n\u001b[0;32m      4\u001b[0m \u001b[1;33m\u001b[0m\u001b[0m\n\u001b[1;32m----> 5\u001b[1;33m     \u001b[1;32mfor\u001b[0m \u001b[0mi\u001b[0m\u001b[1;33m,\u001b[0m \u001b[0mtweet\u001b[0m \u001b[1;32min\u001b[0m \u001b[0menumerate\u001b[0m\u001b[1;33m(\u001b[0m\u001b[0msntwitter\u001b[0m\u001b[1;33m.\u001b[0m\u001b[0mTwitterSearchScraper\u001b[0m\u001b[1;33m(\u001b[0m\u001b[0mkeyword\u001b[0m\u001b[1;33m)\u001b[0m\u001b[1;33m.\u001b[0m\u001b[0mget_items\u001b[0m\u001b[1;33m(\u001b[0m\u001b[1;33m)\u001b[0m\u001b[1;33m)\u001b[0m\u001b[1;33m:\u001b[0m\u001b[1;33m\u001b[0m\u001b[1;33m\u001b[0m\u001b[0m\n\u001b[0m\u001b[0;32m      6\u001b[0m         \u001b[0mtweet_list\u001b[0m\u001b[1;33m.\u001b[0m\u001b[0mappend\u001b[0m\u001b[1;33m(\u001b[0m\u001b[1;33m[\u001b[0m\u001b[0mstr\u001b[0m\u001b[1;33m(\u001b[0m\u001b[0mtweet\u001b[0m\u001b[1;33m.\u001b[0m\u001b[0mdate\u001b[0m\u001b[1;33m)\u001b[0m\u001b[1;33m,\u001b[0m \u001b[0mtweet\u001b[0m\u001b[1;33m.\u001b[0m\u001b[0mid\u001b[0m\u001b[1;33m,\u001b[0m \u001b[0mtweet\u001b[0m\u001b[1;33m.\u001b[0m\u001b[0mcontent\u001b[0m\u001b[1;33m,\u001b[0m \u001b[0mtweet\u001b[0m\u001b[1;33m.\u001b[0m\u001b[0muser\u001b[0m\u001b[1;33m.\u001b[0m\u001b[0musername\u001b[0m\u001b[1;33m]\u001b[0m\u001b[1;33m)\u001b[0m\u001b[1;33m\u001b[0m\u001b[1;33m\u001b[0m\u001b[0m\n\u001b[0;32m      7\u001b[0m \u001b[1;33m\u001b[0m\u001b[0m\n",
      "\u001b[1;32mD:\\Logiciels\\anaconda3\\lib\\site-packages\\snscrape\\modules\\twitter.py\u001b[0m in \u001b[0;36mget_items\u001b[1;34m(self)\u001b[0m\n\u001b[0;32m    678\u001b[0m                         \u001b[1;32mdel\u001b[0m \u001b[0mpaginationParams\u001b[0m\u001b[1;33m[\u001b[0m\u001b[1;34m'tweet_search_mode'\u001b[0m\u001b[1;33m]\u001b[0m\u001b[1;33m\u001b[0m\u001b[1;33m\u001b[0m\u001b[0m\n\u001b[0;32m    679\u001b[0m \u001b[1;33m\u001b[0m\u001b[0m\n\u001b[1;32m--> 680\u001b[1;33m                 \u001b[1;32mfor\u001b[0m \u001b[0mobj\u001b[0m \u001b[1;32min\u001b[0m \u001b[0mself\u001b[0m\u001b[1;33m.\u001b[0m\u001b[0m_iter_api_data\u001b[0m\u001b[1;33m(\u001b[0m\u001b[1;34m'https://api.twitter.com/2/search/adaptive.json'\u001b[0m\u001b[1;33m,\u001b[0m \u001b[0mparams\u001b[0m\u001b[1;33m,\u001b[0m \u001b[0mpaginationParams\u001b[0m\u001b[1;33m,\u001b[0m \u001b[0mcursor\u001b[0m \u001b[1;33m=\u001b[0m \u001b[0mself\u001b[0m\u001b[1;33m.\u001b[0m\u001b[0m_cursor\u001b[0m\u001b[1;33m)\u001b[0m\u001b[1;33m:\u001b[0m\u001b[1;33m\u001b[0m\u001b[1;33m\u001b[0m\u001b[0m\n\u001b[0m\u001b[0;32m    681\u001b[0m                         \u001b[1;32myield\u001b[0m \u001b[1;32mfrom\u001b[0m \u001b[0mself\u001b[0m\u001b[1;33m.\u001b[0m\u001b[0m_instructions_to_tweets\u001b[0m\u001b[1;33m(\u001b[0m\u001b[0mobj\u001b[0m\u001b[1;33m)\u001b[0m\u001b[1;33m\u001b[0m\u001b[1;33m\u001b[0m\u001b[0m\n\u001b[0;32m    682\u001b[0m \u001b[1;33m\u001b[0m\u001b[0m\n",
      "\u001b[1;32mD:\\Logiciels\\anaconda3\\lib\\site-packages\\snscrape\\modules\\twitter.py\u001b[0m in \u001b[0;36m_iter_api_data\u001b[1;34m(self, endpoint, params, paginationParams, cursor, direction)\u001b[0m\n\u001b[0;32m    367\u001b[0m                 \u001b[1;32mwhile\u001b[0m \u001b[1;32mTrue\u001b[0m\u001b[1;33m:\u001b[0m\u001b[1;33m\u001b[0m\u001b[1;33m\u001b[0m\u001b[0m\n\u001b[0;32m    368\u001b[0m                         \u001b[0m_logger\u001b[0m\u001b[1;33m.\u001b[0m\u001b[0minfo\u001b[0m\u001b[1;33m(\u001b[0m\u001b[1;34mf'Retrieving scroll page {cursor}'\u001b[0m\u001b[1;33m)\u001b[0m\u001b[1;33m\u001b[0m\u001b[1;33m\u001b[0m\u001b[0m\n\u001b[1;32m--> 369\u001b[1;33m                         \u001b[0mobj\u001b[0m \u001b[1;33m=\u001b[0m \u001b[0mself\u001b[0m\u001b[1;33m.\u001b[0m\u001b[0m_get_api_data\u001b[0m\u001b[1;33m(\u001b[0m\u001b[0mendpoint\u001b[0m\u001b[1;33m,\u001b[0m \u001b[0mreqParams\u001b[0m\u001b[1;33m)\u001b[0m\u001b[1;33m\u001b[0m\u001b[1;33m\u001b[0m\u001b[0m\n\u001b[0m\u001b[0;32m    370\u001b[0m                         \u001b[1;32myield\u001b[0m \u001b[0mobj\u001b[0m\u001b[1;33m\u001b[0m\u001b[1;33m\u001b[0m\u001b[0m\n\u001b[0;32m    371\u001b[0m \u001b[1;33m\u001b[0m\u001b[0m\n",
      "\u001b[1;32mD:\\Logiciels\\anaconda3\\lib\\site-packages\\snscrape\\modules\\twitter.py\u001b[0m in \u001b[0;36m_get_api_data\u001b[1;34m(self, endpoint, params)\u001b[0m\n\u001b[0;32m    337\u001b[0m         \u001b[1;32mdef\u001b[0m \u001b[0m_get_api_data\u001b[0m\u001b[1;33m(\u001b[0m\u001b[0mself\u001b[0m\u001b[1;33m,\u001b[0m \u001b[0mendpoint\u001b[0m\u001b[1;33m,\u001b[0m \u001b[0mparams\u001b[0m\u001b[1;33m)\u001b[0m\u001b[1;33m:\u001b[0m\u001b[1;33m\u001b[0m\u001b[1;33m\u001b[0m\u001b[0m\n\u001b[0;32m    338\u001b[0m                 \u001b[0mself\u001b[0m\u001b[1;33m.\u001b[0m\u001b[0m_ensure_guest_token\u001b[0m\u001b[1;33m(\u001b[0m\u001b[1;33m)\u001b[0m\u001b[1;33m\u001b[0m\u001b[1;33m\u001b[0m\u001b[0m\n\u001b[1;32m--> 339\u001b[1;33m                 \u001b[0mr\u001b[0m \u001b[1;33m=\u001b[0m \u001b[0mself\u001b[0m\u001b[1;33m.\u001b[0m\u001b[0m_get\u001b[0m\u001b[1;33m(\u001b[0m\u001b[0mendpoint\u001b[0m\u001b[1;33m,\u001b[0m \u001b[0mparams\u001b[0m \u001b[1;33m=\u001b[0m \u001b[0mparams\u001b[0m\u001b[1;33m,\u001b[0m \u001b[0mheaders\u001b[0m \u001b[1;33m=\u001b[0m \u001b[0mself\u001b[0m\u001b[1;33m.\u001b[0m\u001b[0m_apiHeaders\u001b[0m\u001b[1;33m,\u001b[0m \u001b[0mresponseOkCallback\u001b[0m \u001b[1;33m=\u001b[0m \u001b[0mself\u001b[0m\u001b[1;33m.\u001b[0m\u001b[0m_check_api_response\u001b[0m\u001b[1;33m)\u001b[0m\u001b[1;33m\u001b[0m\u001b[1;33m\u001b[0m\u001b[0m\n\u001b[0m\u001b[0;32m    340\u001b[0m                 \u001b[1;32mtry\u001b[0m\u001b[1;33m:\u001b[0m\u001b[1;33m\u001b[0m\u001b[1;33m\u001b[0m\u001b[0m\n\u001b[0;32m    341\u001b[0m                         \u001b[0mobj\u001b[0m \u001b[1;33m=\u001b[0m \u001b[0mr\u001b[0m\u001b[1;33m.\u001b[0m\u001b[0mjson\u001b[0m\u001b[1;33m(\u001b[0m\u001b[1;33m)\u001b[0m\u001b[1;33m\u001b[0m\u001b[1;33m\u001b[0m\u001b[0m\n",
      "\u001b[1;32mD:\\Logiciels\\anaconda3\\lib\\site-packages\\snscrape\\base.py\u001b[0m in \u001b[0;36m_get\u001b[1;34m(self, *args, **kwargs)\u001b[0m\n\u001b[0;32m    214\u001b[0m \u001b[1;33m\u001b[0m\u001b[0m\n\u001b[0;32m    215\u001b[0m         \u001b[1;32mdef\u001b[0m \u001b[0m_get\u001b[0m\u001b[1;33m(\u001b[0m\u001b[0mself\u001b[0m\u001b[1;33m,\u001b[0m \u001b[1;33m*\u001b[0m\u001b[0margs\u001b[0m\u001b[1;33m,\u001b[0m \u001b[1;33m**\u001b[0m\u001b[0mkwargs\u001b[0m\u001b[1;33m)\u001b[0m\u001b[1;33m:\u001b[0m\u001b[1;33m\u001b[0m\u001b[1;33m\u001b[0m\u001b[0m\n\u001b[1;32m--> 216\u001b[1;33m                 \u001b[1;32mreturn\u001b[0m \u001b[0mself\u001b[0m\u001b[1;33m.\u001b[0m\u001b[0m_request\u001b[0m\u001b[1;33m(\u001b[0m\u001b[1;34m'GET'\u001b[0m\u001b[1;33m,\u001b[0m \u001b[1;33m*\u001b[0m\u001b[0margs\u001b[0m\u001b[1;33m,\u001b[0m \u001b[1;33m**\u001b[0m\u001b[0mkwargs\u001b[0m\u001b[1;33m)\u001b[0m\u001b[1;33m\u001b[0m\u001b[1;33m\u001b[0m\u001b[0m\n\u001b[0m\u001b[0;32m    217\u001b[0m \u001b[1;33m\u001b[0m\u001b[0m\n\u001b[0;32m    218\u001b[0m         \u001b[1;32mdef\u001b[0m \u001b[0m_post\u001b[0m\u001b[1;33m(\u001b[0m\u001b[0mself\u001b[0m\u001b[1;33m,\u001b[0m \u001b[1;33m*\u001b[0m\u001b[0margs\u001b[0m\u001b[1;33m,\u001b[0m \u001b[1;33m**\u001b[0m\u001b[0mkwargs\u001b[0m\u001b[1;33m)\u001b[0m\u001b[1;33m:\u001b[0m\u001b[1;33m\u001b[0m\u001b[1;33m\u001b[0m\u001b[0m\n",
      "\u001b[1;32mD:\\Logiciels\\anaconda3\\lib\\site-packages\\snscrape\\base.py\u001b[0m in \u001b[0;36m_request\u001b[1;34m(self, method, url, params, data, headers, timeout, responseOkCallback, allowRedirects)\u001b[0m\n\u001b[0;32m    210\u001b[0m                         \u001b[0mmsg\u001b[0m \u001b[1;33m=\u001b[0m \u001b[1;34mf'{self._retries + 1} requests to {req.url} failed, giving up.'\u001b[0m\u001b[1;33m\u001b[0m\u001b[1;33m\u001b[0m\u001b[0m\n\u001b[0;32m    211\u001b[0m                         \u001b[0mlogger\u001b[0m\u001b[1;33m.\u001b[0m\u001b[0mfatal\u001b[0m\u001b[1;33m(\u001b[0m\u001b[0mmsg\u001b[0m\u001b[1;33m)\u001b[0m\u001b[1;33m\u001b[0m\u001b[1;33m\u001b[0m\u001b[0m\n\u001b[1;32m--> 212\u001b[1;33m                         \u001b[1;32mraise\u001b[0m \u001b[0mScraperException\u001b[0m\u001b[1;33m(\u001b[0m\u001b[0mmsg\u001b[0m\u001b[1;33m)\u001b[0m\u001b[1;33m\u001b[0m\u001b[1;33m\u001b[0m\u001b[0m\n\u001b[0m\u001b[0;32m    213\u001b[0m                 \u001b[1;32mraise\u001b[0m \u001b[0mRuntimeError\u001b[0m\u001b[1;33m(\u001b[0m\u001b[1;34m'Reached unreachable code'\u001b[0m\u001b[1;33m)\u001b[0m\u001b[1;33m\u001b[0m\u001b[1;33m\u001b[0m\u001b[0m\n\u001b[0;32m    214\u001b[0m \u001b[1;33m\u001b[0m\u001b[0m\n",
      "\u001b[1;31mScraperException\u001b[0m: 4 requests to https://api.twitter.com/2/search/adaptive.json?include_profile_interstitial_type=1&include_blocking=1&include_blocked_by=1&include_followed_by=1&include_want_retweets=1&include_mute_edge=1&include_can_dm=1&include_can_media_tag=1&skip_status=1&cards_platform=Web-12&include_cards=1&include_ext_alt_text=true&include_quote_count=true&include_reply_count=1&tweet_mode=extended&include_entities=true&include_user_entities=true&include_ext_media_color=true&include_ext_media_availability=true&send_error_codes=true&simple_quoted_tweets=true&q=suicide+since%3A2022-11-16+until%3A2022-11-17&tweet_search_mode=live&count=100&query_source=spelling_expansion_revert_click&pc=1&spelling_corrections=1&ext=mediaStats%2ChighlightedLabel failed, giving up."
     ]
    }
   ],
   "source": [
    "debut = \"2022-11-16\"\n",
    "fin = \"2022-11-17\"\n",
    "\n",
    "df=pd.DataFrame(columns=['Datetime','Tweet Id', 'Text', 'Username'])\n",
    "\n",
    "for kw in keywords_english:\n",
    "    tweet = extract_tweet(f'{kw} since:{debut} until:{fin}')\n",
    "    \n",
    "    frames=[df, tweet]\n",
    "\n",
    "    df = pd.concat(frames)\n",
    "    \n",
    "df = df.reset_index(drop=True)"
   ]
  },
  {
   "cell_type": "code",
   "execution_count": 19,
   "id": "afa79b4e",
   "metadata": {},
   "outputs": [
    {
     "data": {
      "text/html": [
       "<div>\n",
       "<style scoped>\n",
       "    .dataframe tbody tr th:only-of-type {\n",
       "        vertical-align: middle;\n",
       "    }\n",
       "\n",
       "    .dataframe tbody tr th {\n",
       "        vertical-align: top;\n",
       "    }\n",
       "\n",
       "    .dataframe thead th {\n",
       "        text-align: right;\n",
       "    }\n",
       "</style>\n",
       "<table border=\"1\" class=\"dataframe\">\n",
       "  <thead>\n",
       "    <tr style=\"text-align: right;\">\n",
       "      <th></th>\n",
       "      <th>Datetime</th>\n",
       "      <th>Tweet Id</th>\n",
       "      <th>Text</th>\n",
       "      <th>Username</th>\n",
       "    </tr>\n",
       "  </thead>\n",
       "  <tbody>\n",
       "    <tr>\n",
       "      <th>0</th>\n",
       "      <td>2022-11-16 23:59:43+00:00</td>\n",
       "      <td>1593031089961869315</td>\n",
       "      <td>@Guy_Smiley_73 @houndfucker @Indiekindoflife @...</td>\n",
       "      <td>julinnette1</td>\n",
       "    </tr>\n",
       "    <tr>\n",
       "      <th>1</th>\n",
       "      <td>2022-11-16 23:59:33+00:00</td>\n",
       "      <td>1593031045934301185</td>\n",
       "      <td>GL:Well, don’t commit suicide.「自殺しないことです」(S1E1)</td>\n",
       "      <td>Sherlock_meigen</td>\n",
       "    </tr>\n",
       "    <tr>\n",
       "      <th>2</th>\n",
       "      <td>2022-11-16 23:59:20+00:00</td>\n",
       "      <td>1593030994600538112</td>\n",
       "      <td>@RealGomezMedia @iblockliberals @WickedR3coil ...</td>\n",
       "      <td>SIRLIGHTANGEL</td>\n",
       "    </tr>\n",
       "    <tr>\n",
       "      <th>3</th>\n",
       "      <td>2022-11-16 23:59:06+00:00</td>\n",
       "      <td>1593030935087575041</td>\n",
       "      <td>@Brjl_ おはよ！</td>\n",
       "      <td>Suicide429</td>\n",
       "    </tr>\n",
       "    <tr>\n",
       "      <th>4</th>\n",
       "      <td>2022-11-16 23:59:04+00:00</td>\n",
       "      <td>1593030924585021440</td>\n",
       "      <td>whilst i do not encourage misogyny: misandry k...</td>\n",
       "      <td>darthpilled</td>\n",
       "    </tr>\n",
       "    <tr>\n",
       "      <th>...</th>\n",
       "      <td>...</td>\n",
       "      <td>...</td>\n",
       "      <td>...</td>\n",
       "      <td>...</td>\n",
       "    </tr>\n",
       "    <tr>\n",
       "      <th>19578</th>\n",
       "      <td>2022-11-16 05:53:02+00:00</td>\n",
       "      <td>1592757616572530689</td>\n",
       "      <td>Cela ne se passe pas bien, aidez-moi s'il vous...</td>\n",
       "      <td>YaoiMasterMAL</td>\n",
       "    </tr>\n",
       "    <tr>\n",
       "      <th>19579</th>\n",
       "      <td>2022-11-16 04:58:48+00:00</td>\n",
       "      <td>1592743967946571776</td>\n",
       "      <td>\"Attention mes ministres ne sont pas des garço...</td>\n",
       "      <td>africawecan2</td>\n",
       "    </tr>\n",
       "    <tr>\n",
       "      <th>19580</th>\n",
       "      <td>2022-11-16 04:51:51+00:00</td>\n",
       "      <td>1592742218724319232</td>\n",
       "      <td>Voilà, là je fais les mises à jours Windows on...</td>\n",
       "      <td>JulienFontanier</td>\n",
       "    </tr>\n",
       "    <tr>\n",
       "      <th>19581</th>\n",
       "      <td>2022-11-16 00:36:36+00:00</td>\n",
       "      <td>1592677981851643904</td>\n",
       "      <td>Aidez-moi s'il-vous-plaît 🙏🙏 https://t.co/UXI3...</td>\n",
       "      <td>Lytaga23</td>\n",
       "    </tr>\n",
       "    <tr>\n",
       "      <th>19582</th>\n",
       "      <td>2022-11-16 00:28:19+00:00</td>\n",
       "      <td>1592675899890991104</td>\n",
       "      <td>@jacksonmukunda @DouglasKakese @ManixKen svp a...</td>\n",
       "      <td>RoseKhissa</td>\n",
       "    </tr>\n",
       "  </tbody>\n",
       "</table>\n",
       "<p>19583 rows × 4 columns</p>\n",
       "</div>"
      ],
      "text/plain": [
       "                        Datetime             Tweet Id  \\\n",
       "0      2022-11-16 23:59:43+00:00  1593031089961869315   \n",
       "1      2022-11-16 23:59:33+00:00  1593031045934301185   \n",
       "2      2022-11-16 23:59:20+00:00  1593030994600538112   \n",
       "3      2022-11-16 23:59:06+00:00  1593030935087575041   \n",
       "4      2022-11-16 23:59:04+00:00  1593030924585021440   \n",
       "...                          ...                  ...   \n",
       "19578  2022-11-16 05:53:02+00:00  1592757616572530689   \n",
       "19579  2022-11-16 04:58:48+00:00  1592743967946571776   \n",
       "19580  2022-11-16 04:51:51+00:00  1592742218724319232   \n",
       "19581  2022-11-16 00:36:36+00:00  1592677981851643904   \n",
       "19582  2022-11-16 00:28:19+00:00  1592675899890991104   \n",
       "\n",
       "                                                    Text         Username  \n",
       "0      @Guy_Smiley_73 @houndfucker @Indiekindoflife @...      julinnette1  \n",
       "1        GL:Well, don’t commit suicide.「自殺しないことです」(S1E1)  Sherlock_meigen  \n",
       "2      @RealGomezMedia @iblockliberals @WickedR3coil ...    SIRLIGHTANGEL  \n",
       "3                                            @Brjl_ おはよ！       Suicide429  \n",
       "4      whilst i do not encourage misogyny: misandry k...      darthpilled  \n",
       "...                                                  ...              ...  \n",
       "19578  Cela ne se passe pas bien, aidez-moi s'il vous...    YaoiMasterMAL  \n",
       "19579  \"Attention mes ministres ne sont pas des garço...     africawecan2  \n",
       "19580  Voilà, là je fais les mises à jours Windows on...  JulienFontanier  \n",
       "19581  Aidez-moi s'il-vous-plaît 🙏🙏 https://t.co/UXI3...         Lytaga23  \n",
       "19582  @jacksonmukunda @DouglasKakese @ManixKen svp a...       RoseKhissa  \n",
       "\n",
       "[19583 rows x 4 columns]"
      ]
     },
     "execution_count": 19,
     "metadata": {},
     "output_type": "execute_result"
    }
   ],
   "source": [
    "df"
   ]
  },
  {
   "cell_type": "code",
   "execution_count": 20,
   "id": "807d864d",
   "metadata": {},
   "outputs": [
    {
     "data": {
      "text/plain": [
       "'@scaramouchefr Me too wanna commit double suicide?'"
      ]
     },
     "execution_count": 20,
     "metadata": {},
     "output_type": "execute_result"
    }
   ],
   "source": [
    "tweet_161122.Text[16906]"
   ]
  },
  {
   "cell_type": "markdown",
   "id": "1df05abf",
   "metadata": {},
   "source": [
    "# Cleaning"
   ]
  },
  {
   "cell_type": "code",
   "execution_count": 3,
   "id": "409bd249",
   "metadata": {},
   "outputs": [],
   "source": [
    "path=r'twitter_data_161122.csv'\n",
    "df_init = pd.read_csv(path,sep=',',encoding='utf-8')\n",
    "df=df_init.copy()"
   ]
  },
  {
   "cell_type": "code",
   "execution_count": 4,
   "id": "21f992e1",
   "metadata": {},
   "outputs": [],
   "source": [
    "def Cleaning(Text):\n",
    "    #supprimer les identifiactions avec les @\n",
    "    L=[]#liste des mots à enlever\n",
    "    for i in range(len(Text)):\n",
    "        if Text[i]=='@':            \n",
    "            s=''\n",
    "            for j in Text[i:]:\n",
    "                if j != ' ':\n",
    "                    s+=j\n",
    "                else:\n",
    "                    break            \n",
    "            L.append(s)\n",
    "    #suppression de tous les mots\n",
    "    for word in L:\n",
    "        Text=Text.replace(word,'')\n",
    "    \n",
    "    #On garde que les caractères alphanumériques\n",
    "    Text=re.sub(r'((?![a-z]|[A-Z]|\\d).)',' ',Text)#((?!...).) => opposé\n",
    "    \n",
    "    return Text.strip() #suppression des espaces au début et à la fin"
   ]
  },
  {
   "cell_type": "code",
   "execution_count": 5,
   "id": "871ee5ed",
   "metadata": {},
   "outputs": [
    {
     "data": {
      "text/plain": [
       "'But they do  They re the reason that the suicide rate in the lgbt community is higher and that s just a fact'"
      ]
     },
     "execution_count": 5,
     "metadata": {},
     "output_type": "execute_result"
    }
   ],
   "source": [
    "T='@Guy_Smiley_73 @houndfucker @Indiekindoflife @AlessandraVaron But they do! They’re the reason that the suicide rate in the lgbt community is higher and that’s just a fact'\n",
    "\n",
    "Cleaning(T)"
   ]
  },
  {
   "cell_type": "code",
   "execution_count": 6,
   "id": "9a977304",
   "metadata": {},
   "outputs": [
    {
     "name": "stdout",
     "output_type": "stream",
     "text": [
      "@Guy_Smiley_73 @houndfucker @Indiekindoflife @AlessandraVaron But they do! They’re the reason that the suicide rate in the lgbt community is higher and that’s just a fact\n",
      "But they do  They re the reason that the suicide rate in the lgbt community is higher and that s just a fact\n",
      "-----------------\n",
      "GL:Well, don’t commit suicide.「自殺しないことです」(S1E1)\n",
      "GL Well  don t commit suicide             S1E1\n",
      "-----------------\n",
      "@RealGomezMedia @iblockliberals @WickedR3coil @PoliticalyAwake That's assuming they don't commit suicide before catching up to you.\n",
      "That s assuming they don t commit suicide before catching up to you\n",
      "-----------------\n",
      "@Brjl_ おはよ！\n",
      "\n",
      "-----------------\n",
      "whilst i do not encourage misogyny: misandry kills, you may see this truth reflected on the likeliness of male suicide. i can truly empathise with transgender individuals (of any gender) because they know exactly what's up. don't forget check up on a friend this month.\n",
      "whilst i do not encourage misogyny  misandry kills  you may see this truth reflected on the likeliness of male suicide  i can truly empathise with transgender individuals  of any gender  because they know exactly what s up  don t forget check up on a friend this month\n",
      "-----------------\n",
      "This is watching people commit suicide.\n",
      "👿👿👿👿👿👿👿👿👿 https://t.co/P1mrr7dNSi\n",
      "This is watching people commit suicide \n",
      "          https   t co P1mrr7dNSi\n",
      "-----------------\n",
      "@_0knj3 おはよ！\n",
      "\n",
      "-----------------\n",
      "@DatCatDer @xrpeelz Somebody drop into this guy’s Reddit DMs and send him over to talk to us. Reddit will just push him to suicide\n",
      "Somebody drop into this guy s Reddit DMs and send him over to talk to us  Reddit will just push him to suicide\n",
      "-----------------\n",
      "This therapist is terrible. “Could this be about your mother’s suicide?” NO BITCH! It’s the one I just damn witnessed!\n",
      "\n",
      "#SmileMovie https://t.co/38lrk7wePk\n",
      "This therapist is terrible   Could this be about your mother s suicide   NO BITCH  It s the one I just damn witnessed \n",
      "\n",
      " SmileMovie https   t co 38lrk7wePk\n",
      "-----------------\n",
      "@rjm0_ おはよ！\n",
      "\n",
      "-----------------\n",
      "@robertalives That \"suicide shot\" works fast.\n",
      "That  suicide shot  works fast\n",
      "-----------------\n",
      "The Examiner was high af. Ellen Greenberg 'suicide': Pennsylvania court hears arguments in family's bid to overrule medical examiner\n",
      "\n",
      "https://t.co/sShWsX28uA\n",
      "The Examiner was high af  Ellen Greenberg  suicide   Pennsylvania court hears arguments in family s bid to overrule medical examiner\n",
      "\n",
      "https   t co sShWsX28uA\n",
      "-----------------\n",
      "@Mrz_7a おはよ！\n",
      "\n",
      "-----------------\n",
      "@CP24 This will go straight to @JohnTory 's head!  \n",
      "\n",
      "People in Toronto are opting on assisted suicide because they can't afford to live. Tory is off at gala's for photo opps!!!   Canada is fucked!\n",
      "This will go straight to   s head   \n",
      "\n",
      "People in Toronto are opting on assisted suicide because they can t afford to live  Tory is off at gala s for photo opps      Canada is fucked\n",
      "-----------------\n",
      "@_1_8o おはよ！\n",
      "\n",
      "-----------------\n",
      "@ksy_jp おはよ！\n",
      "\n",
      "-----------------\n",
      "@Nublinski So are we talking anomalous school mass shootings or guns in general. Or street crime or suicide. There are so many different subsets.\n",
      "So are we talking anomalous school mass shootings or guns in general  Or street crime or suicide  There are so many different subsets\n",
      "-----------------\n",
      "@BonnieGamer_64 I do not know where that came from\n",
      "I do not know where that came from\n",
      "-----------------\n",
      "@yk1i_ おはよ！\n",
      "\n",
      "-----------------\n",
      "@geoffreyarcadia @Fullcarry Yeah we’re getting into suicide territory\n",
      "Yeah we re getting into suicide territory\n",
      "-----------------\n"
     ]
    }
   ],
   "source": [
    "for index, row in df.head(20).iterrows():\n",
    "    print(row['Text'])\n",
    "    print(Cleaning(row['Text']))\n",
    "    print('-----------------')"
   ]
  }
 ],
 "metadata": {
  "kernelspec": {
   "display_name": "Python 3 (ipykernel)",
   "language": "python",
   "name": "python3"
  },
  "language_info": {
   "codemirror_mode": {
    "name": "ipython",
    "version": 3
   },
   "file_extension": ".py",
   "mimetype": "text/x-python",
   "name": "python",
   "nbconvert_exporter": "python",
   "pygments_lexer": "ipython3",
   "version": "3.9.13"
  }
 },
 "nbformat": 4,
 "nbformat_minor": 5
}
