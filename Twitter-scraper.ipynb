{
 "cells": [
  {
   "cell_type": "code",
   "execution_count": 2,
   "id": "1d274a3d",
   "metadata": {},
   "outputs": [],
   "source": [
    "#pip install snscrape"
   ]
  },
  {
   "cell_type": "code",
   "execution_count": 1,
   "id": "2347e7fa",
   "metadata": {},
   "outputs": [],
   "source": [
    "import snscrape.modules.twitter as sntwitter\n",
    "import pandas as pd"
   ]
  },
  {
   "cell_type": "code",
   "execution_count": 2,
   "id": "7dcd9fa1",
   "metadata": {},
   "outputs": [],
   "source": [
    "def extract_tweet(keyword): #format keyword = keyword since:AAAA-MM-JJ until:AAAA-MM-JJ\n",
    "    #Creating list to append tweet data\n",
    "    tweet_list=[]\n",
    "    \n",
    "    for i, tweet in enumerate(sntwitter.TwitterSearchScraper(keyword).get_items()):\n",
    "        tweet_list.append([str(tweet.date), tweet.id, tweet.content, tweet.user.username])\n",
    "        \n",
    "    #Creating a dataframe from tweets list\n",
    "    tweet_df=pd.DataFrame(tweet_list, columns=['Datetime','Tweet Id', 'Text', 'Username'])\n",
    "    \n",
    "    return tweet_df"
   ]
  },
  {
   "cell_type": "code",
   "execution_count": 4,
   "id": "97fbc8bf",
   "metadata": {},
   "outputs": [],
   "source": [
    "#tweet = extract_tweet('keyword since:2019-01-01 until:2020-01-01')"
   ]
  },
  {
   "cell_type": "code",
   "execution_count": 12,
   "id": "56c406ae",
   "metadata": {},
   "outputs": [],
   "source": [
    "keywords=[\"suicide\",\"suicidaire\",\"je veux mourir\",\"à l'aide\", \"aidez-moi\"]"
   ]
  },
  {
   "cell_type": "code",
   "execution_count": 13,
   "id": "f7f99e93",
   "metadata": {},
   "outputs": [],
   "source": [
    "debut = \"2022-11-16\"\n",
    "fin = \"2022-11-17\"\n",
    "\n",
    "df=pd.DataFrame(columns=['Datetime','Tweet Id', 'Text', 'Username'])\n",
    "\n",
    "for kw in keywords:\n",
    "    tweet = extract_tweet(f'{kw} since:{debut} until:{fin}')\n",
    "    \n",
    "    frames=[df, tweet]\n",
    "\n",
    "    df = pd.concat(frames)\n",
    "    \n",
    "df = df.reset_index(drop=True)"
   ]
  },
  {
   "cell_type": "code",
   "execution_count": 19,
   "id": "afa79b4e",
   "metadata": {},
   "outputs": [
    {
     "data": {
      "text/html": [
       "<div>\n",
       "<style scoped>\n",
       "    .dataframe tbody tr th:only-of-type {\n",
       "        vertical-align: middle;\n",
       "    }\n",
       "\n",
       "    .dataframe tbody tr th {\n",
       "        vertical-align: top;\n",
       "    }\n",
       "\n",
       "    .dataframe thead th {\n",
       "        text-align: right;\n",
       "    }\n",
       "</style>\n",
       "<table border=\"1\" class=\"dataframe\">\n",
       "  <thead>\n",
       "    <tr style=\"text-align: right;\">\n",
       "      <th></th>\n",
       "      <th>Datetime</th>\n",
       "      <th>Tweet Id</th>\n",
       "      <th>Text</th>\n",
       "      <th>Username</th>\n",
       "    </tr>\n",
       "  </thead>\n",
       "  <tbody>\n",
       "    <tr>\n",
       "      <th>0</th>\n",
       "      <td>2022-11-16 23:59:43+00:00</td>\n",
       "      <td>1593031089961869315</td>\n",
       "      <td>@Guy_Smiley_73 @houndfucker @Indiekindoflife @...</td>\n",
       "      <td>julinnette1</td>\n",
       "    </tr>\n",
       "    <tr>\n",
       "      <th>1</th>\n",
       "      <td>2022-11-16 23:59:33+00:00</td>\n",
       "      <td>1593031045934301185</td>\n",
       "      <td>GL:Well, don’t commit suicide.「自殺しないことです」(S1E1)</td>\n",
       "      <td>Sherlock_meigen</td>\n",
       "    </tr>\n",
       "    <tr>\n",
       "      <th>2</th>\n",
       "      <td>2022-11-16 23:59:20+00:00</td>\n",
       "      <td>1593030994600538112</td>\n",
       "      <td>@RealGomezMedia @iblockliberals @WickedR3coil ...</td>\n",
       "      <td>SIRLIGHTANGEL</td>\n",
       "    </tr>\n",
       "    <tr>\n",
       "      <th>3</th>\n",
       "      <td>2022-11-16 23:59:06+00:00</td>\n",
       "      <td>1593030935087575041</td>\n",
       "      <td>@Brjl_ おはよ！</td>\n",
       "      <td>Suicide429</td>\n",
       "    </tr>\n",
       "    <tr>\n",
       "      <th>4</th>\n",
       "      <td>2022-11-16 23:59:04+00:00</td>\n",
       "      <td>1593030924585021440</td>\n",
       "      <td>whilst i do not encourage misogyny: misandry k...</td>\n",
       "      <td>darthpilled</td>\n",
       "    </tr>\n",
       "    <tr>\n",
       "      <th>...</th>\n",
       "      <td>...</td>\n",
       "      <td>...</td>\n",
       "      <td>...</td>\n",
       "      <td>...</td>\n",
       "    </tr>\n",
       "    <tr>\n",
       "      <th>19578</th>\n",
       "      <td>2022-11-16 05:53:02+00:00</td>\n",
       "      <td>1592757616572530689</td>\n",
       "      <td>Cela ne se passe pas bien, aidez-moi s'il vous...</td>\n",
       "      <td>YaoiMasterMAL</td>\n",
       "    </tr>\n",
       "    <tr>\n",
       "      <th>19579</th>\n",
       "      <td>2022-11-16 04:58:48+00:00</td>\n",
       "      <td>1592743967946571776</td>\n",
       "      <td>\"Attention mes ministres ne sont pas des garço...</td>\n",
       "      <td>africawecan2</td>\n",
       "    </tr>\n",
       "    <tr>\n",
       "      <th>19580</th>\n",
       "      <td>2022-11-16 04:51:51+00:00</td>\n",
       "      <td>1592742218724319232</td>\n",
       "      <td>Voilà, là je fais les mises à jours Windows on...</td>\n",
       "      <td>JulienFontanier</td>\n",
       "    </tr>\n",
       "    <tr>\n",
       "      <th>19581</th>\n",
       "      <td>2022-11-16 00:36:36+00:00</td>\n",
       "      <td>1592677981851643904</td>\n",
       "      <td>Aidez-moi s'il-vous-plaît 🙏🙏 https://t.co/UXI3...</td>\n",
       "      <td>Lytaga23</td>\n",
       "    </tr>\n",
       "    <tr>\n",
       "      <th>19582</th>\n",
       "      <td>2022-11-16 00:28:19+00:00</td>\n",
       "      <td>1592675899890991104</td>\n",
       "      <td>@jacksonmukunda @DouglasKakese @ManixKen svp a...</td>\n",
       "      <td>RoseKhissa</td>\n",
       "    </tr>\n",
       "  </tbody>\n",
       "</table>\n",
       "<p>19583 rows × 4 columns</p>\n",
       "</div>"
      ],
      "text/plain": [
       "                        Datetime             Tweet Id  \\\n",
       "0      2022-11-16 23:59:43+00:00  1593031089961869315   \n",
       "1      2022-11-16 23:59:33+00:00  1593031045934301185   \n",
       "2      2022-11-16 23:59:20+00:00  1593030994600538112   \n",
       "3      2022-11-16 23:59:06+00:00  1593030935087575041   \n",
       "4      2022-11-16 23:59:04+00:00  1593030924585021440   \n",
       "...                          ...                  ...   \n",
       "19578  2022-11-16 05:53:02+00:00  1592757616572530689   \n",
       "19579  2022-11-16 04:58:48+00:00  1592743967946571776   \n",
       "19580  2022-11-16 04:51:51+00:00  1592742218724319232   \n",
       "19581  2022-11-16 00:36:36+00:00  1592677981851643904   \n",
       "19582  2022-11-16 00:28:19+00:00  1592675899890991104   \n",
       "\n",
       "                                                    Text         Username  \n",
       "0      @Guy_Smiley_73 @houndfucker @Indiekindoflife @...      julinnette1  \n",
       "1        GL:Well, don’t commit suicide.「自殺しないことです」(S1E1)  Sherlock_meigen  \n",
       "2      @RealGomezMedia @iblockliberals @WickedR3coil ...    SIRLIGHTANGEL  \n",
       "3                                            @Brjl_ おはよ！       Suicide429  \n",
       "4      whilst i do not encourage misogyny: misandry k...      darthpilled  \n",
       "...                                                  ...              ...  \n",
       "19578  Cela ne se passe pas bien, aidez-moi s'il vous...    YaoiMasterMAL  \n",
       "19579  \"Attention mes ministres ne sont pas des garço...     africawecan2  \n",
       "19580  Voilà, là je fais les mises à jours Windows on...  JulienFontanier  \n",
       "19581  Aidez-moi s'il-vous-plaît 🙏🙏 https://t.co/UXI3...         Lytaga23  \n",
       "19582  @jacksonmukunda @DouglasKakese @ManixKen svp a...       RoseKhissa  \n",
       "\n",
       "[19583 rows x 4 columns]"
      ]
     },
     "execution_count": 19,
     "metadata": {},
     "output_type": "execute_result"
    }
   ],
   "source": [
    "df"
   ]
  },
  {
   "cell_type": "code",
   "execution_count": 20,
   "id": "807d864d",
   "metadata": {},
   "outputs": [
    {
     "data": {
      "text/plain": [
       "'@scaramouchefr Me too wanna commit double suicide?'"
      ]
     },
     "execution_count": 20,
     "metadata": {},
     "output_type": "execute_result"
    }
   ],
   "source": [
    "tweet_161122.Text[16906]"
   ]
  },
  {
   "cell_type": "code",
   "execution_count": null,
   "id": "20a268e0",
   "metadata": {},
   "outputs": [],
   "source": []
  }
 ],
 "metadata": {
  "kernelspec": {
   "display_name": "Python 3 (ipykernel)",
   "language": "python",
   "name": "python3"
  },
  "language_info": {
   "codemirror_mode": {
    "name": "ipython",
    "version": 3
   },
   "file_extension": ".py",
   "mimetype": "text/x-python",
   "name": "python",
   "nbconvert_exporter": "python",
   "pygments_lexer": "ipython3",
   "version": "3.9.7"
  }
 },
 "nbformat": 4,
 "nbformat_minor": 5
}
