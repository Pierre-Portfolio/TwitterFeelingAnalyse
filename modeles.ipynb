{
 "cells": [
  {
   "cell_type": "markdown",
   "id": "466a02c1",
   "metadata": {},
   "source": [
    "# NLP"
   ]
  },
  {
   "cell_type": "code",
   "execution_count": 31,
   "id": "d5dc2d7a",
   "metadata": {},
   "outputs": [],
   "source": [
    "import os\n",
    "from nltk.tag import UnigramTagger\n",
    "from nltk.corpus import treebank\n",
    "from nltk.tokenize import word_tokenize\n",
    "from nltk.corpus import sentiwordnet as swn\n",
    "import pandas as pd"
   ]
  },
  {
   "cell_type": "code",
   "execution_count": 32,
   "id": "fefd82c9",
   "metadata": {},
   "outputs": [],
   "source": [
    "train_sents = treebank.tagged_sents()[:3000]\n",
    "tagger = UnigramTagger(train_sents)"
   ]
  },
  {
   "cell_type": "code",
   "execution_count": 21,
   "id": "83e200e6",
   "metadata": {},
   "outputs": [],
   "source": [
    "path_neg=r'D:\\OneDrive - De Vinci\\ESILV\\A5\\Machine_learning_NLP\\wp2\\txt_sentoken\\neg'\n",
    "path_pos=r'D:\\OneDrive - De Vinci\\ESILV\\A5\\Machine_learning_NLP\\wp2\\txt_sentoken\\pos'\n",
    "\n",
    "path=r'twitter_data_161122.csv'\n",
    "\n",
    "pos_reviews =os.listdir(path_pos)\n",
    "neg_reviews =os.listdir(path_neg)"
   ]
  },
  {
   "cell_type": "code",
   "execution_count": 22,
   "id": "77498774",
   "metadata": {},
   "outputs": [
    {
     "data": {
      "text/html": [
       "<div>\n",
       "<style scoped>\n",
       "    .dataframe tbody tr th:only-of-type {\n",
       "        vertical-align: middle;\n",
       "    }\n",
       "\n",
       "    .dataframe tbody tr th {\n",
       "        vertical-align: top;\n",
       "    }\n",
       "\n",
       "    .dataframe thead th {\n",
       "        text-align: right;\n",
       "    }\n",
       "</style>\n",
       "<table border=\"1\" class=\"dataframe\">\n",
       "  <thead>\n",
       "    <tr style=\"text-align: right;\">\n",
       "      <th></th>\n",
       "      <th>Datetime</th>\n",
       "      <th>Tweet Id</th>\n",
       "      <th>Text</th>\n",
       "      <th>Username</th>\n",
       "    </tr>\n",
       "  </thead>\n",
       "  <tbody>\n",
       "    <tr>\n",
       "      <th>0</th>\n",
       "      <td>2022-11-16 23:59:43+00:00</td>\n",
       "      <td>1593031089961869315</td>\n",
       "      <td>@Guy_Smiley_73 @houndfucker @Indiekindoflife @...</td>\n",
       "      <td>julinnette1</td>\n",
       "    </tr>\n",
       "    <tr>\n",
       "      <th>1</th>\n",
       "      <td>2022-11-16 23:59:33+00:00</td>\n",
       "      <td>1593031045934301185</td>\n",
       "      <td>GL:Well, don’t commit suicide.「自殺しないことです」(S1E1)</td>\n",
       "      <td>Sherlock_meigen</td>\n",
       "    </tr>\n",
       "    <tr>\n",
       "      <th>2</th>\n",
       "      <td>2022-11-16 23:59:20+00:00</td>\n",
       "      <td>1593030994600538112</td>\n",
       "      <td>@RealGomezMedia @iblockliberals @WickedR3coil ...</td>\n",
       "      <td>SIRLIGHTANGEL</td>\n",
       "    </tr>\n",
       "    <tr>\n",
       "      <th>3</th>\n",
       "      <td>2022-11-16 23:59:06+00:00</td>\n",
       "      <td>1593030935087575041</td>\n",
       "      <td>@Brjl_ おはよ！</td>\n",
       "      <td>Suicide429</td>\n",
       "    </tr>\n",
       "    <tr>\n",
       "      <th>4</th>\n",
       "      <td>2022-11-16 23:59:04+00:00</td>\n",
       "      <td>1593030924585021440</td>\n",
       "      <td>whilst i do not encourage misogyny: misandry k...</td>\n",
       "      <td>darthpilled</td>\n",
       "    </tr>\n",
       "  </tbody>\n",
       "</table>\n",
       "</div>"
      ],
      "text/plain": [
       "                    Datetime             Tweet Id  \\\n",
       "0  2022-11-16 23:59:43+00:00  1593031089961869315   \n",
       "1  2022-11-16 23:59:33+00:00  1593031045934301185   \n",
       "2  2022-11-16 23:59:20+00:00  1593030994600538112   \n",
       "3  2022-11-16 23:59:06+00:00  1593030935087575041   \n",
       "4  2022-11-16 23:59:04+00:00  1593030924585021440   \n",
       "\n",
       "                                                Text         Username  \n",
       "0  @Guy_Smiley_73 @houndfucker @Indiekindoflife @...      julinnette1  \n",
       "1    GL:Well, don’t commit suicide.「自殺しないことです」(S1E1)  Sherlock_meigen  \n",
       "2  @RealGomezMedia @iblockliberals @WickedR3coil ...    SIRLIGHTANGEL  \n",
       "3                                        @Brjl_ おはよ！       Suicide429  \n",
       "4  whilst i do not encourage misogyny: misandry k...      darthpilled  "
      ]
     },
     "execution_count": 22,
     "metadata": {},
     "output_type": "execute_result"
    }
   ],
   "source": [
    "df = pd.read_csv(path,sep=',',encoding='utf-8')\n",
    "df.head()"
   ]
  },
  {
   "cell_type": "code",
   "execution_count": 27,
   "id": "f0906ccc",
   "metadata": {},
   "outputs": [
    {
     "name": "stdout",
     "output_type": "stream",
     "text": [
      "@Guy_Smiley_73 @houndfucker @Indiekindoflife @AlessandraVaron But they do! They’re the reason that the suicide rate in the lgbt community is higher and that’s just a fact\n"
     ]
    }
   ],
   "source": [
    "test=df.loc[0]['Text']\n",
    "print(test)"
   ]
  },
  {
   "cell_type": "code",
   "execution_count": 33,
   "id": "3fa43a36",
   "metadata": {},
   "outputs": [],
   "source": [
    "def Predire(text):\n",
    "    '''\n",
    "    if type=='adverbe':\n",
    "        Ltag=['RB','RBR','RBS','RBW']\n",
    "        senti='r'\n",
    "    elif type=='verbe':\n",
    "        Ltag=['VB','VBD','VBG','VBN','VBP','VBZ']\n",
    "        senti='v'\n",
    "    '''\n",
    "\n",
    "\n",
    "    texte=word_tokenize(text)\n",
    "    L=set()\n",
    "    tag=tagger.tag(texte)\n",
    "\n",
    "    for t in tag:\n",
    "        L.add(t[0])\n",
    "        #print(t[0])\n",
    "\n",
    "    pos_score=0\n",
    "    neg_score=0\n",
    "\n",
    "    for adv in L:\n",
    "        adv_senti = list(swn.senti_synsets(adv))\n",
    "        if len(adv_senti)!=0:\n",
    "            #print(adv_senti[0])\n",
    "            pos_score+=adv_senti[0].pos_score()\n",
    "            neg_score+=adv_senti[0].neg_score()\n",
    "\n",
    "\n",
    "    res=''\n",
    "    if pos_score > neg_score:\n",
    "        res='pos'\n",
    "    elif pos_score < neg_score:\n",
    "        res='neg'\n",
    "\n",
    "    return res,pos_score,neg_score"
   ]
  },
  {
   "cell_type": "code",
   "execution_count": 34,
   "id": "a791f20e",
   "metadata": {},
   "outputs": [
    {
     "data": {
      "text/plain": [
       "('pos', 1.375, 0.25)"
      ]
     },
     "execution_count": 34,
     "metadata": {},
     "output_type": "execute_result"
    }
   ],
   "source": [
    "Predire(test)"
   ]
  },
  {
   "cell_type": "code",
   "execution_count": null,
   "id": "047d5f03",
   "metadata": {},
   "outputs": [],
   "source": [
    "for i in range(10):\n",
    "    print('--------------')\n",
    "    print(df.loc[i]['Text'])\n",
    "    print(Predire(df.loc[i]['Text']))\n",
    "    print('--------------')"
   ]
  },
  {
   "cell_type": "code",
   "execution_count": 35,
   "id": "3494522a",
   "metadata": {},
   "outputs": [
    {
     "name": "stdout",
     "output_type": "stream",
     "text": [
      "total=  18992\n",
      "7117 6991 4884\n"
     ]
    }
   ],
   "source": [
    "pos=0\n",
    "neg=0\n",
    "neutre=0\n",
    "for index,row in df.iterrows():\n",
    "    if Predire(row['Text'])[0] == 'pos':\n",
    "        pos+=1\n",
    "    elif Predire(row['Text'])[0] == 'neg':\n",
    "        neg+=1\n",
    "    else:\n",
    "        neutre+=1\n",
    "\n",
    "print('total= ', len(df))\n",
    "print(pos,neg,neutre)"
   ]
  },
  {
   "cell_type": "markdown",
   "id": "3e724b05",
   "metadata": {},
   "source": [
    "# Valder"
   ]
  },
  {
   "cell_type": "markdown",
   "id": "82f538b7",
   "metadata": {},
   "source": [
    "Lien pour les 3 modèles: \n",
    "\n",
    "https://towardsdatascience.com/the-most-favorable-pre-trained-sentiment-classifiers-in-python-9107c06442c6"
   ]
  },
  {
   "cell_type": "code",
   "execution_count": 17,
   "id": "03a281fa",
   "metadata": {},
   "outputs": [],
   "source": [
    "#install vaderSentimentlibrary\n",
    "#!pip install vaderSentiment\n",
    "\n",
    "#import the library\n",
    "from vaderSentiment.vaderSentiment import SentimentIntensityAnalyzer\n"
   ]
  },
  {
   "cell_type": "code",
   "execution_count": 18,
   "id": "c67e7f95",
   "metadata": {},
   "outputs": [],
   "source": [
    "#calculate the negative, positive, neutral and compound scores, plus verbal evaluation\n",
    "def sentiment_vader(sentence):\n",
    "\n",
    "    # Create a SentimentIntensityAnalyzer object.\n",
    "    sid_obj = SentimentIntensityAnalyzer()\n",
    "\n",
    "    sentiment_dict = sid_obj.polarity_scores(sentence)\n",
    "    negative = sentiment_dict['neg']\n",
    "    neutral = sentiment_dict['neu']\n",
    "    positive = sentiment_dict['pos']\n",
    "    compound = sentiment_dict['compound']\n",
    "\n",
    "    if sentiment_dict['compound'] <= - 0.05 :\n",
    "        overall_sentiment = \"Negative\"\n",
    "        \n",
    "    elif sentiment_dict['compound'] >= 0.05 :\n",
    "        overall_sentiment = \"Positive\"   \n",
    "\n",
    "    else :\n",
    "        overall_sentiment = \"Neutral\"\n",
    "  \n",
    "    return negative, neutral, positive, compound, overall_sentiment"
   ]
  },
  {
   "cell_type": "code",
   "execution_count": 26,
   "id": "a1ed3e95",
   "metadata": {},
   "outputs": [
    {
     "name": "stdout",
     "output_type": "stream",
     "text": [
      "@Guy_Smiley_73 @houndfucker @Indiekindoflife @AlessandraVaron But they do! They’re the reason that the suicide rate in the lgbt community is higher and that’s just a fact\n"
     ]
    },
    {
     "data": {
      "text/plain": [
       "(0.214, 0.786, 0.0, -0.8197, 'Negative')"
      ]
     },
     "execution_count": 26,
     "metadata": {},
     "output_type": "execute_result"
    }
   ],
   "source": [
    "print(df.loc[0,'Text'])\n",
    "sentiment_vader(df.loc[0,'Text'])"
   ]
  },
  {
   "cell_type": "code",
   "execution_count": 37,
   "id": "c6333a22",
   "metadata": {},
   "outputs": [
    {
     "name": "stdout",
     "output_type": "stream",
     "text": [
      "total=  18992\n",
      "2470 12563 3959\n"
     ]
    }
   ],
   "source": [
    "pos=0\n",
    "neg=0\n",
    "neutre=0\n",
    "for index,row in df.iterrows():\n",
    "    if sentiment_vader(row['Text'])[4] == 'Positive':\n",
    "        pos+=1\n",
    "    elif sentiment_vader(row['Text'])[4] == 'Negative':\n",
    "        neg+=1\n",
    "    else:\n",
    "        neutre+=1\n",
    "\n",
    "print('total= ', len(df))\n",
    "print(pos,neg,neutre)"
   ]
  },
  {
   "cell_type": "markdown",
   "id": "bb0affd0",
   "metadata": {},
   "source": [
    "# TextBlob"
   ]
  },
  {
   "cell_type": "code",
   "execution_count": 41,
   "id": "664b03d6",
   "metadata": {},
   "outputs": [],
   "source": [
    "# install textblob\n",
    "#pip install textblob\n",
    "\n",
    "# import it\n",
    "from textblob import TextBlob"
   ]
  },
  {
   "cell_type": "code",
   "execution_count": 42,
   "id": "a60f2628",
   "metadata": {},
   "outputs": [],
   "source": [
    "#call the classifier\n",
    "def sentiment_texblob(row):\n",
    "  \n",
    "    classifier = TextBlob(row)\n",
    "    polarity = classifier.sentiment.polarity #[-1,1] emotions\n",
    "    subjectivity = classifier.sentiment.subjectivity # objectif [0,1] subjectif\n",
    "    \n",
    "    return polarity,subjectivity\n"
   ]
  },
  {
   "cell_type": "code",
   "execution_count": 44,
   "id": "78959f82",
   "metadata": {},
   "outputs": [
    {
     "name": "stdout",
     "output_type": "stream",
     "text": [
      "@Guy_Smiley_73 @houndfucker @Indiekindoflife @AlessandraVaron But they do! They’re the reason that the suicide rate in the lgbt community is higher and that’s just a fact\n"
     ]
    },
    {
     "data": {
      "text/plain": [
       "(0.25, 0.5)"
      ]
     },
     "execution_count": 44,
     "metadata": {},
     "output_type": "execute_result"
    }
   ],
   "source": [
    "print(df.loc[0,'Text'])\n",
    "sentiment_texblob(df.loc[0,'Text'])"
   ]
  },
  {
   "cell_type": "markdown",
   "id": "4ca41084",
   "metadata": {},
   "source": [
    "# Happy Transormer"
   ]
  },
  {
   "cell_type": "code",
   "execution_count": 46,
   "id": "c56c90c8",
   "metadata": {},
   "outputs": [],
   "source": [
    "#!pip install happytransformer\n",
    "\n",
    "from happytransformer import HappyTextClassification"
   ]
  },
  {
   "cell_type": "code",
   "execution_count": 47,
   "id": "4384213a",
   "metadata": {},
   "outputs": [
    {
     "data": {
      "application/vnd.jupyter.widget-view+json": {
       "model_id": "6991ab373c3a4acf90a1a9dc55215b64",
       "version_major": 2,
       "version_minor": 0
      },
      "text/plain": [
       "Downloading:   0%|          | 0.00/629 [00:00<?, ?B/s]"
      ]
     },
     "metadata": {},
     "output_type": "display_data"
    },
    {
     "data": {
      "application/vnd.jupyter.widget-view+json": {
       "model_id": "1af27e5cb6a745aa978f0a2f422a6710",
       "version_major": 2,
       "version_minor": 0
      },
      "text/plain": [
       "Downloading:   0%|          | 0.00/268M [00:00<?, ?B/s]"
      ]
     },
     "metadata": {},
     "output_type": "display_data"
    },
    {
     "data": {
      "application/vnd.jupyter.widget-view+json": {
       "model_id": "bb41ba6eea584f9180ae5fa81454c5a5",
       "version_major": 2,
       "version_minor": 0
      },
      "text/plain": [
       "Downloading:   0%|          | 0.00/48.0 [00:00<?, ?B/s]"
      ]
     },
     "metadata": {},
     "output_type": "display_data"
    },
    {
     "data": {
      "application/vnd.jupyter.widget-view+json": {
       "model_id": "a520ff82ff4b412ab49c735edc4878f2",
       "version_major": 2,
       "version_minor": 0
      },
      "text/plain": [
       "Downloading:   0%|          | 0.00/232k [00:00<?, ?B/s]"
      ]
     },
     "metadata": {},
     "output_type": "display_data"
    },
    {
     "name": "stderr",
     "output_type": "stream",
     "text": [
      "12/08/2022 18:28:27 - INFO - happytransformer.happy_transformer -   Using model: cpu\n"
     ]
    }
   ],
   "source": [
    "happy_tc = HappyTextClassification(model_type=\"DISTILBERT\", model_name=\"distilbert-base-uncased-finetuned-sst-2-english\", num_labels=2)"
   ]
  },
  {
   "cell_type": "code",
   "execution_count": 55,
   "id": "41ba4cd3",
   "metadata": {},
   "outputs": [
    {
     "name": "stdout",
     "output_type": "stream",
     "text": [
      "@Guy_Smiley_73 @houndfucker @Indiekindoflife @AlessandraVaron But they do! They’re the reason that the suicide rate in the lgbt community is higher and that’s just a fact\n"
     ]
    },
    {
     "data": {
      "text/plain": [
       "TextClassificationResult(label='NEGATIVE', score=0.9565466642379761)"
      ]
     },
     "execution_count": 55,
     "metadata": {},
     "output_type": "execute_result"
    }
   ],
   "source": [
    "print(df.loc[0,'Text'])\n",
    "happy_tc.classify_text(df.loc[0,'Text'])"
   ]
  },
  {
   "cell_type": "code",
   "execution_count": 57,
   "id": "fd9e75da",
   "metadata": {},
   "outputs": [
    {
     "name": "stdout",
     "output_type": "stream",
     "text": [
      "total=  18992\n",
      "2208 16784 0\n"
     ]
    }
   ],
   "source": [
    "pos=0\n",
    "neg=0\n",
    "neutre=0\n",
    "for index,row in df.iterrows():   \n",
    "    if happy_tc.classify_text(row['Text']).label == 'NEGATIVE':\n",
    "        neg+=1\n",
    "    elif happy_tc.classify_text(row['Text']).label == 'POSITIVE':\n",
    "        pos+=1\n",
    "    else:\n",
    "        neutre+=1\n",
    "\n",
    "print('total= ', len(df))\n",
    "print(pos,neg,neutre)"
   ]
  },
  {
   "cell_type": "markdown",
   "id": "7188373f",
   "metadata": {},
   "source": [
    "# Comparaison des modèles"
   ]
  },
  {
   "cell_type": "code",
   "execution_count": null,
   "id": "d9426979",
   "metadata": {},
   "outputs": [],
   "source": []
  }
 ],
 "metadata": {
  "kernelspec": {
   "display_name": "Python 3 (ipykernel)",
   "language": "python",
   "name": "python3"
  },
  "language_info": {
   "codemirror_mode": {
    "name": "ipython",
    "version": 3
   },
   "file_extension": ".py",
   "mimetype": "text/x-python",
   "name": "python",
   "nbconvert_exporter": "python",
   "pygments_lexer": "ipython3",
   "version": "3.9.13"
  }
 },
 "nbformat": 4,
 "nbformat_minor": 5
}
